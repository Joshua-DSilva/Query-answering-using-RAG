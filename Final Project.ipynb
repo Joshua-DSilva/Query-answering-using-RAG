{
  "cells": [
    {
      "cell_type": "code",
      "execution_count": 1,
      "metadata": {
        "colab": {
          "base_uri": "https://localhost:8080/"
        },
        "id": "Z9opUR_NKfsB",
        "outputId": "6fb61cc2-99e6-4959-8fae-92a327799fa1"
      },
      "outputs": [
        {
          "name": "stdout",
          "output_type": "stream",
          "text": [
            "Collecting bs4\n",
            "  Downloading bs4-0.0.2-py2.py3-none-any.whl (1.2 kB)\n",
            "Requirement already satisfied: beautifulsoup4 in /usr/local/lib/python3.10/dist-packages (from bs4) (4.12.3)\n",
            "Requirement already satisfied: soupsieve>1.2 in /usr/local/lib/python3.10/dist-packages (from beautifulsoup4->bs4) (2.5)\n",
            "Installing collected packages: bs4\n",
            "Successfully installed bs4-0.0.2\n"
          ]
        }
      ],
      "source": [
        "pip install bs4"
      ]
    },
    {
      "cell_type": "code",
      "execution_count": 2,
      "metadata": {
        "colab": {
          "base_uri": "https://localhost:8080/"
        },
        "id": "L-UBaCbOKpXV",
        "outputId": "000da709-5fd5-4ece-e55f-c38876311300"
      },
      "outputs": [
        {
          "name": "stdout",
          "output_type": "stream",
          "text": [
            "\u001b[31mERROR: Could not find a version that satisfies the requirement urllib (from versions: none)\u001b[0m\u001b[31m\n",
            "\u001b[0m\u001b[31mERROR: No matching distribution found for urllib\u001b[0m\u001b[31m\n",
            "\u001b[0m"
          ]
        }
      ],
      "source": [
        "pip install urllib"
      ]
    },
    {
      "cell_type": "code",
      "execution_count": 4,
      "metadata": {
        "id": "lDaTblFTKrT7"
      },
      "outputs": [],
      "source": [
        "import urllib.request\n",
        "from bs4 import BeautifulSoup\n",
        "question = \"What are the innovative and impactful technologies in each of the 8 key areas for proactive provision of carbon-neutral technologies, and how are they related to fundamental technologies?\"\n"
      ]
    },
    {
      "cell_type": "markdown",
      "metadata": {
        "id": "aIFXanjkcZX2"
      },
      "source": [
        "#Extracting top 20 results from google search"
      ]
    },
    {
      "cell_type": "code",
      "execution_count": 29,
      "metadata": {
        "colab": {
          "base_uri": "https://localhost:8080/"
        },
        "id": "anL_lhCYKthi",
        "outputId": "c50997d0-1e9b-4494-f3f7-4d194f45ee2b"
      },
      "outputs": [
        {
          "name": "stdout",
          "output_type": "stream",
          "text": [
            "Result 1: https://maps.google.com/maps?q=What+are+the+innovative+and+impactful+technologies+in+each+of+the+8+key+areas+for+proactive+provision+of+carbon-neutral+technologies,+and+how+are+they+related+to+fundamental+technologies%3F&num=15&um=1&ie=UTF-8&ved=1t:200713&ictx=111\n",
            "Result 2: https://www.google.com/search?q=What+are+the+innovative+and+impactful+technologies+in+each+of+the+8+key+areas+for+proactive+provision+of+carbon-neutral+technologies,+and+how+are+they+related+to+fundamental+technologies%3F&num=15&sca_esv=3d20c04c2adbaa4c&ie=UTF-8&tbm=shop&source=lnms&ved=1t:200713&ictx=111\n",
            "Result 3: https://link.springer.com/article/10.1007/s10311-022-01435-8\n",
            "Result 4: https://www.weforum.org/agenda/2023/06/these-new-technologies-will-accelerate-the-transition-to-net-zero/\n",
            "Result 5: https://www.weforum.org/agenda/2022/05/17-ways-technology-could-change-the-world-by-2027/\n",
            "Result 6: https://www.weforum.org/agenda/2024/02/ai-climate-adaptation-technologies/\n",
            "Result 7: https://www.weforum.org/agenda/2022/05/how-digital-solutions-can-reduce-global-emissions/\n",
            "Result 8: https://www.weforum.org/publications/net-zero-industry-tracker-2023/in-full/cross-industry-findings/\n",
            "Result 9: https://www.sciencedirect.com/science/article/abs/pii/S0313592623000115\n",
            "Result 10: https://www.perchenergy.com/blog/innovation/climate-technology-solving-environmental-challenges-examples\n",
            "Result 11: https://www.oecd.org/environment/cc/g20-climate/collapsecontents/Imperial-College-London-innovation-for-the-low-carbon-economy.pdf\n",
            "Result 12: https://www.ncbi.nlm.nih.gov/pmc/articles/PMC8633420/\n",
            "Result 13: https://www.iea.org/commentaries/5-ways-big-tech-could-have-big-impacts-on-clean-energy-transitions\n",
            "Result 14: https://www.airswift.com/blog/climate-tech\n",
            "Result 15: https://www.accenture.com/content/dam/accenture/final/a-com-migration/pdf/pdf-177/accenture-tech-sustainability-uniting-sustainability-and-technology.pdf\n",
            "Result 16: https://www.linkedin.com/pulse/top-10-technologies-shape-future-business-daniel-bron-\n",
            "Result 17: https://op.europa.eu/en/publication-detail/-/publication/2f1ec1d2-1173-11ee-b12e-01aa75ed71a1\n",
            "Result 18: https://www2.deloitte.com/uk/en/insights/topics/strategy/low-carbon-future.html\n",
            "Result 19: https://www.plugandplaytechcenter.com/resources/startups-leveraging-technology-to-achieve-carbon-neutrality/\n",
            "Result 20: https://www.whitehouse.gov/wp-content/uploads/2021/10/us-long-term-strategy.pdf\n",
            "Result 21: https://unfccc.int/resource/docs/publications/tech_for_adaptation_06.pdf\n",
            "Result 22: https://support.google.com/websearch?p=ws_settings_location&hl=en\n",
            "Result 23: https://accounts.google.com/ServiceLogin?continue=https://www.google.com/search%3Fq%3DWhat%2Bare%2Bthe%2Binnovative%2Band%2Bimpactful%2Btechnologies%2Bin%2Beach%2Bof%2Bthe%2B8%2Bkey%2Bareas%2Bfor%2Bproactive%2Bprovision%2Bof%2Bcarbon-neutral%2Btechnologies,%2Band%2Bhow%2Bare%2Bthey%2Brelated%2Bto%2Bfundamental%2Btechnologies%253F%26num%3D15&hl=en\n"
          ]
        }
      ],
      "source": [
        "import requests\n",
        "from bs4 import BeautifulSoup\n",
        "from urllib.parse import unquote\n",
        "\n",
        "def get_google_search_results(query, num_results=10):\n",
        "    search_results = []\n",
        "\n",
        "    # Encode the query\n",
        "    encoded_query = requests.utils.quote(query)\n",
        "\n",
        "    # Construct the Google search URL\n",
        "    search_url = f\"https://www.google.com/search?q={encoded_query}&num={num_results}\"\n",
        "\n",
        "    # Make the request to Google\n",
        "    response = requests.get(search_url)\n",
        "\n",
        "    # Parse the HTML content\n",
        "    soup = BeautifulSoup(response.text, 'html.parser')\n",
        "\n",
        "    # Extract search result links\n",
        "    result_links = soup.find_all('a', href=True)\n",
        "\n",
        "    for link in result_links:\n",
        "        href = link['href']\n",
        "        if 'url?q=' in href and not 'webcache' in href:\n",
        "            url = unquote(href.split('url?q=')[1].split('&')[0])\n",
        "\n",
        "            # Check if the URL is a direct link or a Google search link\n",
        "            if url.startswith('http'):\n",
        "                search_results.append(url)\n",
        "            else:\n",
        "                # If it's a Google search link, construct the direct link\n",
        "                search_results.append(f\"https://www.google.com{url}\")\n",
        "\n",
        "    return search_results\n",
        "\n",
        "# Example usage:\n",
        "search_query = question\n",
        "google_search_results = get_google_search_results(search_query, num_results=15)\n",
        "\n",
        "# Print the top 15 search results\n",
        "for i, result in enumerate(google_search_results, start=1):\n",
        "    print(f\"Result {i}: {result}\")\n"
      ]
    },
    {
      "cell_type": "code",
      "execution_count": null,
      "metadata": {
        "colab": {
          "base_uri": "https://localhost:8080/"
        },
        "id": "2PvfQukntLCa",
        "outputId": "cef39511-5516-4569-a60b-c60b44009816"
      },
      "outputs": [
        {
          "name": "stdout",
          "output_type": "stream",
          "text": [
            "https://www.google.com/search?q=What+are+the+average+prices+of+water+electrolysis+technologies+in+China%2C+the+United+States%2C+and+Korea%3F+give+numerical+values.\n"
          ]
        }
      ],
      "source": [
        "import urllib.parse\n",
        "\n",
        "def create_link(question, base_url=\"https://www.google.com/search\"):\n",
        "    # Convert the question into a URL-friendly format\n",
        "    url_friendly_question = urllib.parse.quote_plus(question)\n",
        "\n",
        "    # Create the full URL\n",
        "    full_url = f\"{base_url}?q={url_friendly_question}\"\n",
        "\n",
        "    return full_url\n",
        "\n",
        "link = create_link(question)\n",
        "print(link)\n"
      ]
    },
    {
      "cell_type": "markdown",
      "metadata": {
        "id": "99MvDOQ_cO77"
      },
      "source": [
        "#Extracting top 10 relevant urls using Google json search API\n",
        "\n",
        "> Add blockquote\n",
        "\n",
        "> Add blockquote\n",
        "\n",
        "> Add blockquote\n",
        "\n",
        "> Add blockquote\n",
        "\n",
        "\n",
        "\n",
        "\n",
        "\n",
        "\n",
        "\n"
      ]
    },
    {
      "cell_type": "code",
      "execution_count": 5,
      "metadata": {
        "colab": {
          "base_uri": "https://localhost:8080/"
        },
        "id": "f29aZuKJAU75",
        "outputId": "cf37dfa9-61a8-451b-ba8b-1e0d531fe41b"
      },
      "outputs": [
        {
          "name": "stdout",
          "output_type": "stream",
          "text": [
            "https://www.oecd.org/education/ceri/GEIS2016-Background-document.pdf\n",
            "https://tech.ed.gov/files/2017/01/NETP17.pdf\n",
            "https://research-and-innovation.ec.europa.eu/document/download/5d031a89-7e76-45b2-83f2-ae85e7238791_en\n",
            "https://link.springer.com/article/10.1007/s10311-022-01435-8\n",
            "https://www.ojp.gov/pdffiles1/nij/grants/251140.pdf\n",
            "https://www.ncbi.nlm.nih.gov/pmc/articles/PMC9601636/\n",
            "https://www.apple.com/environment/pdf/Apple_Environmental_Progress_Report_2022.pdf\n",
            "https://www.whitehouse.gov/briefing-room/statements-releases/2021/06/08/fact-sheet-biden-harris-administration-announces-supply-chain-disruptions-task-force-to-address-short-term-supply-chain-discontinuities/\n",
            "https://www.europarl.europa.eu/RegData/etudes/STUD/2020/634452/EPRS_STU(2020)634452_EN.pdf\n",
            "https://www.weforum.org/agenda/2022/05/17-ways-technology-could-change-the-world-by-2027/\n"
          ]
        }
      ],
      "source": [
        "import requests\n",
        "import json\n",
        "\n",
        "def google_search(search_term, api_key, cse_id, **kwargs):\n",
        "    service_url = 'https://www.googleapis.com/customsearch/v1'\n",
        "    params = {\n",
        "        'q': search_term,\n",
        "        'key': api_key,\n",
        "        'cx': cse_id,\n",
        "    }\n",
        "    params.update(kwargs)\n",
        "    response = requests.get(service_url, params=params)\n",
        "    return response.json()\n",
        "\n",
        "# replace with your own API key and Programmable Search Engine ID\n",
        "api_key = \"id\"\n",
        "cse_id = \"your id\"\n",
        "google_results=[]\n",
        "results = google_search(\n",
        "    question, api_key, cse_id, num=10)\n",
        "for result in results['items']:\n",
        "    google_results.append(result['link'])\n",
        "    print(result['link'])\n"
      ]
    },
    {
      "cell_type": "code",
      "execution_count": null,
      "metadata": {
        "colab": {
          "base_uri": "https://localhost:8080/"
        },
        "id": "1rXuKgvmeSaT",
        "outputId": "2385487d-541d-432c-ec07-fb9c9d51f173"
      },
      "outputs": [
        {
          "name": "stdout",
          "output_type": "stream",
          "text": [
            "https://www.oecd.org/education/ceri/GEIS2016-Background-document.pdf\n",
            "https://tech.ed.gov/files/2017/01/NETP17.pdf\n",
            "https://link.springer.com/article/10.1007/s10311-022-01435-8\n",
            "https://www.ojp.gov/pdffiles1/nij/grants/251140.pdf\n",
            "https://www.ncbi.nlm.nih.gov/pmc/articles/PMC9601636/\n",
            "https://www.apple.com/environment/pdf/Apple_Environmental_Progress_Report_2022.pdf\n",
            "https://www.whitehouse.gov/briefing-room/statements-releases/2021/06/08/fact-sheet-biden-harris-administration-announces-supply-chain-disruptions-task-force-to-address-short-term-supply-chain-discontinuities/\n",
            "https://www.europarl.europa.eu/RegData/etudes/STUD/2020/634452/EPRS_STU(2020)634452_EN.pdf\n",
            "https://joint-research-centre.ec.europa.eu/jrc-news-and-updates/twin-green-digital-transition-how-sustainable-digital-technologies-could-enable-carbon-neutral-eu-2022-06-29_en\n",
            "https://www.weforum.org/agenda/2022/05/17-ways-technology-could-change-the-world-by-2027/\n"
          ]
        }
      ],
      "source": [
        "for x in google_results:\n",
        "  print(x)"
      ]
    },
    {
      "cell_type": "code",
      "execution_count": null,
      "metadata": {
        "colab": {
          "base_uri": "https://localhost:8080/"
        },
        "id": "YSROnPNbvWc0",
        "outputId": "cbb7b16e-92ec-4b12-ea01-8740cb48b63e"
      },
      "outputs": [
        {
          "name": "stdout",
          "output_type": "stream",
          "text": [
            "['https://www.oecd.org/education/ceri/GEIS2016-Background-document.pdf', 'https://tech.ed.gov/files/2017/01/NETP17.pdf', 'https://link.springer.com/article/10.1007/s10311-022-01435-8', 'https://www.ojp.gov/pdffiles1/nij/grants/251140.pdf', 'https://www.ncbi.nlm.nih.gov/pmc/articles/PMC9601636/', 'https://www.apple.com/environment/pdf/Apple_Environmental_Progress_Report_2022.pdf', 'https://www.whitehouse.gov/briefing-room/statements-releases/2021/06/08/fact-sheet-biden-harris-administration-announces-supply-chain-disruptions-task-force-to-address-short-term-supply-chain-discontinuities/', 'https://www.europarl.europa.eu/RegData/etudes/STUD/2020/634452/EPRS_STU(2020)634452_EN.pdf', 'https://joint-research-centre.ec.europa.eu/jrc-news-and-updates/twin-green-digital-transition-how-sustainable-digital-technologies-could-enable-carbon-neutral-eu-2022-06-29_en', 'https://www.weforum.org/agenda/2022/05/17-ways-technology-could-change-the-world-by-2027/']\n"
          ]
        }
      ],
      "source": [
        "print(google_results)"
      ]
    },
    {
      "cell_type": "code",
      "execution_count": 6,
      "metadata": {
        "colab": {
          "base_uri": "https://localhost:8080/"
        },
        "id": "WfFYeBfXMutf",
        "outputId": "de7956a8-256f-403e-a413-2399790f9aed"
      },
      "outputs": [
        {
          "name": "stdout",
          "output_type": "stream",
          "text": [
            "Collecting sumy\n",
            "  Downloading sumy-0.11.0-py2.py3-none-any.whl (97 kB)\n",
            "\u001b[?25l     \u001b[90m━━━━━━━━━━━━━━━━━━━━━━━━━━━━━━━━━━━━━━━━\u001b[0m \u001b[32m0.0/97.3 kB\u001b[0m \u001b[31m?\u001b[0m eta \u001b[36m-:--:--\u001b[0m\r\u001b[2K     \u001b[91m━━━━━━━━━━━━━━━━━━━━━━━━━━━━━━━━━━━━━\u001b[0m\u001b[91m╸\u001b[0m\u001b[90m━━\u001b[0m \u001b[32m92.2/97.3 kB\u001b[0m \u001b[31m3.1 MB/s\u001b[0m eta \u001b[36m0:00:01\u001b[0m\r\u001b[2K     \u001b[90m━━━━━━━━━━━━━━━━━━━━━━━━━━━━━━━━━━━━━━━━\u001b[0m \u001b[32m97.3/97.3 kB\u001b[0m \u001b[31m2.4 MB/s\u001b[0m eta \u001b[36m0:00:00\u001b[0m\n",
            "\u001b[?25hCollecting docopt<0.7,>=0.6.1 (from sumy)\n",
            "  Downloading docopt-0.6.2.tar.gz (25 kB)\n",
            "  Preparing metadata (setup.py) ... \u001b[?25l\u001b[?25hdone\n",
            "Collecting breadability>=0.1.20 (from sumy)\n",
            "  Downloading breadability-0.1.20.tar.gz (32 kB)\n",
            "  Preparing metadata (setup.py) ... \u001b[?25l\u001b[?25hdone\n",
            "Requirement already satisfied: requests>=2.7.0 in /usr/local/lib/python3.10/dist-packages (from sumy) (2.31.0)\n",
            "Collecting pycountry>=18.2.23 (from sumy)\n",
            "  Downloading pycountry-23.12.11-py3-none-any.whl (6.2 MB)\n",
            "\u001b[2K     \u001b[90m━━━━━━━━━━━━━━━━━━━━━━━━━━━━━━━━━━━━━━━━\u001b[0m \u001b[32m6.2/6.2 MB\u001b[0m \u001b[31m16.7 MB/s\u001b[0m eta \u001b[36m0:00:00\u001b[0m\n",
            "\u001b[?25hRequirement already satisfied: nltk>=3.0.2 in /usr/local/lib/python3.10/dist-packages (from sumy) (3.8.1)\n",
            "Requirement already satisfied: chardet in /usr/local/lib/python3.10/dist-packages (from breadability>=0.1.20->sumy) (5.2.0)\n",
            "Requirement already satisfied: lxml>=2.0 in /usr/local/lib/python3.10/dist-packages (from breadability>=0.1.20->sumy) (4.9.4)\n",
            "Requirement already satisfied: click in /usr/local/lib/python3.10/dist-packages (from nltk>=3.0.2->sumy) (8.1.7)\n",
            "Requirement already satisfied: joblib in /usr/local/lib/python3.10/dist-packages (from nltk>=3.0.2->sumy) (1.3.2)\n",
            "Requirement already satisfied: regex>=2021.8.3 in /usr/local/lib/python3.10/dist-packages (from nltk>=3.0.2->sumy) (2023.12.25)\n",
            "Requirement already satisfied: tqdm in /usr/local/lib/python3.10/dist-packages (from nltk>=3.0.2->sumy) (4.66.2)\n",
            "Requirement already satisfied: charset-normalizer<4,>=2 in /usr/local/lib/python3.10/dist-packages (from requests>=2.7.0->sumy) (3.3.2)\n",
            "Requirement already satisfied: idna<4,>=2.5 in /usr/local/lib/python3.10/dist-packages (from requests>=2.7.0->sumy) (3.6)\n",
            "Requirement already satisfied: urllib3<3,>=1.21.1 in /usr/local/lib/python3.10/dist-packages (from requests>=2.7.0->sumy) (2.0.7)\n",
            "Requirement already satisfied: certifi>=2017.4.17 in /usr/local/lib/python3.10/dist-packages (from requests>=2.7.0->sumy) (2024.2.2)\n",
            "Building wheels for collected packages: breadability, docopt\n",
            "  Building wheel for breadability (setup.py) ... \u001b[?25l\u001b[?25hdone\n",
            "  Created wheel for breadability: filename=breadability-0.1.20-py2.py3-none-any.whl size=21693 sha256=f53808de20d20b13d80b739bf05591cd1660e0ca7c7959ba47c222c74db736c2\n",
            "  Stored in directory: /root/.cache/pip/wheels/64/22/90/b84fcc30e16598db20a0d41340616dbf9b1e82bbcc627b0b33\n",
            "  Building wheel for docopt (setup.py) ... \u001b[?25l\u001b[?25hdone\n",
            "  Created wheel for docopt: filename=docopt-0.6.2-py2.py3-none-any.whl size=13706 sha256=648a11cba65e54ddc2ea6824ba59bcb5497d37c0cf9c76dc2b7f0eb18343d66c\n",
            "  Stored in directory: /root/.cache/pip/wheels/fc/ab/d4/5da2067ac95b36618c629a5f93f809425700506f72c9732fac\n",
            "Successfully built breadability docopt\n",
            "Installing collected packages: docopt, pycountry, breadability, sumy\n",
            "Successfully installed breadability-0.1.20 docopt-0.6.2 pycountry-23.12.11 sumy-0.11.0\n"
          ]
        }
      ],
      "source": [
        "pip install sumy\n"
      ]
    },
    {
      "cell_type": "code",
      "execution_count": 7,
      "metadata": {
        "colab": {
          "base_uri": "https://localhost:8080/"
        },
        "id": "daYpJR-eM_ZK",
        "outputId": "42ae8a75-103f-4287-a6fb-78bf14d6516f"
      },
      "outputs": [
        {
          "name": "stderr",
          "output_type": "stream",
          "text": [
            "[nltk_data] Downloading package punkt to /root/nltk_data...\n",
            "[nltk_data]   Unzipping tokenizers/punkt.zip.\n"
          ]
        },
        {
          "data": {
            "text/plain": [
              "True"
            ]
          },
          "execution_count": 7,
          "metadata": {},
          "output_type": "execute_result"
        }
      ],
      "source": [
        "#importing library\n",
        "import pandas as pd\n",
        "import requests\n",
        "from bs4 import BeautifulSoup\n",
        "import numpy as np\n",
        "import nltk\n",
        "import string\n",
        "nltk.download('punkt')"
      ]
    },
    {
      "cell_type": "markdown",
      "metadata": {
        "id": "O9X4EBluo2rN"
      },
      "source": []
    },
    {
      "cell_type": "markdown",
      "metadata": {
        "id": "TcVia0opowkj"
      },
      "source": [
        "#1)Extracts 1000-1500 words from each URL, summarizes it to 500 words, stores the summary of each URL in a list, and then summarizes all the 500-word summaries into 1500-2000 words\n",
        "final_summary_text_1 (gives final summary of 1000-1500 words)\n",
        "\n"
      ]
    },
    {
      "cell_type": "code",
      "execution_count": 8,
      "metadata": {
        "colab": {
          "base_uri": "https://localhost:8080/"
        },
        "id": "iv2Rm-4cYQOZ",
        "outputId": "3a23c133-0a76-4f25-f75e-f4552b0aa63f"
      },
      "outputs": [
        {
          "name": "stdout",
          "output_type": "stream",
          "text": [
            "Requirement already satisfied: requests in /usr/local/lib/python3.10/dist-packages (2.31.0)\n",
            "Requirement already satisfied: charset-normalizer<4,>=2 in /usr/local/lib/python3.10/dist-packages (from requests) (3.3.2)\n",
            "Requirement already satisfied: idna<4,>=2.5 in /usr/local/lib/python3.10/dist-packages (from requests) (3.6)\n",
            "Requirement already satisfied: urllib3<3,>=1.21.1 in /usr/local/lib/python3.10/dist-packages (from requests) (2.0.7)\n",
            "Requirement already satisfied: certifi>=2017.4.17 in /usr/local/lib/python3.10/dist-packages (from requests) (2024.2.2)\n",
            "Requirement already satisfied: beautifulsoup4 in /usr/local/lib/python3.10/dist-packages (4.12.3)\n",
            "Requirement already satisfied: soupsieve>1.2 in /usr/local/lib/python3.10/dist-packages (from beautifulsoup4) (2.5)\n",
            "Collecting pdfminer.six\n",
            "  Downloading pdfminer.six-20231228-py3-none-any.whl (5.6 MB)\n",
            "\u001b[2K     \u001b[90m━━━━━━━━━━━━━━━━━━━━━━━━━━━━━━━━━━━━━━━━\u001b[0m \u001b[32m5.6/5.6 MB\u001b[0m \u001b[31m16.0 MB/s\u001b[0m eta \u001b[36m0:00:00\u001b[0m\n",
            "\u001b[?25hRequirement already satisfied: charset-normalizer>=2.0.0 in /usr/local/lib/python3.10/dist-packages (from pdfminer.six) (3.3.2)\n",
            "Requirement already satisfied: cryptography>=36.0.0 in /usr/local/lib/python3.10/dist-packages (from pdfminer.six) (42.0.5)\n",
            "Requirement already satisfied: cffi>=1.12 in /usr/local/lib/python3.10/dist-packages (from cryptography>=36.0.0->pdfminer.six) (1.16.0)\n",
            "Requirement already satisfied: pycparser in /usr/local/lib/python3.10/dist-packages (from cffi>=1.12->cryptography>=36.0.0->pdfminer.six) (2.22)\n",
            "Installing collected packages: pdfminer.six\n",
            "Successfully installed pdfminer.six-20231228\n"
          ]
        }
      ],
      "source": [
        "!pip install requests\n",
        "!pip install beautifulsoup4\n",
        "!pip install pdfminer.six\n"
      ]
    },
    {
      "cell_type": "code",
      "execution_count": 9,
      "metadata": {
        "id": "YzsGDOMffK9a"
      },
      "outputs": [],
      "source": [
        "from sumy.summarizers.lsa import LsaSummarizer\n",
        "\n"
      ]
    },
    {
      "cell_type": "code",
      "execution_count": 10,
      "metadata": {
        "colab": {
          "base_uri": "https://localhost:8080/"
        },
        "id": "519m36ODh06S",
        "outputId": "22703b17-6b8e-4049-bc23-320ca5352d63"
      },
      "outputs": [
        {
          "name": "stdout",
          "output_type": "stream",
          "text": [
            "Collecting PyPDF2\n",
            "  Downloading pypdf2-3.0.1-py3-none-any.whl (232 kB)\n",
            "\u001b[?25l     \u001b[90m━━━━━━━━━━━━━━━━━━━━━━━━━━━━━━━━━━━━━━━━\u001b[0m \u001b[32m0.0/232.6 kB\u001b[0m \u001b[31m?\u001b[0m eta \u001b[36m-:--:--\u001b[0m\r\u001b[2K     \u001b[91m━━━━━━━━━━━━━━━━━━━━━━━━━━━━━\u001b[0m\u001b[91m╸\u001b[0m\u001b[90m━━━━━━━━━━\u001b[0m \u001b[32m174.1/232.6 kB\u001b[0m \u001b[31m5.0 MB/s\u001b[0m eta \u001b[36m0:00:01\u001b[0m\r\u001b[2K     \u001b[90m━━━━━━━━━━━━━━━━━━━━━━━━━━━━━━━━━━━━━━━━\u001b[0m \u001b[32m232.6/232.6 kB\u001b[0m \u001b[31m4.3 MB/s\u001b[0m eta \u001b[36m0:00:00\u001b[0m\n",
            "\u001b[?25hInstalling collected packages: PyPDF2\n",
            "Successfully installed PyPDF2-3.0.1\n"
          ]
        }
      ],
      "source": [
        "pip install PyPDF2\n"
      ]
    },
    {
      "cell_type": "code",
      "execution_count": 27,
      "metadata": {
        "colab": {
          "base_uri": "https://localhost:8080/"
        },
        "id": "BuxGTF4oYSA6",
        "outputId": "f8c27165-771a-4806-ae1e-2834cb842ff7"
      },
      "outputs": [
        {
          "name": "stderr",
          "output_type": "stream",
          "text": [
            "/usr/local/lib/python3.10/dist-packages/sumy/summarizers/lsa.py:76: UserWarning: Number of words (6307) is lower than number of sentences (7258). LSA algorithm may not work properly.\n",
            "  warn(message % (words_count, sentences_count))\n"
          ]
        },
        {
          "name": "stdout",
          "output_type": "stream",
          "text": [
            "1500\n",
            "But talking to teachers gives one the opposite idea – that there are too many changes imposed on them without much consultation or the necessary preconditions for successfully implementing change. Assessing the success of companies in the private sector by profit, sales or growth is widely accepted: ultimately they have a single bottom line which prevails over any other objectives. Ideally, innovation indicators in the education sector should be linked to specific social and educational objectives such as learning outcomes, cost efficiency, equity or public satisfaction. Austria, Belgium Flemish Community, Czech Republic, Estonia, Finland, France, Germany, Italy, Netherlands, Norway, Portugal, Spain, Switzerland, and u nited Kingdom refer to REFLE x (2005). However, given that we cannot directly observe whether any of these changes are an “improvement”, it has had to depart from the Oslo Manual definition and use change as a proxy measure. Creating options can improve outcomes, but, when dealingwith markets, special care should be taken to ensure that equity is not sacrificed for the sake of efficiency. (any interaction) Social networkingE-banking Online purchases Gaming/audio-videoWeb radio/TVTelephone Software downloadJob searchOnline sales Medical appointment Content creation Notes: unless otherwise stated, a recall period of three months is used for Internet users. Change in Internet access at home, 2009-12 % 0102030405060708090100PISA 2009 PISA 2012Iceland Finland Denmar k Netherland s Norway Swed en Hong Kong -China Slovenia Switzerlan d Estonia Austri a German y Liechtenstei n United Kingdo m Maca o-China Belgium France Canada Ireland Luxembou rg Czec h Republic Korea Aust ralia Singapor e Italy Chines e Taipei Croatia Portugal Poland Spain United Arab Emir ates Lithuania Hunga ry Bulgar ia OECD aver age Latvia Slovak Republic New Zealan d United Stat es Qata r Russian Federation Israel Serbia Japa n Montenegro Greece Shanghai- China Urugua y Romania Chile Brazil Arge ntina Cost a Rica Jordan Malaysia Turkey Kaza khstan Albania Colombia Tunisia Thailand Mexico Peru Viet Nam1 Indonesi a 1. Percentage of students who reported engaging in each Internet activity at least once a week % 0102030405060708090100OECD aver age Top countr y/economy Bottom countr y/economy Estonia Denmar kCzec h RepublicEstoniaCzec h RepublicLiechtenstei nIceland Serbia Serbia Jordan Jordan Japa nJapa n Japa nCost a Rica KoreaCost a RicaMexico Mexico Japa n Brow se the Internet for funParticipat e in social networksDownload musi c, films, game s or software from the InternetChat on lineObtain practical informatio n from the InternetUse e-ma il Read news on the InternetPlay one-player game sPlay collabo rative onlin e game sUplo ad their own created contents for shar ing Source: OECD, PISA 2012 database, Table 1.6. Those left behind on the analogue side of the divide may not be able to improve their productivity at work or participate fully in civic affairs. Disadvantaged students spend at least 15 more minutes per day on line during weekends than advantaged ones in Belgium; Germany; Korea; Shanghai, China; Switzerland and Chinese Taipei. A further 4.7% of adults did not have the basic skills that were assessed by the ICT core test, Yet we know that almost half of our teachers desire more training than they currently receive in using technology effectively. Feedback from the field indicated that the previous five-year update cycle was not frequent enough to account for rapidly changing circumstances and the pace of technology advancement in our schools. Learners who successfully develop this ability lay the foundation for lifelong, self-directed learning.11 OFFICE OF Educational TechnologyFOS TERING GROWTH MINDSET: TECHNOLOGY-BASED PROGRAM Principal Dawn Clemens of Stuart-Hobson Middle School saw increases in read - ing scores for their seventh-grade students after using the program. Meeting once a week in two-hour sessions, a non-content expert librarian helps facilitate a peer-learning environment, with the goal that after six weeks the Learning Circles become self-sustainable. The LRNG platform is designed with the goal of creating tools that transform how young people recognize and access opportunities for learning. Students who earn badges can use these credentials when applying for the city’s summer youth internship and employ - ment program. Educators can access programs such as the Google Expedition Pioneer Program for lessons and additional resources to create virtual field trip experiences. As speakers play the sounds of an earthquake, the students can take readings on simulated seismographs at different loca - tions in the room, inspect an emerging fault line, and stretch twine to identify the epicenter. The zSpace program’s noble failure feature allows students constructing a motor or building a battery to make mistakes and retry, learning throughout the process. Modern public buildings include features such as ramps, automatic doors, or braille on signs to make them accessible by everyone. Developed with support from the U.S. Department of Education, the tools listed here were designed to help educators implement UDL principles into classroom practice and make learning activities more accessible: • The Information Research Corporation developed eTouchSciences, an integrated software and hardware assistive technology platform to support STEM learning among middle school students with (or without) visual impairments. The UDL guidelines help educators determine what strategies, accessible technologies, and teaching methods will enable all students to achieve lesson goals. Realizing that some students were not taking part in class discussions, the teacher used technology to provide multiple means of representation, expression, and engagement. This tool is a free, openly-licensed,web-based platform that provides step- by-step guidance and analysis dashboards for conducting quick-turnaround evalua - tions of educational technologies. These evaluations can also inform efforts to continually improve education technology interventions by helping educators and researchers quickly learn how technologies have affected student outcomes. After a discus - sion of elevation, the two teachers engaged their students in a competition to see which class could boil water faster. McKay recognized that her students were searching for the language to talk about complicated issues of race, gender, power, and equity. While reflect - ing on this unit, McKay wrote: “We were not only working to promote tolerance and appreciation for diversity in our community. Texas teacher Janelle Bence was looking for new ways to engage and Better luck next time Advertisement You have full access to this open access article 66k Accesses 338 Citations 9 Altmetric Explore all metrics The increasing global industrialization and over exploitation of fossil fuels has induced the release of greenhouse gases leading to an increase in global temperature and causing environmental issues There is therefore an urgent necessity to reach net zero carbon emissions Only 4 5 of countries have achieved carbon neutrality and most countries are still planning to do so by 2050 2070 Moreover synergies between different countries have hampered synergies between adaptation and mitigation policies as well as their co benefits Here we present a strategy to reach a carbon neutral economy by examining the outcome goals of the 26th summit of the United Nations Climate Change Conference of the Parties COP 26 Methods have been designed for mapping carbon emissions such as input output models spatial systems geographic information system maps light detection and ranging techniques and logarithmic mean divisia We present decarbonization technologies and initiatives and negative emissions technologies and we discuss carbon trading and carbon tax We propose plans for carbon neutrality such as shifting away from fossil fuels toward renewable energy and the development of low carbon technologies low carbon agriculture changing dietary habits and increasing the value of food and agricultural waste Developing resilient buildings and cities introducing decentralized energy systems and the electrification of the transportation sector is also necessary We also review the life cycle analysis of carbon neutral systems Sam Fankhauser Stephen M Smith Thom Wetzer Meimei Kang Wenwu Zhao Yanxu Liu Avoid common mistakes on your manuscript With the increasing global industrialization and over exploitation of non renewable energy sources a large number of greenhouse gases have been released leading to an increase in global temperature and causing a series of environmental degradation issues Wang et al 2021 From pre industrialization around 1850 until 2022 the global average atmospheric carbon dioxide CO2 concentration increased substantially from 285 to 419 ppm Chen 2021 CO2 Daily 2022 As a result the United Kingdom meteorological office estimates a global average surface temperature increase of about 0 97 to 1 21 C throughout 1850 2022 with a central estimate of 1 09 C they also predict that 2022 will continue the trend of the warmest years in the world Sangomla 2022 Furthermore global greenhouse gas emissions are expected to rise by 50 by 2050 owing primarily to CO2 emissions from non renewable energy use Rabaey and Ragauskas 2014 Without effective measures or technologies to reduce or control CO2 emissions the global average atmospheric CO2 concentration as well as the global surface and ocean temperatures will continue to rise The rising global temperature caused by these greenhouse gases has already caused significant damage to the human living environment including the extinction of some species loss of biodiversity droughts floods forest fires ocean acidification melting of north and south pole glaciers NSPG and sea level rise Maximillian et al 2019 Mora et al 2018 Yang\n"
          ]
        }
      ],
      "source": [
        "import os\n",
        "import requests\n",
        "from bs4 import BeautifulSoup\n",
        "from PyPDF2 import PdfReader\n",
        "from sumy.parsers.plaintext import PlaintextParser\n",
        "from sumy.nlp.tokenizers import Tokenizer\n",
        "from sumy.summarizers.lsa import LsaSummarizer\n",
        "import re\n",
        "\n",
        "def extract_text(file_path):\n",
        "    pdf = PdfReader(file_path)\n",
        "    text = \"\"\n",
        "    for page in pdf.pages:\n",
        "        text += page.extract_text()\n",
        "    return text\n",
        "\n",
        "def extract_and_summarize(urls):\n",
        "    headers = {'User-Agent': 'Mozilla/5.0'}\n",
        "    summarizer = LsaSummarizer()\n",
        "    summarizer.stop_words = ['a', 'an', 'the']\n",
        "    summaries = []\n",
        "\n",
        "    for url in urls:\n",
        "        try:\n",
        "            response = requests.get(url, headers=headers, timeout=5)\n",
        "            if response.status_code == 200:\n",
        "                if url.endswith('.pdf'):\n",
        "                    with open('temp.pdf', 'wb') as f:\n",
        "                        f.write(response.content)\n",
        "                    text = extract_text('temp.pdf')\n",
        "                    os.remove('temp.pdf')\n",
        "                else:\n",
        "                    soup = BeautifulSoup(response.text, 'html.parser')\n",
        "                    paragraphs = soup.find_all('p')\n",
        "                    words = []\n",
        "                    for paragraph in paragraphs:\n",
        "                        words.extend(re.findall(r'\\b\\w+\\b', paragraph.text))\n",
        "                        if len(words) >= 10000:\n",
        "                            break\n",
        "                    text = ' '.join(words[:10000])\n",
        "\n",
        "                parser = PlaintextParser.from_string(text, Tokenizer(\"english\"))\n",
        "                summary_sentences = summarizer(parser.document, 50)  # Summarize into 50 sentences\n",
        "\n",
        "                summary_words = []\n",
        "                for sentence in summary_sentences:\n",
        "                    summary_words.extend(str(sentence).split())\n",
        "                    if len(summary_words) >= 500:\n",
        "                        break\n",
        "                summary = ' '.join(summary_words[:500])\n",
        "\n",
        "                if bool(summary):\n",
        "                    summaries.append(summary)\n",
        "                else:\n",
        "                    summaries.append(\"Better luck next time\\n\")\n",
        "            else:\n",
        "                summaries.append(f\"Failed to access {url}\")\n",
        "        except (requests.exceptions.RequestException, requests.exceptions.Timeout) as e:\n",
        "            summaries.append(f\"Error occurred while processing {url}: {str(e)}\")\n",
        "\n",
        "    combined_text = ' '.join(summaries)\n",
        "    parser = PlaintextParser.from_string(combined_text, Tokenizer(\"english\"))\n",
        "    final_summary_sentences = summarizer(parser.document, 150)  # Summarize into 150 sentences\n",
        "\n",
        "    final_summary_words = []\n",
        "    for sentence in final_summary_sentences:\n",
        "        final_summary_words.extend(str(sentence).split())\n",
        "        if len(final_summary_words) >= 1500:\n",
        "            break\n",
        "    final_summary = ' '.join(final_summary_words[:1500])\n",
        "\n",
        "    return final_summary\n",
        "\n",
        "# Now you can convert the sentences to strings and join them into a paragraph\n",
        "final_summary_text_1 = extract_and_summarize(google_results)\n",
        "num_words = len(final_summary_text_1.split())\n",
        "print(num_words)\n",
        "print(final_summary_text_1)\n"
      ]
    },
    {
      "cell_type": "code",
      "execution_count": null,
      "metadata": {
        "colab": {
          "base_uri": "https://localhost:8080/"
        },
        "id": "F8wfk98AjMbK",
        "outputId": "83d86132-2b76-4911-bf46-7f4b01d00b71"
      },
      "outputs": [
        {
          "name": "stdout",
          "output_type": "stream",
          "text": [
            "In recent years an increasing number of countries have committed to achieving net zero emissions By April 2022 131 countries covering 88 of global greenhouse gas emissions had announced net zero targets Anthropogenic emissions have already led to a global temperature increase of 1 1 C compared to pre industrial levels There is a broad understanding that net zero by 2050 is imperative to increase the chances of keeping this temperature increase to within 1 5 C This renewed focus means that emissions from all the energy end uses need to be mitigated While energy efficiency electrification and renewables can achieve 70 of the mitigation needed hydrogen will be needed to decarbonise end uses where other options are less mature or more costly such as heavy industry long haul transport and seasonal energy storage Considering these applications hydrogen could contribute 10 of the mitigation needed to achieve the IRENA 1 5 C Scenario and 12 of final energy demand Hydrogen is produced on a commercial basis today it is used as a feedstock in the chemical industry and in refineries as part of a mix of gases in steel production and in heat and power generation Global production stands at around 75 MtH2 yr as pure hydrogen and an additional 45 MtH2 yr as part of a mix of gases This is equivalent to 3 of global final energy demand and similar to the annual energy consumption of Germany Hydrogen is a versatile energy carrier not an energy source It can be produced from multiple feedstocks and can be used across virtually any application see Figure 1 Renewable electricity can be converted to hydrogen via electrolysis which can couple continuously increasing renewable energy with all the end uses that are more difficult to electrify This coupling also allows electrolysers to provide flexibility to the grid complementing alternatives such as batteries demand response and vehicle to grid in smart electrification As at the end of 2021 almost 47 of the global hydrogen production is from natural gas 27 from coal 22 from oil as a by product and only around 4 comes from electrolysis Electricity had a global average renewable share of about 33 in 2021 which means that only about 1 of global hydrogen output is produced with renewable energy Electrolytic hydrogen from dedicated production remained limited to demonstration projects adding up to a total capacity 0 7 GW in 2021 In contrast the 1 5 C Scenario would need 4 5 TW by 2050 requiring a faster rate of growth than that experienced by solar photovoltaic PV and wind to date Hydrogen use as an energy carrier remains limited and is principally limited to road vehicles By June 2021 more than 40 000 fuel cell electric vehicles were in circulation around the world with almost 90 of those in four countries Korea the United States the People s Republic of China and Japan By the end of 2020 there were about 6 000 fuel cell electric buses 95 of Fossil Fuels Renewables Electricity Low Emission Fuels Transport Industry Buildings Energy Efficiency and Demand Carbon Capture Utilisation and Storage Decarbonisation Enablers The IEA s 50th Anniversary Climate Change Critical Minerals Energy and Gender Global Energy Transitions Stocktake Russia s War on Ukraine Global Energy Crisis Energy Security Investment Saving Energy Data explorers Understand and manipulate data with easy to use explorers and trackers Data sets Free and paid data sets from across the energy system available for download Policies database Past existing or planned government policies and measures Chart Library Access every chart published across all IEA reports and analysis Fuel report March 2024 Fuel report March 2024 Flagship report October 2023 2023 Update Flagship report September 2023 Sign In Create a free IEA account to download our reports or subcribe to a paid service Seizing today s opportunities Read online Hydrogen and energy have a long shared history powering the first internal combustion engines over 200 years ago to becoming an integral part of the modern refining industry It is light storable energy dense and produces no direct emissions of pollutants or greenhouse gases But for hydrogen to make a significant contribution to clean energy transitions it needs to be adopted in sectors where it is almost completely absent such as transport buildings and power generation The Future of Hydrogen provides an extensive and independent survey of hydrogen that lays out where things stand now the ways in which hydrogen can help to achieve a clean secure and affordable energy future and how we can go about realising its potential Supplying hydrogen to industrial users is now a major business around the world Demand for hydrogen which has grown more than threefold since 1975 continues to rise almost entirely supplied from fossil fuels with 6 of global natural gas and 2 of global coal going to hydrogen production As a consequence production of hydrogen is responsible for CO2 emissions of around 830 million tonnes of carbon dioxide per year equivalent to the CO2 emissions of the United Kingdom and Indonesia combined The number of countries with polices that directly support investment in hydrogen technologies is increasing along with the number of sectors they target There are around 50 targets mandates and policy incentives in place today that direct support hydrogen with the majority focused on transport Over the past few years global spending on hydrogen energy research development and demonstration by national governments has risen although it remains lower than the peak in 2008 Hydrogen can be extracted from fossil fuels and biomass from water or from a mix of both Natural gas is currently the primary source of hydrogen production accounting for around three quarters of the annual global dedicated hydrogen production of around 70 million tonnes This accounts for about 6 of global natural gas use Gas is followed by coal due to its dominant role in China and a small fraction is produced from from the use of oil and electricity The production cost of hydrogen Better luck next time Laura Cozzi, Dennis Hesseling, Paolo Frankl, Tim Gould, Keisuke Sadamori, Hiro Sakaguchi, and A raceli Fernandez Pales provided valuable, strategic guidance during the report’s development process. The development of this report benefitted from contributions provided by the following IEA colleagues: Ana Alcalde Bascones, Carl Greenfield , Ilkka Hannula, Luca Lo Re, Jennifer Ortiz , and Nikoo Tajdolat. Only 4% of this potential production has at least taken a final investment decision (FID), a doubling since last year in absolute terms (reaching nearly 2 Mt). China is poised to further cement its leading position in electrolyser deployment: the country accounts for more than 40% of the electrolysis projects that have reached FID globally. This is hindering investment decisions for planned projects whose economic feasibility depends on public support, a situation that has worsened due to the impacts of inflation. Several fertiliser plants reduced their production output or even stopped operations for prolonged periods of the year, reducing hydrogen use by nearly 6% in the region. China was the only major refining region that reduced its demand for hydrogen (around 0.5 Mt) due to a decrease in refinery throughput as a consequence of extensive pandemic -related mobility restrictions . Notes: CCUS = carbon capture, utilisation and storage; FID = projects that have at least taken a final investment decision; GHR 2022 = Global Hydrogen Review 2022; NZE = Net Zero Emissions by 2050 Scenario. However, the near -term outlook is positive, as projects able to produce more than 600 kt of low- emission hydrogen are already under construction or have taken an FID. We estimate that these projects could supply an additional 0.7 Mt of hydrogen to industrial consumers by 2030 if they can secure off -takers for all their potential production. Cummins also revealed a concept hydrogen combustion truck, suggesting that India may be the market most suited to this approach, which was later echoed in announcements by Tata Motors and JBC. In the United Kingdom (Saltend ), a project aims to refurbish an existing 1 200 M W natural gas -fired combined heat and power plant for 30% hydrogen co- firing by 2027. • The State Power Investment Corporation (China) is working on a demonstration project to test pure hydrogen firing in a 1.7 MW gas turbine by the end of 2023. Under these options, some costs are borne by taxpayers rather than consumers, but for users this can offer a faster path to scale up and reach cost parity. Carbon credits can complement other funding sources for low- emission hydrogen initiatives, in a similar way to what is happening with direct air capture and storage projects . Announced: in March 2023 the United Kingdom launched a consultation on measures to prevent carbon leakage risk, including public procurement of industrial products such as steel and cement. For the Industrial Deep Decarbonation Initiative, it is assumed that all 9 currently member countries make a pledge to use 10% low -emission steel in their public procurement. Only the\n"
          ]
        }
      ],
      "source": [
        "\n",
        "print(final_summary_text_1)"
      ]
    },
    {
      "cell_type": "markdown",
      "metadata": {
        "id": "W006kCVTpwUg"
      },
      "source": [
        "#2)Takes the top 5 URLs, extracts 2000-2500 words from each URL, summarizes it to 200 words, and then concatenates all those summaries into a final summary."
      ]
    },
    {
      "cell_type": "code",
      "execution_count": 30,
      "metadata": {
        "colab": {
          "base_uri": "https://localhost:8080/"
        },
        "id": "p8Ar84Jb0ib8",
        "outputId": "7116f17c-1136-421b-e99a-f9c9864f742e"
      },
      "outputs": [
        {
          "name": "stdout",
          "output_type": "stream",
          "text": [
            "5798\n"
          ]
        }
      ],
      "source": [
        "def extract_and_summarize(urls):\n",
        "    headers = {'User-Agent': 'Mozilla/5.0'}\n",
        "    summarizer = LsaSummarizer()\n",
        "    summarizer.stop_words = ['a', 'an', 'the']\n",
        "    summaries = []\n",
        "\n",
        "    # Select top 5 URLs (you can replace this with your own method for selecting the best URLs)\n",
        "    urls = urls[:5]\n",
        "\n",
        "    for url in urls:\n",
        "        try:\n",
        "            response = requests.get(url, headers=headers, timeout=5)\n",
        "            if response.status_code == 200:\n",
        "                if url.endswith('.pdf'):\n",
        "                    with open('temp.pdf', 'wb') as f:\n",
        "                        f.write(response.content)\n",
        "                    text = extract_text('temp.pdf')\n",
        "                    os.remove('temp.pdf')\n",
        "                else:\n",
        "                    soup = BeautifulSoup(response.text, 'html.parser')\n",
        "                    paragraphs = soup.find_all('p')\n",
        "                    words = []\n",
        "                    for paragraph in paragraphs:\n",
        "                        words.extend(re.findall(r'\\b\\w+\\b', paragraph.text))\n",
        "                        if len(words) >= 2500:\n",
        "                            break\n",
        "                    text = ' '.join(words[:2500])\n",
        "\n",
        "                parser = PlaintextParser.from_string(text, Tokenizer(\"english\"))\n",
        "                summary_sentences = summarizer(parser.document, 50)  # Summarize into 50 sentences\n",
        "\n",
        "                summary_words = []\n",
        "                for sentence in summary_sentences:\n",
        "                    summary_words.extend(str(sentence).split())\n",
        "                    if len(summary_words) >= 1500:\n",
        "                        break\n",
        "                summary = ' '.join(summary_words[:1500])\n",
        "\n",
        "                if bool(summary):\n",
        "                    summaries.append(summary)\n",
        "                else:\n",
        "                    summaries.append(\"Better luck next time\\n\")\n",
        "            else:\n",
        "                summaries.append(f\"Failed to access {url}\")\n",
        "        except (requests.exceptions.RequestException, requests.exceptions.Timeout) as e:\n",
        "            summaries.append(f\"Error occurred while processing {url}: {str(e)}\")\n",
        "\n",
        "    final_summary = ' '.join(summaries)\n",
        "\n",
        "    return final_summary\n",
        "\n",
        "# Now you can convert the sentences to strings and join them into a paragraph\n",
        "final_summary_text = extract_and_summarize(google_results)\n",
        "num_words = len(final_summary_text.split())\n",
        "print(num_words)\n"
      ]
    },
    {
      "cell_type": "code",
      "execution_count": 31,
      "metadata": {
        "colab": {
          "base_uri": "https://localhost:8080/"
        },
        "id": "fuTHDrJRMkRX",
        "outputId": "3ab2b723-b019-4cf2-8e99-d449d3741191"
      },
      "outputs": [
        {
          "name": "stdout",
          "output_type": "stream",
          "text": [
            "But talking to teachers gives one the opposite idea – that there are too many changes imposed on them without much consultation or the necessary preconditions for successfully implementing change. Assessing the success of companies in the private sector by profit, sales or growth is widely accepted: ultimately they have a single bottom line which prevails over any other objectives. Ideally, innovation indicators in the education sector should be linked to specific social and educational objectives such as learning outcomes, cost efficiency, equity or public satisfaction. Austria, Belgium Flemish Community, Czech Republic, Estonia, Finland, France, Germany, Italy, Netherlands, Norway, Portugal, Spain, Switzerland, and u nited Kingdom refer to REFLE x (2005). However, given that we cannot directly observe whether any of these changes are an “improvement”, it has had to depart from the Oslo Manual definition and use change as a proxy measure. Creating options can improve outcomes, but, when dealingwith markets, special care should be taken to ensure that equity is not sacrificed for the sake of efficiency. (any interaction) Social networkingE-banking Online purchases Gaming/audio-videoWeb radio/TVTelephone Software downloadJob searchOnline sales Medical appointment Content creation Notes: unless otherwise stated, a recall period of three months is used for Internet users. Change in Internet access at home, 2009-12 % 0102030405060708090100PISA 2009 PISA 2012Iceland Finland Denmar k Netherland s Norway Swed en Hong Kong -China Slovenia Switzerlan d Estonia Austri a German y Liechtenstei n United Kingdo m Maca o-China Belgium France Canada Ireland Luxembou rg Czec h Republic Korea Aust ralia Singapor e Italy Chines e Taipei Croatia Portugal Poland Spain United Arab Emir ates Lithuania Hunga ry Bulgar ia OECD aver age Latvia Slovak Republic New Zealan d United Stat es Qata r Russian Federation Israel Serbia Japa n Montenegro Greece Shanghai- China Urugua y Romania Chile Brazil Arge ntina Cost a Rica Jordan Malaysia Turkey Kaza khstan Albania Colombia Tunisia Thailand Mexico Peru Viet Nam1 Indonesi a 1. Percentage of students who reported engaging in each Internet activity at least once a week % 0102030405060708090100OECD aver age Top countr y/economy Bottom countr y/economy Estonia Denmar kCzec h RepublicEstoniaCzec h RepublicLiechtenstei nIceland Serbia Serbia Jordan Jordan Japa nJapa n Japa nCost a Rica KoreaCost a RicaMexico Mexico Japa n Brow se the Internet for funParticipat e in social networksDownload musi c, films, game s or software from the InternetChat on lineObtain practical informatio n from the InternetUse e-ma il Read news on the InternetPlay one-player game sPlay collabo rative onlin e game sUplo ad their own created contents for shar ing Source: OECD, PISA 2012 database, Table 1.6. Those left behind on the analogue side of the divide may not be able to improve their productivity at work or participate fully in civic affairs. Disadvantaged students spend at least 15 more minutes per day on line during weekends than advantaged ones in Belgium; Germany; Korea; Shanghai, China; Switzerland and Chinese Taipei. A further 4.7% of adults did not have the basic skills that were assessed by the ICT core test, such as the capacity to use a mouse or scroll through a web page. This means they can only use familiar applications to solve problems that involve few steps and explicit criteria, such as sorting e-mails into pre-existing folders. Problem-solving proficiency among younger and older adults Percentage of adults aged 25-34 and 55-64 scoring at Level 2 or 3 in problem solving in technology-rich environments, or having no computer experience 40 60 80 0 20 40 20 08 0 60 % %No compute r experience or failed ICT core Leve l 2 Leve l 3 Singapor eFinlan d Swed en Aust raliaDenmar k Netherland s Norway New Zealan d Japa n Germany Flande rs (Belgium ) Czec h Republic Austri a Canada Korea PolandEnglan d (UK) OECD aver age Estoni a Northern Ireland (UK) Slovenia United Stat es Israel Ireland Slovak Republic Russian Federation2 Lithuania Chile Greece Turkey25-34 year-old s 55-6 5 year-old s 1. The initiative will also be supported by the private sector through new philanthropic investments of more than u SD 60 million from companies such as Google, Microsoft, Oracle and Salesforce.org. Last but not least, the initiative also recognises that students must be equipped with strong computational thinking skills and the ability to solve complex problems. At the lower end of the scale, students performing below Level 2 are able to complete only the easiest digital reading tasks in the PISA 2012 assessment, if any. Index of ICT use at school -1.5-1.0-0.500.51.0Mean inde x Denmar k Norway Aust ralia Netherland s Czec h Republic Liechtenstei n Swed en New Zealan d Slovak Republic Greece Spain Jordan Chile Finland Austri a Slovenia Mexico OECD aver age Switzerlan d Portugal Urugua y Maca o-China Hunga ry Italy Croatia Singapor e Iceland Cost a Rica Israel Belgium Estonia Chines e Taipei Hong Kong -China Serbia Latvia Russian Federation German y Turkey Ireland Poland Shanghai- China Japa n Korea Countries and economies are ranked in descending order of the mean index of ICT use at school. Technology alone will not enhance learning, but using it as part of good teaching practice can open new doors to learners and teachers. Trends in students’ mathematics performance and number of computers at school (2012) 40 -40-30-20-100102030 Number of compute rs per student, after accounting for per capita GDPDifference in mathematic s performanc e (PISA 2012 - PISA 2003) Aust raliaAustri a BelgiumCanada Czec h RepublicDenmar k FinlandFranceGermany Greece Hunga ry IcelandIrelandItaly Japa nKorea Luxembou rgMexico Netherlands New Zealan dNorwayPoland Portugal Slovak RepublicSpain SwedenSwit zerlan dTurkey United Stat esBrazil Hong Kong -ChinaIndonesi a LatviaMaca o-ChinaRussian Federation ThailandTunisia Urugua yR2 = 0. In their assessment of the literature on computer-assisted instruction, Hattie and Yates (2013) report stronger effects when computers were supplementing traditional teaching, rather than seen as its alternative. Beuermann, D.W., J. Cristia, S. Cueto, O. Malamud and Y. Cruz-Aguayo (2015), “One laptop per child at home: Short-term impacts from a randomized experiment in Peru”, American Economic Journal: Applied Economics, vol. It considers five models of how teaching can be supported by technology: 1) educational gaming, 2) online laboratories, 3) technology-enabled collaboration, 4) real-time formative assessment and 5) technological support for skills-based curricula, using examples from the Hewlett Packard Catalyst Initiative project. How can technology-supported learning help to move beyond content delivery and truly enhance innovative education so that students develop a broad mix of skills? The City Academy Norwich in the u nited Kingdom created a virtual world simulation to teach middle school students the intertwined relationships between energy demand, finance and the environment (Box 4.5). Simulations may be less expensive than experimental hardware, although “little empirical data exists on the actual costs of providing online laboratory access at scale” (Jona et al., 2011). One part of the 30-student test group “were given a dynamic environmental problem to solve [in small groups] by sitting around a table and discussing their actions”. The model includes a peer-assessment component – expected also to act as a motivator for students – based on an automatically calculated rating of the problem generation and solving process. In contrast, assessments that are poorly aligned with standards and curriculum make it “impossible to draw valid conclusions about the success of student learning” (Looney, 2011b). Many digital resources are also freely available to teachers: these include simulations in virtual environments (remote or online laboratories, games) and software for real-time formative assessment. ●Fully online courses can be taken by students living anywhere in the world provided thatthey have an interface (e.g. computer, phone, handheld device), the necessary softwareapplications and access to the Internet. While success is driven by pedagogy, technology-supported models generally require a certain level of equipment although mainly relatively low-cost and familiar devices such as computers, tablets or mobile phones, with Internet connections. Many digital resources are also freely available to teachers: these include simulations in virtual environments (remote or online laboratories, games) and software for real-time formative assessment. Palou, E. et al. (2012), “High-quality learning environments for engineering design: u sing tablet PCs and guidelines from research on how people learn”, International Journal of Food Studies, vol. Ramirez Apud, Z. et al. (2012), “Implementing problem-solving learning environments in a kinetics and homogeneous reactor design course”, Proceedings of the 2012 American Society for Engineering Education Annual Meeting, San Antonio, Texas. 101-124. u niversidad de las Américas Puebla (forthcoming), “Assessing metacognitive awareness during problem-solving in a kinetics and homogeneous reactor design course”, paper submitted to the 2013 American Society for Engineering Education Annual Meeting. Wu, P., G. Hwang, M. Milrad, H. Ke and Y. Huang (2012), “An innovative concept map approach for improving students’ learning performance with an instant feedback mechanism”, British Journal of Educational Technology, vol. This information should be interpreted with caution as the estimates are based on the publishing sector and, in the case of Japan, limited to the school market. This means there are few resources to build upon, and in particular no common market boundaries used by the different actors when they publish accounts or review Yet we know that almost half of our teachers desire more training than they currently receive in using technology effectively. Feedback from the field indicated that the previous five-year update cycle was not frequent enough to account for rapidly changing circumstances and the pace of technology advancement in our schools. Learners who successfully develop this ability lay the foundation for lifelong, self-directed learning.11 OFFICE OF Educational TechnologyFOS TERING GROWTH MINDSET: TECHNOLOGY-BASED PROGRAM Principal Dawn Clemens of Stuart-Hobson Middle School saw increases in read - ing scores for their seventh-grade students after using the program. Meeting once a week in two-hour sessions, a non-content expert librarian helps facilitate a peer-learning environment, with the goal that after six weeks the Learning Circles become self-sustainable. The LRNG platform is designed with the goal of creating tools that transform how young people recognize and access opportunities for learning. Students who earn badges can use these credentials when applying for the city’s summer youth internship and employ - ment program. Educators can access programs such as the Google Expedition Pioneer Program for lessons and additional resources to create virtual field trip experiences. As speakers play the sounds of an earthquake, the students can take readings on simulated seismographs at different loca - tions in the room, inspect an emerging fault line, and stretch twine to identify the epicenter. The zSpace program’s noble failure feature allows students constructing a motor or building a battery to make mistakes and retry, learning throughout the process. Modern public buildings include features such as ramps, automatic doors, or braille on signs to make them accessible by everyone. Developed with support from the U.S. Department of Education, the tools listed here were designed to help educators implement UDL principles into classroom practice and make learning activities more accessible: • The Information Research Corporation developed eTouchSciences, an integrated software and hardware assistive technology platform to support STEM learning among middle school students with (or without) visual impairments. The UDL guidelines help educators determine what strategies, accessible technologies, and teaching methods will enable all students to achieve lesson goals. Realizing that some students were not taking part in class discussions, the teacher used technology to provide multiple means of representation, expression, and engagement. This tool is a free, openly-licensed,web-based platform that provides step- by-step guidance and analysis dashboards for conducting quick-turnaround evalua - tions of educational technologies. These evaluations can also inform efforts to continually improve education technology interventions by helping educators and researchers quickly learn how technologies have affected student outcomes. After a discus - sion of elevation, the two teachers engaged their students in a competition to see which class could boil water faster. McKay recognized that her students were searching for the language to talk about complicated issues of race, gender, power, and equity. While reflect - ing on this unit, McKay wrote: “We were not only working to promote tolerance and appreciation for diversity in our community. Texas teacher Janelle Bence was looking for new ways to engage and challenge her students, the majority of whom are English language learners from low-income fami - lies. Effective use of technology is not an optional add-on or a skill that we simply can expect teachers to pick up once they get into the classroom. In the program’s pilot year, the first 80 teachers recorded hundreds of videos using tools such as Swivls, iPads, high-definition webcams, and microphones. In addition, not a single teacher from the pilot group left Denver Public Schools after their year with Project Cam Opener (the overall district rate of turnover is 20 percent). Adequate connectivity will increase equitable access to resources, instruction, expertise, and learning pathways regardless of learners’ geography, socio-economic status, or other factors that historically may have put them at an educational disadvantage. The Alliance for Excellent Education’s Future Ready website provides one example of free online assessment tools to be completed by district teams. John Carver, Superintendent of Howard-Winn Community School District, faced less than optimal conditions when he initiated a digital learning transformation project modeled on Future Ready Schools. The approach has spread beyond mathe - matics instruction into other subjects as well, setting a tone and track for the district’s growing STEM initiative. Not only is this latter decision cost- effective but it provides students and staff with high-quality, up-to-date resources for learning. In contrast, formative assessments are frequent, instructionally embedded checks for under - standing that provide quick, continual snapshots of student progress across time. At the same time, in-service teachers can benefit from ongoing profes - sional development on the integration of technology to enhance their teaching. Problems can be situated in real-world environments, where students perform tasks, or include multi-stage scenarios that simulate authentic, progressive engagement with the subject matter. In a mathematics class, a performance task might ask students to analyze a graph based on actual data and describe the linear rela - tionship between the quantities. For tasks that require hand scor - ing, scores can be merged with machine-scored items in the same system, thus providing complete test results. Similarly, assistive technology, such as text-to-speech, alternate response systems, and refresh - able braille, supports students with disabilities in accessing learning. Because adaptive tests target content and test items aligned with each student’s ability level, the adaptation leads to more precise scores for all students across the achievement continuum in a greatly reduced time period. Achieving the same level of precision in a traditional paper- and-pencil test would require students to answer many more questions, potentially impacting instructional time. SimCityEDU: Pollution Challenge!, one of GlassLab’s digital games, provides educators with the tools and content to engage students in real-world challenges faced by countries globally. Providing meaningful, actionable information that is collected across all of these systems will require agreement on the technical format for sharing data while attending to student privacy and security. “It was really difficult to track where my students were on their progress towards meeting a learning objective and giv - ing them timely feedback,” says Elizabeth Doggett, a teacher at Summit Public Schools. The development of micro-credentials is one approach to address this need by creating a shared language and system for communicating success in developing these competencies. BadgeOS , the open source environment for setting up progressive creden - tialing programs, has been installed more than 30,000 times by organizations around the world and supports millions of learners. More detailed information and guidance can be found in the U.S. Department of Education’s Future Ready Schools: Building Technology Infrastructure for Learning . initiative’s impact on the 10 pilot Lighthouse Schools.1 Although the report contains early baseline data, findings sug - gest that these schools are beginning to reflect the goals of S.T.A.T. From the outset, the district viewed technology as a means to close achievement gaps between high-need, underserved student populations and historically higher performing students. The Choctaw Nation Tribal Area has demonstrated how—through a combination of grants, loans, and dona - tions—private industries can bring critical access to these underserved communities. Technology also can assist in the easy translation of these policies into other languages, providing a bridge to communication that otherwise might leave some families disconnected. If policies and procedures for the use of devices are too strict, they often have unintended negative consequences, such as preventing access to legitimate educational resources. Adequate connectivity will increase equitable access to resources, instruction, expertise, and learning pathways regardless of learners’ geography, socio-economic status, or other factors that historically may have put them at an educational disadvantage. Within the OET, technical assistance was provided by Christine Stokes-Beverley, Susan Bearden, Kristina Peters, Jacqueline Pugh, Sara Trettin, and Angela Vann. Additional contributions were made by Bani Dheer, Larry Friedman, Jessica Heppen, Michael McGarrah, Caroline Martin, Snehal Pathak, and Cheryl Pruce. Better luck next time\n",
            " Advertisement You have full access to this open access article 66k Accesses 338 Citations 9 Altmetric Explore all metrics The increasing global industrialization and over exploitation of fossil fuels has induced the release of greenhouse gases leading to an increase in global temperature and causing environmental issues There is therefore an urgent necessity to reach net zero carbon emissions Only 4 5 of countries have achieved carbon neutrality and most countries are still planning to do so by 2050 2070 Moreover synergies between different countries have hampered synergies between adaptation and mitigation policies as well as their co benefits Here we present a strategy to reach a carbon neutral economy by examining the outcome goals of the 26th summit of the United Nations Climate Change Conference of the Parties COP 26 Methods have been designed for mapping carbon emissions such as input output models spatial systems geographic information system maps light detection and ranging techniques and logarithmic mean divisia We present decarbonization technologies and initiatives and negative emissions technologies and we discuss carbon trading and carbon tax We propose plans for carbon neutrality such as shifting away from fossil fuels toward renewable energy and the development of low carbon technologies low carbon agriculture changing dietary habits and increasing the value of food and agricultural waste Developing resilient buildings and cities introducing decentralized energy systems and the electrification of the transportation sector is also necessary We also review the life cycle analysis of carbon neutral systems Sam Fankhauser Stephen M Smith Thom Wetzer Meimei Kang Wenwu Zhao Yanxu Liu Avoid common mistakes on your manuscript With the increasing global industrialization and over exploitation of non renewable energy sources a large number of greenhouse gases have been released leading to an increase in global temperature and causing a series of environmental degradation issues Wang et al 2021 From pre industrialization around 1850 until 2022 the global average atmospheric carbon dioxide CO2 concentration increased substantially from 285 to 419 ppm Chen 2021 CO2 Daily 2022 As a result the United Kingdom meteorological office estimates a global average surface temperature increase of about 0 97 to 1 21 C throughout 1850 2022 with a central estimate of 1 09 C they also predict that 2022 will continue the trend of the warmest years in the world Sangomla 2022 Furthermore global greenhouse gas emissions are expected to rise by 50 by 2050 owing primarily to CO2 emissions from non renewable energy use Rabaey and Ragauskas 2014 Without effective measures or technologies to reduce or control CO2 emissions the global average atmospheric CO2 concentration as well as the global surface and ocean temperatures will continue to rise The rising global temperature caused by these greenhouse gases has already caused significant damage to the human living environment including the extinction of some species loss of biodiversity droughts floods forest fires ocean acidification melting of north and south pole glaciers NSPG and sea level rise Maximillian et al 2019 Mora et al 2018 Yang et al 2022 In response to rising global greenhouse gas concentrations and temperatures on December 12 2015 197 member parties of the United Nations framework convention on climate change UNFCCC unanimously agreed at the Paris climate change conference PCCC to adopt the Paris agreement which lays out plans for global action to address climate change after 2020 Berndes et al 2016 Under the Paris agreement each country agreed to limit the global temperature increase to less than 2 C and work to limit the global temperature increase to less than 1 5 C Agreement 2015 As of February 2021 124 countries worldwide have declared their intention to become carbon neutral and achieve net zero carbon emissions by 2050 or 2060 Chen 2021 To attain the targets stipulated by the Paris agreement and support sustainable development it is necessary to not only reduce CO2 emissions but also to remove CO2 from the atmosphere to achieve net zero carbon or negative carbon emissions through various social economic environmental and technological measures Carbon neutrality a state of net zero carbon emissions can be achieved by balancing the total amount of carbon dioxide or greenhouse gas emissions produced directly or indirectly by a country company product activity or individual over a certain period via carbon offset or removal initiatives Furthermore to achieve carbon neutrality the intergovernmental panel on climate change IPCC in its special report on global warming of 1 5 C also emphasized the need to reduce and phase out fossil fuels use more renewable energy improve energy efficiency and highlighted the importance of implementing these measures in cities to achieve carbon neutrality Masson Delmotte et al 2018 Moreover to achieve net zero carbon emissions and sustainable development carbon removal or sequestration in terrestrial and marine ecosystems must be promoted Cheng 2020 Different regions countries and cities have developed strategies to improve carbon removal or sequestration and achieve carbon neutrality Hepburn et al 2021 Pedersen et al 2020 Huang and Zhai 2021 yet achieving net zero carbon emissions is challenging Wang et al 2021 Herein this literature review presents a systematic discussion of the implications of the 26th summit of the United Nations Climate Change Conference of the Parties for achieving carbon neutrality specifically addressing the implications of achieving such a target by 2050 or 2060 for most member countries Furthermore the review explores global initiatives primarily referring to the policies or measures put in place by individual countries to achieve net zero carbon emissions The review also investigates in detail the interrelationships and synergies between adaptation and mitigation strategies maps direct and indirect carbon emissions and proposes two main approaches to achieving carbon neutrality emissions reduction and atmospheric carbon removal Moreover the review presents carbon free plans for the future in transportation agriculture food waste industry and other areas and examines the life cycle analysis of various carbon neutral systems for the technologies or measures to achieve these plans Finally the review provides relevant and up to date information policies and technologies for achieving carbon neutrality and assists governments and people in different regions and countries in understanding the positive environmental social and economic consequences of carbon neutrality At a critical time for green recovery on a global scale the 26th United Nations Climate Change Conference of the Parties was held in Glasgow from 31st October to 12th November 2021 Masuda et al 2022 It is well known that greenhouse gas emission reductions are a key factor in human health The 2030 enhanced emission reduction targets in the form of nationally determined contributions and the mid century long term low greenhouse gas emission development strategies that the worldwide governments are supposed to submit to the 26th United Nations Climate Change Conference of the Parties have only been submitted by countries accounting for 55 and 32 of global greenhouse gas emissions respectively Wyns and Beagley 2021 At the 26th United Nations Climate Change Conference of the Parties climate change moved from a marginal issue to a worldwide priority With the attention of world leaders government representatives businesses and citizens focused on the 26th United Nations Climate Change Conference of the Parties in Glasgow expectations are high for countries to make new commitments on reducing carbon emissions In the meantime it is essential to look back at another United Nations Climate Change Conference of the Parties For the first time ever a major event occurred in 2015 At the 21st United Nations Climate Change Conference of the Parties every country agreed to combat the negative impacts of climate change by working together to keep global warming in a range well below 2 C with a target value of 1 5 C Vogler 2020 At the same time each nation party agreed to provide funding to achieve these goals van den Berg et al 2022 This marked the birth of the Paris agreement The 26th United Nations Climate Change Conference of the Parties made progress in four key areas coal cars cash and trees Progress in the first two goals requires a consensus among countries to rapidly phase out coal the most polluting fossil fuel The second is to replace fuel based transport with electric transport as soon as possible and to develop electric vehicles Regarding the latter two goals the 100 billion in annual financial support pledged by developed countries to developing countries in 2010 will have to be delivered At the same time climate change solutions which are part of the biology of global change should be implemented and delivered Smith et al 2022 Figure 1 presents the four main outcomes of the 26th United Nations Climate Change Conference of the Parties Secure global net zero by mid century and keep 1 5 C within reach The main outcomes of the United Nations Climate Change Conference of the Parties Figure 1 illustrates the four main outcome goals of the 26th United Nations Climate Change Conference of the Parties secure global net zero by mid century and keep 1 5 C within reach adapt to protect communities and A notabl e exce ption, however, is th at large agencies were less like ly to have u sed some technol ogical devices, such as bod y-worn cameras, in the past 2 years. In other words, at a national level, age ncies are not ma king d ecisions to acquir e technology b ased on do minant policing phil osophies or the activi ties they prioritize . Perhaps not surpri singly automated records management system s (RMS) and computer- aided dispa tch (CAD) we re the technology credited with having t he greatest impact on police agencies nationwi de. Qualitative data from site visits are used to provide further conte xtual information about how local situat ional chara cteristics, su ch as crime issues, pro mpt the ado ption of speci fic technologies. However, the existing lite rature o n organizational choice provides a us eful starting point a nd an overarching the oretical framework b ecause it describes four perspectives of understanding how organizations identify and ac hieve agency goals. Despi te discussio ns within the cri minal justice arena about policing mode ls and their impact on law enforcement activities (Moore & Tro janowicz, 1988; Wei sburd & Braga, 20 06), o ur review indicated that very little research h as been conducted on associations betw een different views about common pol icing strategies and the acqui sition or perceived impact of This resource was prepared by the author(s) using Federal funds provided by the U.S. Department of Justice. Notwiths tanding wide spread co njecture a bout how so cial media is used b y law e nforcement, there have been few attempts to address this issue systematically. Results indicated that officer s perceived numerous ben efits of in -car camera systems, incl uding increased age ncy accountabil ity, im proved co mmunity pe rceptions, and en hanced office r- related be havio rs (i.e ., professionalism). For instance, results from a randomized controlled experiment in Mesa, Arizona, conducted by PERF indicated no relationship between the number of scanned license plates and vehicle theft rates (Taylor, Koper, & Woods, 2011). Rece nt estimates suggest that a bout o ne-third of lo cal police departments use BWCs, althoug h these numbers are expe cted to i ncrease substa ntially in the future (Reaves, 2015). T he pol icing strate gies inquire d abo ut wer e as follows: pr ofessional, community, problem-oriented, z ero-tolerance, hot-spot, offende r targeting, int elligence-led, and pre dictive po licing. 1Hawaii does not have a stat e police agency.Section 5 — Research Design 5-7mailed reminder letter was se nt with a targe ted expl anation of the im portance o f the pro ject and its be nefit to sma ll age ncies. For example, one agency reporting ha ving im pleme nted an LPR s ystem on the survey, but it was learned duri ng the screening c all that they had recently deco mmissioned the system . Final ly, we assess aspects rel ated to t he ide ntifica tion, acqui sition, and adopti on of technology throug h in-depth, semistructu red discussio ns with agency representatives . Because of sma ll cell sizes for tribal and st ate police/highway patro l agencies, we re coded agency type into a singl e dumm y variable compari ng mun icipal police departments with all others. O ther activities conside red most criti cal included tar geting h igh-risk are as (47% of responde nts identified this activity in their top five), e ngaging the community (35%), stoppi ng an d questio ning s uspici ous per sons (31%) , and arresting p ersons for minor cri mes (25%) . However, early ado pters had gene rally depl oyed these devices to speci alized posi tions such as traffic deta ils or duri ng major events (e.g ., protests, sporting eve nts). Ag encies also discussed t he de sire to expa nd capabilities th at were technology centric but not associ ated with speci fic hardwar e purchase or acquisi tion. Having mo re sworn o fficers was associated with g reater use of GIS, data mining, social me dia, and LPR technol ogy in t he last 2 years. Consisten t with the pre ceding tabl es, within the full sample there was little relat ionsh ip between strategy an d overall nu mber of technological de vices used in the past 2 years. Rather, key factor s that influence d technol ogy adoption were more commonly re lated to com munity issues (i.e., local political clim ate, gover nment policies, dem ands for transparency), agency leadership, and tec hnical infrastruc ture a nd capabilities. Social media was excl uded beca use it s acquisi tion process is subs tantially differ ent from other t echnology (e.g., the start-up costs are typically minimal; they do not require integration into se cure data systems). In disc ussions with officers, IT per sonnel , and depa rtment leadership (see Appen dix B), individ uals descr ibed th e push to purs ue a t echnology a s com ing fr om either the top down or the bot tom up. At least nine o f the age ncies we visited, mo st of which were high-impact agencies, formed working groups to expl ore particula r technol ogy an d cond ucted pilot stu dies or te sting in the field. A number of agencies recommended i nvesting more money in t he initial purch ase to cre ate a robust system with l ower maintenance co sts and longer shelf life. Having in -house tec hnical capa city at differ ent levels facilitated impl ementation acr oss sites but was al so discussed as a particula rly important factor for certain technology. At this agency, a nd other sites with invested leadership, car e and emphasis was placed on the acq uisition pro cess, leading to t he purchase of robust systems that eased implementation. In som e instances, the chief reco gnized that they were not the most technologically savvy person and designa ted someone to act as the key tec hnology stra tegist for the department. A few agencies stresse d office r accountability as a tool to se t expecta tions for a technology and pr event disus e. In one ag ency, this meant having the chief mand ate that all officers use a tech nology. Site visit data illustrate d that public pressure can drive the in itial consideratio n of new technology, particula rly for ca r cameras or BWCs, which are tied to contem porary discussio ns around community -based policing. In other words, at a national level, age ncies are not ma king d ecisions to acquir e technology b ased on the ir dominant policing phil osophies or the activities they prioritize . As pre viously noted , automa ted records management system s (RMS) and computer- aided dispa tch (CAD) we re the technology credited with having t he greatest impact on police agencies nationwi de. Popular atte ntion has turned toward more trendy technol ogy, such as drones and BWCs, bu t software found in the CAD/RMS s ystems sti ll represents a critical technology to a broad range of age ncies. We heard fro m sm aller age ncies that inform ation-sharing pla tform s, for example, were more important fo r shari ng info rmation with ot her agencies rath er than sharing information intra- agency. The per ceived impact of differ ent technologies that are identified, acquire d, and implemented in a pol icing agency varies tremendously a nd this var iation has an effect o n the ado ption process. Give n the importance o f obtai ning buy-in from officers when making cha nges in pol icing, it seems equally important to fully integra te any technological changes into t he established strate gies and actio ns of office rs. The success me trics for tec hnology such a s CAD/RMS ma y be di fficult to ide ntify in adva nce without car efully conside ring how the technology will impact the agency. Recommen dations There are several recommendations for the steps the policing com munity ca n take to cre ate an envir onment of more success ful tech nology acq uisition and use that stem from this project. This la ck of knowle dge made it difficult to implement technology in a way that links t hat technol ogy with departmental goa ls, organization al cultu re, and pol icing strategies. A robust program of intern al evaluation may ameliorate this possi bility by helping to expl ain why the technol ogy was a failure and set up a roadmap for similar future technology. [IF C1a=YES AND A4= C] How important is crime mapping or g eographic infor mation sy stems (GIS) software to the su ccess of involving co mmunity members in devel oping\n",
            "5798\n"
          ]
        }
      ],
      "source": [
        "final_summary_text_2 = final_summary_text\n",
        "print(final_summary_text_2)\n",
        "num_words = len(final_summary_text.split())\n",
        "print(num_words)"
      ]
    },
    {
      "cell_type": "markdown",
      "metadata": {
        "id": "-7_rG4JvGINH"
      },
      "source": [
        "# 3)Using DuckDuckGo search tool, Serper Api Wrapper tool, Wikipedia search tool"
      ]
    },
    {
      "cell_type": "code",
      "execution_count": 11,
      "metadata": {
        "colab": {
          "base_uri": "https://localhost:8080/"
        },
        "id": "Dzj5epTzUyG1",
        "outputId": "5de96736-57d2-47d4-ac0f-b2e8a97d98c5"
      },
      "outputs": [
        {
          "name": "stdout",
          "output_type": "stream",
          "text": [
            "Collecting duckduckgo-search\n",
            "  Downloading duckduckgo_search-5.3.0-py3-none-any.whl (21 kB)\n",
            "Requirement already satisfied: click>=8.1.7 in /usr/local/lib/python3.10/dist-packages (from duckduckgo-search) (8.1.7)\n",
            "Collecting curl-cffi>=0.6.2 (from duckduckgo-search)\n",
            "  Downloading curl_cffi-0.6.2-cp38-abi3-manylinux_2_17_x86_64.manylinux2014_x86_64.whl (5.7 MB)\n",
            "\u001b[2K     \u001b[90m━━━━━━━━━━━━━━━━━━━━━━━━━━━━━━━━━━━━━━━━\u001b[0m \u001b[32m5.7/5.7 MB\u001b[0m \u001b[31m17.2 MB/s\u001b[0m eta \u001b[36m0:00:00\u001b[0m\n",
            "\u001b[?25hCollecting orjson>=3.10.0 (from duckduckgo-search)\n",
            "  Downloading orjson-3.10.0-cp310-cp310-manylinux_2_17_x86_64.manylinux2014_x86_64.whl (144 kB)\n",
            "\u001b[2K     \u001b[90m━━━━━━━━━━━━━━━━━━━━━━━━━━━━━━━━━━━━━━━━\u001b[0m \u001b[32m144.8/144.8 kB\u001b[0m \u001b[31m15.1 MB/s\u001b[0m eta \u001b[36m0:00:00\u001b[0m\n",
            "\u001b[?25hRequirement already satisfied: cffi>=1.12.0 in /usr/local/lib/python3.10/dist-packages (from curl-cffi>=0.6.2->duckduckgo-search) (1.16.0)\n",
            "Requirement already satisfied: certifi in /usr/local/lib/python3.10/dist-packages (from curl-cffi>=0.6.2->duckduckgo-search) (2024.2.2)\n",
            "Requirement already satisfied: pycparser in /usr/local/lib/python3.10/dist-packages (from cffi>=1.12.0->curl-cffi>=0.6.2->duckduckgo-search) (2.22)\n",
            "Installing collected packages: orjson, curl-cffi, duckduckgo-search\n",
            "Successfully installed curl-cffi-0.6.2 duckduckgo-search-5.3.0 orjson-3.10.0\n"
          ]
        }
      ],
      "source": [
        "!pip install duckduckgo-search"
      ]
    },
    {
      "cell_type": "code",
      "execution_count": 12,
      "metadata": {
        "colab": {
          "base_uri": "https://localhost:8080/"
        },
        "id": "8n_F1eZguHxy",
        "outputId": "42baf7a6-e2da-4719-de5a-f70e21ef4993"
      },
      "outputs": [
        {
          "name": "stdout",
          "output_type": "stream",
          "text": [
            "Collecting langchain\n",
            "  Downloading langchain-0.1.15-py3-none-any.whl (814 kB)\n",
            "\u001b[2K     \u001b[90m━━━━━━━━━━━━━━━━━━━━━━━━━━━━━━━━━━━━━━━━\u001b[0m \u001b[32m814.5/814.5 kB\u001b[0m \u001b[31m4.7 MB/s\u001b[0m eta \u001b[36m0:00:00\u001b[0m\n",
            "\u001b[?25hRequirement already satisfied: PyYAML>=5.3 in /usr/local/lib/python3.10/dist-packages (from langchain) (6.0.1)\n",
            "Requirement already satisfied: SQLAlchemy<3,>=1.4 in /usr/local/lib/python3.10/dist-packages (from langchain) (2.0.29)\n",
            "Requirement already satisfied: aiohttp<4.0.0,>=3.8.3 in /usr/local/lib/python3.10/dist-packages (from langchain) (3.9.3)\n",
            "Requirement already satisfied: async-timeout<5.0.0,>=4.0.0 in /usr/local/lib/python3.10/dist-packages (from langchain) (4.0.3)\n",
            "Collecting dataclasses-json<0.7,>=0.5.7 (from langchain)\n",
            "  Downloading dataclasses_json-0.6.4-py3-none-any.whl (28 kB)\n",
            "Collecting jsonpatch<2.0,>=1.33 (from langchain)\n",
            "  Downloading jsonpatch-1.33-py2.py3-none-any.whl (12 kB)\n",
            "Collecting langchain-community<0.1,>=0.0.32 (from langchain)\n",
            "  Downloading langchain_community-0.0.32-py3-none-any.whl (1.9 MB)\n",
            "\u001b[2K     \u001b[90m━━━━━━━━━━━━━━━━━━━━━━━━━━━━━━━━━━━━━━━━\u001b[0m \u001b[32m1.9/1.9 MB\u001b[0m \u001b[31m13.6 MB/s\u001b[0m eta \u001b[36m0:00:00\u001b[0m\n",
            "\u001b[?25hCollecting langchain-core<0.2.0,>=0.1.41 (from langchain)\n",
            "  Downloading langchain_core-0.1.41-py3-none-any.whl (278 kB)\n",
            "\u001b[2K     \u001b[90m━━━━━━━━━━━━━━━━━━━━━━━━━━━━━━━━━━━━━━━━\u001b[0m \u001b[32m278.4/278.4 kB\u001b[0m \u001b[31m12.8 MB/s\u001b[0m eta \u001b[36m0:00:00\u001b[0m\n",
            "\u001b[?25hCollecting langchain-text-splitters<0.1,>=0.0.1 (from langchain)\n",
            "  Downloading langchain_text_splitters-0.0.1-py3-none-any.whl (21 kB)\n",
            "Collecting langsmith<0.2.0,>=0.1.17 (from langchain)\n",
            "  Downloading langsmith-0.1.42-py3-none-any.whl (101 kB)\n",
            "\u001b[2K     \u001b[90m━━━━━━━━━━━━━━━━━━━━━━━━━━━━━━━━━━━━━━━━\u001b[0m \u001b[32m101.7/101.7 kB\u001b[0m \u001b[31m10.6 MB/s\u001b[0m eta \u001b[36m0:00:00\u001b[0m\n",
            "\u001b[?25hRequirement already satisfied: numpy<2,>=1 in /usr/local/lib/python3.10/dist-packages (from langchain) (1.25.2)\n",
            "Requirement already satisfied: pydantic<3,>=1 in /usr/local/lib/python3.10/dist-packages (from langchain) (2.6.4)\n",
            "Requirement already satisfied: requests<3,>=2 in /usr/local/lib/python3.10/dist-packages (from langchain) (2.31.0)\n",
            "Requirement already satisfied: tenacity<9.0.0,>=8.1.0 in /usr/local/lib/python3.10/dist-packages (from langchain) (8.2.3)\n",
            "Requirement already satisfied: aiosignal>=1.1.2 in /usr/local/lib/python3.10/dist-packages (from aiohttp<4.0.0,>=3.8.3->langchain) (1.3.1)\n",
            "Requirement already satisfied: attrs>=17.3.0 in /usr/local/lib/python3.10/dist-packages (from aiohttp<4.0.0,>=3.8.3->langchain) (23.2.0)\n",
            "Requirement already satisfied: frozenlist>=1.1.1 in /usr/local/lib/python3.10/dist-packages (from aiohttp<4.0.0,>=3.8.3->langchain) (1.4.1)\n",
            "Requirement already satisfied: multidict<7.0,>=4.5 in /usr/local/lib/python3.10/dist-packages (from aiohttp<4.0.0,>=3.8.3->langchain) (6.0.5)\n",
            "Requirement already satisfied: yarl<2.0,>=1.0 in /usr/local/lib/python3.10/dist-packages (from aiohttp<4.0.0,>=3.8.3->langchain) (1.9.4)\n",
            "Collecting marshmallow<4.0.0,>=3.18.0 (from dataclasses-json<0.7,>=0.5.7->langchain)\n",
            "  Downloading marshmallow-3.21.1-py3-none-any.whl (49 kB)\n",
            "\u001b[2K     \u001b[90m━━━━━━━━━━━━━━━━━━━━━━━━━━━━━━━━━━━━━━━━\u001b[0m \u001b[32m49.4/49.4 kB\u001b[0m \u001b[31m4.9 MB/s\u001b[0m eta \u001b[36m0:00:00\u001b[0m\n",
            "\u001b[?25hCollecting typing-inspect<1,>=0.4.0 (from dataclasses-json<0.7,>=0.5.7->langchain)\n",
            "  Downloading typing_inspect-0.9.0-py3-none-any.whl (8.8 kB)\n",
            "Collecting jsonpointer>=1.9 (from jsonpatch<2.0,>=1.33->langchain)\n",
            "  Downloading jsonpointer-2.4-py2.py3-none-any.whl (7.8 kB)\n",
            "Collecting packaging<24.0,>=23.2 (from langchain-core<0.2.0,>=0.1.41->langchain)\n",
            "  Downloading packaging-23.2-py3-none-any.whl (53 kB)\n",
            "\u001b[2K     \u001b[90m━━━━━━━━━━━━━━━━━━━━━━━━━━━━━━━━━━━━━━━━\u001b[0m \u001b[32m53.0/53.0 kB\u001b[0m \u001b[31m4.1 MB/s\u001b[0m eta \u001b[36m0:00:00\u001b[0m\n",
            "\u001b[?25hRequirement already satisfied: orjson<4.0.0,>=3.9.14 in /usr/local/lib/python3.10/dist-packages (from langsmith<0.2.0,>=0.1.17->langchain) (3.10.0)\n",
            "Requirement already satisfied: annotated-types>=0.4.0 in /usr/local/lib/python3.10/dist-packages (from pydantic<3,>=1->langchain) (0.6.0)\n",
            "Requirement already satisfied: pydantic-core==2.16.3 in /usr/local/lib/python3.10/dist-packages (from pydantic<3,>=1->langchain) (2.16.3)\n",
            "Requirement already satisfied: typing-extensions>=4.6.1 in /usr/local/lib/python3.10/dist-packages (from pydantic<3,>=1->langchain) (4.10.0)\n",
            "Requirement already satisfied: charset-normalizer<4,>=2 in /usr/local/lib/python3.10/dist-packages (from requests<3,>=2->langchain) (3.3.2)\n",
            "Requirement already satisfied: idna<4,>=2.5 in /usr/local/lib/python3.10/dist-packages (from requests<3,>=2->langchain) (3.6)\n",
            "Requirement already satisfied: urllib3<3,>=1.21.1 in /usr/local/lib/python3.10/dist-packages (from requests<3,>=2->langchain) (2.0.7)\n",
            "Requirement already satisfied: certifi>=2017.4.17 in /usr/local/lib/python3.10/dist-packages (from requests<3,>=2->langchain) (2024.2.2)\n",
            "Requirement already satisfied: greenlet!=0.4.17 in /usr/local/lib/python3.10/dist-packages (from SQLAlchemy<3,>=1.4->langchain) (3.0.3)\n",
            "Collecting mypy-extensions>=0.3.0 (from typing-inspect<1,>=0.4.0->dataclasses-json<0.7,>=0.5.7->langchain)\n",
            "  Downloading mypy_extensions-1.0.0-py3-none-any.whl (4.7 kB)\n",
            "Installing collected packages: packaging, mypy-extensions, jsonpointer, typing-inspect, marshmallow, jsonpatch, langsmith, dataclasses-json, langchain-core, langchain-text-splitters, langchain-community, langchain\n",
            "  Attempting uninstall: packaging\n",
            "    Found existing installation: packaging 24.0\n",
            "    Uninstalling packaging-24.0:\n",
            "      Successfully uninstalled packaging-24.0\n",
            "Successfully installed dataclasses-json-0.6.4 jsonpatch-1.33 jsonpointer-2.4 langchain-0.1.15 langchain-community-0.0.32 langchain-core-0.1.41 langchain-text-splitters-0.0.1 langsmith-0.1.42 marshmallow-3.21.1 mypy-extensions-1.0.0 packaging-23.2 typing-inspect-0.9.0\n"
          ]
        }
      ],
      "source": [
        "!pip install langchain"
      ]
    },
    {
      "cell_type": "code",
      "execution_count": 13,
      "metadata": {
        "id": "FLpmNSgCVvcz"
      },
      "outputs": [],
      "source": [
        "from langchain.tools import DuckDuckGoSearchRun\n",
        "\n",
        "ddg_search = DuckDuckGoSearchRun()\n"
      ]
    },
    {
      "cell_type": "code",
      "execution_count": 14,
      "metadata": {
        "colab": {
          "base_uri": "https://localhost:8080/"
        },
        "id": "KCTDCfhHVy0L",
        "outputId": "125ccf18-026f-4c3f-96a6-c24c7deee8d6"
      },
      "outputs": [
        {
          "name": "stdout",
          "output_type": "stream",
          "text": [
            "The World Economic Forum's newly-launched 'Top 10 Emerging Technologies of 2023' report lists this year's most impactful emerging technologies. The Top 10 list includes environmental innovations, such as sustainable aviation fuels and wearable plant sensors. Other emerging technologies range from innovations harnessing the power of AI to ... The Top 10 Emerging Technologies of 2023 report, now in its 11th year, highlights the technologies set to positively impact society within the next three to five years. This comprehensive report goes beyond listing the top 10 technologies and their associated risks and opportunities. It provides a qualitative assessment of each technology's ... We analyzed more than 250 technologies in our labs and uncovered the key essential eight technologies that we believe are poised to drive the most impact for organizations. But identifying these ... Our updated analysis for 2023 shows that the four industries likely to see the earliest economic impact from quantum computing—automotive, chemicals, financial services, and life sciences—stand to potentially gain up to $1.3 trillion in value by 2035. By carefully assessing the evolving landscape and considering a balanced approach ... Every year, the reporters and editors at MIT Technology Review survey the tech landscape and pick 10 technologies that we think have the greatest potential to change our lives in the years ahead ...\n"
          ]
        }
      ],
      "source": [
        "R1 = ddg_search.run(question)\n",
        "print(R1)"
      ]
    },
    {
      "cell_type": "code",
      "execution_count": 26,
      "metadata": {
        "colab": {
          "base_uri": "https://localhost:8080/"
        },
        "id": "ZHKM0nFgzqO_",
        "outputId": "42c35839-3bbd-4787-d6e2-60fbc364eab3"
      },
      "outputs": [
        {
          "name": "stdout",
          "output_type": "stream",
          "text": [
            "Data written to output.txt\n",
            "Content of the file:\n",
            "The World Economic Forum's newly-launched 'Top 10 Emerging Technologies of 2023' report lists this year's most impactful emerging technologies. The Top 10 list includes environmental innovations, such as sustainable aviation fuels and wearable plant sensors. Other emerging technologies range from innovations harnessing the power of AI to ... The Top 10 Emerging Technologies of 2023 report, now in its 11th year, highlights the technologies set to positively impact society within the next three to five years. This comprehensive report goes beyond listing the top 10 technologies and their associated risks and opportunities. It provides a qualitative assessment of each technology's ... We analyzed more than 250 technologies in our labs and uncovered the key essential eight technologies that we believe are poised to drive the most impact for organizations. But identifying these ... Our updated analysis for 2023 shows that the four industries likely to see the earliest economic impact from quantum computing—automotive, chemicals, financial services, and life sciences—stand to potentially gain up to $1.3 trillion in value by 2035. By carefully assessing the evolving landscape and considering a balanced approach ... Every year, the reporters and editors at MIT Technology Review survey the tech landscape and pick 10 technologies that we think have the greatest potential to change our lives in the years ahead ...\n"
          ]
        }
      ],
      "source": [
        "# Write text to a file\n",
        "text_data = R1\n",
        "file_path = 'output.txt'\n",
        "\n",
        "with open(file_path, 'w', encoding='utf-8') as file:\n",
        "    file.write(text_data)\n",
        "\n",
        "print(\"Data written to\", file_path)\n",
        "\n",
        "# Read and print the text from the file\n",
        "with open(file_path, 'r', encoding='utf-8') as file:\n",
        "    content = file.read()\n",
        "\n",
        "print(\"Content of the file:\")\n",
        "print(content)"
      ]
    },
    {
      "cell_type": "markdown",
      "metadata": {
        "id": "jJA9Ayi3zKP4"
      },
      "source": []
    },
    {
      "cell_type": "code",
      "execution_count": 15,
      "metadata": {
        "id": "zxe1Jca6WIJ3"
      },
      "outputs": [],
      "source": [
        "from langchain.agents import Tool\n",
        "\n",
        "tools = [\n",
        "   Tool(\n",
        "       name=\"DuckDuckGo Search\",\n",
        "       func=ddg_search.run,\n",
        "       description=\"Useful to browse information from the Internet.\",\n",
        "   )\n",
        "]\n"
      ]
    },
    {
      "cell_type": "code",
      "execution_count": 16,
      "metadata": {
        "colab": {
          "base_uri": "https://localhost:8080/"
        },
        "id": "nkQFD3mcWR_s",
        "outputId": "3cd4195e-29c7-4f30-f21b-4d499ebc4e5e"
      },
      "outputs": [
        {
          "name": "stdout",
          "output_type": "stream",
          "text": [
            "Collecting google-serp-api\n",
            "  Downloading google_serp_api-1.0.4-py3-none-any.whl (9.7 kB)\n",
            "Requirement already satisfied: requests in /usr/local/lib/python3.10/dist-packages (from google-serp-api) (2.31.0)\n",
            "Requirement already satisfied: charset-normalizer<4,>=2 in /usr/local/lib/python3.10/dist-packages (from requests->google-serp-api) (3.3.2)\n",
            "Requirement already satisfied: idna<4,>=2.5 in /usr/local/lib/python3.10/dist-packages (from requests->google-serp-api) (3.6)\n",
            "Requirement already satisfied: urllib3<3,>=1.21.1 in /usr/local/lib/python3.10/dist-packages (from requests->google-serp-api) (2.0.7)\n",
            "Requirement already satisfied: certifi>=2017.4.17 in /usr/local/lib/python3.10/dist-packages (from requests->google-serp-api) (2024.2.2)\n",
            "Installing collected packages: google-serp-api\n",
            "Successfully installed google-serp-api-1.0.4\n"
          ]
        }
      ],
      "source": [
        "pip install google-serp-api"
      ]
    },
    {
      "cell_type": "code",
      "execution_count": 17,
      "metadata": {
        "id": "U2oOp_cjWb3N"
      },
      "outputs": [],
      "source": [
        "import os\n",
        "os.environ[\"SERPER_API_KEY\"] = \"55dde2f9ef1223219d597e7a579eb6cd82d79ce4\"\n"
      ]
    },
    {
      "cell_type": "code",
      "execution_count": 18,
      "metadata": {
        "id": "Of71KilvXP0m"
      },
      "outputs": [],
      "source": [
        "from langchain.utilities import GoogleSerperAPIWrapper\n",
        "\n",
        "google_search = GoogleSerperAPIWrapper()\n"
      ]
    },
    {
      "cell_type": "code",
      "execution_count": 19,
      "metadata": {
        "id": "5w0nBv7mXRrC"
      },
      "outputs": [],
      "source": [
        "tools.append(\n",
        "   Tool(\n",
        "       name=\"Google Search\",\n",
        "       func=google_search.run,\n",
        "       description=\"Useful to search in Google. Use by default.\",\n",
        "   )\n",
        ")\n"
      ]
    },
    {
      "cell_type": "code",
      "execution_count": 20,
      "metadata": {
        "colab": {
          "base_uri": "https://localhost:8080/"
        },
        "id": "Ked4Aup0XXuC",
        "outputId": "cc255d3b-fb40-4440-943f-fb6533531b96"
      },
      "outputs": [
        {
          "name": "stdout",
          "output_type": "stream",
          "text": [
            "Other innovations will be key for achieving net-zero targets in sectors like energy efficiency, renewable fuels, direct air capture and storage. Missing: 8 | Show results with:8. We propose plans for carbon neutrality such as shifting away from fossil fuels toward renewable energy, and the development of low-carbon ... Missing: impactful fundamental. Explore innovative climate technology solutions designed to combat environmental challenges. Discover how cutting-edge advancements are ... Missing: impactful provision fundamental. Technological innovation (TI) can optimise energy structure and achieve green development, notably by reducing carbon dioxide (CO2) emissions. Missing: impactful key provision fundamental. These innovative technologies are in the fields of electrification, green hydrogen integration, carbon capture utilisation and storage ... Missing: proactive provision. Various technologies—AI, cloud, blockchain, analytics, IoT, and more—can play a role in reducing carbon emissions. AI is a particularly powerful tool. For ... Missing: impactful | Show results with:impactful. Big tech companies' products are deeply embedded in everyday life, reshaping consumption habits and social interactions. These products can also ... Missing: impactful | Show results with:impactful. BrainBox AI, Pendulum, and VIA are using generative AI on AWS in exciting ways to address the climate crisis. They make use of generative AI's ... Artificial Intelligence (AI) and Machine Learning (ML) have emerged as game-changing technologies for businesses, enabling automation and ... Innovation is critical to the future well-being of society and to driving economic growth, both of which are key priority areas for the World ... Missing: impactful | Show results with:impactful.\n"
          ]
        }
      ],
      "source": [
        "R2=google_search.run(question)\n",
        "print(R2)"
      ]
    },
    {
      "cell_type": "code",
      "execution_count": 21,
      "metadata": {
        "colab": {
          "base_uri": "https://localhost:8080/"
        },
        "id": "Tt63HW1fX3mq",
        "outputId": "4e334f32-2b7d-4852-b63e-6856f6b718f4"
      },
      "outputs": [
        {
          "name": "stdout",
          "output_type": "stream",
          "text": [
            "  Preparing metadata (setup.py) ... \u001b[?25l\u001b[?25hdone\n",
            "  Building wheel for wikipedia (setup.py) ... \u001b[?25l\u001b[?25hdone\n"
          ]
        }
      ],
      "source": [
        "%pip install --upgrade --quiet  wikipedia"
      ]
    },
    {
      "cell_type": "code",
      "execution_count": 22,
      "metadata": {
        "id": "ZU0AL6wXHGgF"
      },
      "outputs": [],
      "source": [
        "from langchain.tools import WikipediaQueryRun\n",
        "from langchain_community.utilities import WikipediaAPIWrapper"
      ]
    },
    {
      "cell_type": "code",
      "execution_count": 23,
      "metadata": {
        "id": "AjJJft5gHI4V"
      },
      "outputs": [],
      "source": [
        "wikipedia = WikipediaQueryRun(api_wrapper=WikipediaAPIWrapper())"
      ]
    },
    {
      "cell_type": "code",
      "execution_count": 24,
      "metadata": {
        "colab": {
          "base_uri": "https://localhost:8080/"
        },
        "id": "OSnfDdqcHKi9",
        "outputId": "ebb3f2e4-9d08-415f-8ce5-51859267938e"
      },
      "outputs": [
        {
          "name": "stdout",
          "output_type": "stream",
          "text": [
            "No good Wikipedia Search Result was found\n"
          ]
        }
      ],
      "source": [
        "R3 = wikipedia.run(question)\n",
        "print(R3)"
      ]
    },
    {
      "cell_type": "code",
      "execution_count": 25,
      "metadata": {
        "colab": {
          "base_uri": "https://localhost:8080/"
        },
        "id": "LK83zc9aHiZ-",
        "outputId": "b27146a0-9532-46a6-cd8d-231b874f3112"
      },
      "outputs": [
        {
          "name": "stdout",
          "output_type": "stream",
          "text": [
            "The World Economic Forum's newly-launched 'Top 10 Emerging Technologies of 2023' report lists this year's most impactful emerging technologies. The Top 10 list includes environmental innovations, such as sustainable aviation fuels and wearable plant sensors. Other emerging technologies range from innovations harnessing the power of AI to ... The Top 10 Emerging Technologies of 2023 report, now in its 11th year, highlights the technologies set to positively impact society within the next three to five years. This comprehensive report goes beyond listing the top 10 technologies and their associated risks and opportunities. It provides a qualitative assessment of each technology's ... We analyzed more than 250 technologies in our labs and uncovered the key essential eight technologies that we believe are poised to drive the most impact for organizations. But identifying these ... Our updated analysis for 2023 shows that the four industries likely to see the earliest economic impact from quantum computing—automotive, chemicals, financial services, and life sciences—stand to potentially gain up to $1.3 trillion in value by 2035. By carefully assessing the evolving landscape and considering a balanced approach ... Every year, the reporters and editors at MIT Technology Review survey the tech landscape and pick 10 technologies that we think have the greatest potential to change our lives in the years ahead ...Other innovations will be key for achieving net-zero targets in sectors like energy efficiency, renewable fuels, direct air capture and storage. Missing: 8 | Show results with:8. We propose plans for carbon neutrality such as shifting away from fossil fuels toward renewable energy, and the development of low-carbon ... Missing: impactful fundamental. Explore innovative climate technology solutions designed to combat environmental challenges. Discover how cutting-edge advancements are ... Missing: impactful provision fundamental. Technological innovation (TI) can optimise energy structure and achieve green development, notably by reducing carbon dioxide (CO2) emissions. Missing: impactful key provision fundamental. These innovative technologies are in the fields of electrification, green hydrogen integration, carbon capture utilisation and storage ... Missing: proactive provision. Various technologies—AI, cloud, blockchain, analytics, IoT, and more—can play a role in reducing carbon emissions. AI is a particularly powerful tool. For ... Missing: impactful | Show results with:impactful. Big tech companies' products are deeply embedded in everyday life, reshaping consumption habits and social interactions. These products can also ... Missing: impactful | Show results with:impactful. BrainBox AI, Pendulum, and VIA are using generative AI on AWS in exciting ways to address the climate crisis. They make use of generative AI's ... Artificial Intelligence (AI) and Machine Learning (ML) have emerged as game-changing technologies for businesses, enabling automation and ... Innovation is critical to the future well-being of society and to driving economic growth, both of which are key priority areas for the World ... Missing: impactful | Show results with:impactful.No good Wikipedia Search Result was found\n"
          ]
        }
      ],
      "source": [
        "final_summary_3 = \"\"\n",
        "final_summary_3 += R1 + R2 + R3\n",
        "print(final_summary_3)\n"
      ]
    },
    {
      "cell_type": "code",
      "execution_count": null,
      "metadata": {
        "colab": {
          "base_uri": "https://localhost:8080/"
        },
        "id": "4jq-8Sc7LYaQ",
        "outputId": "19cf8173-80db-4c30-d1b1-d808e96d43ef"
      },
      "outputs": [
        {
          "name": "stdout",
          "output_type": "stream",
          "text": [
            "Requirement already satisfied: gensim in /usr/local/lib/python3.10/dist-packages (4.3.2)\n",
            "Requirement already satisfied: numpy>=1.18.5 in /usr/local/lib/python3.10/dist-packages (from gensim) (1.25.2)\n",
            "Requirement already satisfied: scipy>=1.7.0 in /usr/local/lib/python3.10/dist-packages (from gensim) (1.11.4)\n",
            "Requirement already satisfied: smart-open>=1.8.1 in /usr/local/lib/python3.10/dist-packages (from gensim) (6.4.0)\n"
          ]
        }
      ],
      "source": [
        "!pip install gensim"
      ]
    },
    {
      "cell_type": "code",
      "execution_count": null,
      "metadata": {
        "colab": {
          "base_uri": "https://localhost:8080/"
        },
        "id": "7VidJsmlLDNz",
        "outputId": "548a08ce-0c70-48ad-cae2-1d2362e662c6"
      },
      "outputs": [
        {
          "name": "stdout",
          "output_type": "stream",
          "text": [
            "Carbon capture, utilization, and storage (CCUS) technology plays a pivotal role in China's \"Carbon Peak\" and \"Carbon Neutrality\" goals. This approach offers low-carbon, zero-carbon, and even negative-carbon solutions. This paper employs bibliometric analysis using the Web of Science to comprehensively review global CCUS progress and discuss future development prospects in China. The evidence instead shows that targeted technology support through long-term contracts has been most successful in deploying at scale key low-carbon technologies 19,20,21,47. The survey instrument examined ten climate-intervention technologies that have been the focus of most research and discussion, categorized into three technology categories, with participants ... Both carbon avoidance and carbon capture technologies are necessary and urgently needed, but governments and investors should prioritize funding avoidance technologies, which offer immediate pollution reduction while establishing the mainstream technology of the future. In a post-carbon world, our descendants, even a thousand years from now ... 2.1 Action plan: voluntary approach. The voluntary approach is an action-oriented plan to act on political will. The PA sets a country-specific evolutionary scheme to hold 2°C without a clear direction on country-specific targets in line with the scientific reports of the IPCC. The NDCs—a country-specific, open-ended scheme—provide a very flexible way forward towards the definite goal of ...Some countries define their net-zero target in terms of carbon neutrality and there is some ambiguity and uncertainty on whether these targets ... Herein, we review innovative technologies that offer solutions achieving carbon (C) neutrality and sustainable development, including those for ... By 2020 more than 110 countries committed to a net zero emissions target by 2050, and China, the largest emitter by 2060. Missing: Summary Table Evidence. Carbon Brief looks at national responsibility for historical emissions of CO2 from 1850-2021, updating analysis published in 2019. Herein, we review innovative technologies that offer solutions achieving carbon (C) neutrality and sustainable development, including those for renewable energy ... The OECD's contribution to climate action centers on five core pillars: 1) supporting policy pathways to net zero 2) enhancing adaptation and ... The Carbon Footprint of Bank Loans (CFBL) captures the exposure of banks to transition risk in a cross-country comparable way. The CFBL is a country-level ... Missing: Summary Major. We propose plans for carbon neutrality such as shifting away from fossil fuels toward renewable energy, and the development of low-carbon ... Based on integrated analysis of international experience from the world's major developed countries, in-depth knowledge of the current and future technologies ... Missing: Table | Show results with:Table.Page: Climate change Summary: In common usage, climate change describes global warming—the ongoing increase in global average temperature—and its effects on Earth's climate system. Climate change in a broader sense also includes previous long-term changes to Earth's climate. The current rise in global average temperature is more rapid than previous changes, and is primarily caused by humans burning fossil fuels. Fossil fuel use, deforestation, and some agricultural and industrial practices add to greenhouse gases, notably carbon dioxide and methane. Greenhouse gases absorb some of the heat that the Earth radiates after it warms from sunlight. Larger amounts of these gases trap more heat in Earth's lower atmosphere, causing global warming. Climate change has an increasingly large impact on the environment. Deserts are expanding, while heat waves and wildfires are becoming more common. Amplified warming in the Arctic has contributed to thawing permafrost, retreat of glaciers and sea ice decline. Higher temperatures are also causing more intense storms, droughts, and other weather extremes. Rapid environmental change in mountains, coral reefs, and the Arctic is forcing many species to relocate or become extinct. Even if efforts to minimise future warming are successful, some effects will continue for centuries. These include ocean heating, ocean acidification and sea level rise.Climate change threatens people with increased flooding, extreme heat, increased food and water scarcity, more disease, and economic loss. Human migration and conflict can also be a result. The World Health Organization (WHO) calls climate change the greatest threat to global health in the 21st century. Societies and ecosystems will experience more severe risks without action to limit warming. Adapting to climate change through efforts like flood control measures or drought-resistant crops partially reduces climate change risks, although some limits to adaptation have already been reached. Poorer communities are responsible for a small share of global emissions, yet have the least ability to adapt and are most vulnerable to climate change. Many climate change impacts have been felt in recent years, with 2023 the warmest on record at +1.48 °C (2.66 °F). Additional warming will increase these impacts and can trigger tipping points, such as melting all of the Greenland ice sheet. Under the 2015 Paris Agreement, nations collectively agreed to keep warming \"well under 2 °C\". However, with pledges made under the Agreement, global warming would still reach about 2.7 °C (4.9 °F) by the end of the century. Limiting warming to 1.5 °C will require halving emissions by 2030 and achieving net-zero emissions by 2050.Fossil fuel use can be phased out by conserving energy and switching to energy sources that do not produce significant carbon pollution. These energy sources include wind, solar, hydro, and nuclear power. Cleanly generated electricity can replace fossil fuels for powering transportation, heating buildings, and running industrial processes. Carbon can also be removed from the atmosphere, for instance by increasing forest cover and farming with methods that capture carbon in soil. Page: Carbon dioxide Summary: Carbon dioxide is a chemical compound with the chemical formula CO2. It is made up of molecules that each have one carbon atom covalently double bonded to two oxygen atoms. It is found in the gas state at room temperature, and as the source of available carbon in the carbon cycle, atmospheric CO2 is the primary carbon source for life on Earth. In the air, carbon dioxide is transparent to visible light but absorbs infrared radiation, acting as a greenhouse gas. Carbon dioxide is soluble in water and is found in groundwater, lakes, ice caps, and seawater. When carbon dioxide dissolves in water, it forms carbonate and mainly bicarbonate (HCO−3), which causes ocean acidification as atmospheric CO2 levels increase.It is a trace gas in Earth's atmosphere at\n",
            "1025\n"
          ]
        }
      ],
      "source": [
        "summarizer = LsaSummarizer()\n",
        "summarizer.stop_words = ['a', 'an', 'the']\n",
        "parser = PlaintextParser.from_string(final_summary_3, Tokenizer(\"english\"))\n",
        "summary_sentences = summarizer(parser.document, 50)\n",
        "\n",
        "# Joining the sentences into a single paragraph\n",
        "final_summary_text_3 = ' '.join(str(sentence) for sentence in summary_sentences)\n",
        "\n",
        "# Now you have all the sentences concatenated into a single paragraph stored in the variable final_summary_text_3\n",
        "print(final_summary_text_3)\n",
        "num_words = len(final_summary_text_3.split())\n",
        "print(num_words)"
      ]
    },
    {
      "cell_type": "markdown",
      "metadata": {
        "id": "L4NqiI-uNaXi"
      },
      "source": [
        "#Result Calculations using GPT - 3.5"
      ]
    },
    {
      "cell_type": "code",
      "execution_count": null,
      "metadata": {
        "id": "Zie8EUkZc3sY"
      },
      "outputs": [],
      "source": [
        "pip install langchain"
      ]
    },
    {
      "cell_type": "code",
      "execution_count": null,
      "metadata": {
        "id": "XtI5AjSuvSZZ"
      },
      "outputs": [],
      "source": [
        "from langchain.embeddings import OpenAIEmbeddings\n",
        "from langchain.text_splitter import CharacterTextSplitter\n",
        "from langchain.vectorstores import Chroma\n",
        "from langchain.document_loaders import TextLoader\n",
        "from langchain.llms import OpenAI\n",
        "from langchain.chains import RetrievalQA"
      ]
    },
    {
      "cell_type": "code",
      "execution_count": null,
      "metadata": {
        "id": "DWo2b2YiekJT"
      },
      "outputs": [],
      "source": [
        "import os\n",
        "os.environ[\"OPENAI_API_KEY\"] = \"your key\""
      ]
    },
    {
      "cell_type": "code",
      "execution_count": null,
      "metadata": {
        "id": "1FLDBXfAen6I"
      },
      "outputs": [],
      "source": [
        "# Import the os package\n",
        "import os\n",
        "\n",
        "# Import the openai package\n",
        "import openai\n",
        "\n",
        "# From the IPython.display package, import display and Markdown\n",
        "from IPython.display import display, Markdown\n",
        "\n",
        "# Import yfinance as yf\n",
        "import yfinance as yf"
      ]
    },
    {
      "cell_type": "code",
      "execution_count": null,
      "metadata": {
        "id": "AVB4jTgaikoE"
      },
      "outputs": [],
      "source": [
        "os.environ[\"OPENAI_API_KEY\"] = \"your key\""
      ]
    },
    {
      "cell_type": "code",
      "execution_count": null,
      "metadata": {
        "colab": {
          "base_uri": "https://localhost:8080/"
        },
        "id": "io2R2sVokvPQ",
        "outputId": "b4686bd9-9b06-48a3-c8e3-9536762a2d24"
      },
      "outputs": [
        {
          "name": "stdout",
          "output_type": "stream",
          "text": [
            "Requirement already satisfied: openai==0.28 in /usr/local/lib/python3.10/dist-packages (0.28.0)\n",
            "Requirement already satisfied: requests>=2.20 in /usr/local/lib/python3.10/dist-packages (from openai==0.28) (2.31.0)\n",
            "Requirement already satisfied: tqdm in /usr/local/lib/python3.10/dist-packages (from openai==0.28) (4.66.2)\n",
            "Requirement already satisfied: aiohttp in /usr/local/lib/python3.10/dist-packages (from openai==0.28) (3.9.3)\n",
            "Requirement already satisfied: charset-normalizer<4,>=2 in /usr/local/lib/python3.10/dist-packages (from requests>=2.20->openai==0.28) (3.3.2)\n",
            "Requirement already satisfied: idna<4,>=2.5 in /usr/local/lib/python3.10/dist-packages (from requests>=2.20->openai==0.28) (3.6)\n",
            "Requirement already satisfied: urllib3<3,>=1.21.1 in /usr/local/lib/python3.10/dist-packages (from requests>=2.20->openai==0.28) (2.0.7)\n",
            "Requirement already satisfied: certifi>=2017.4.17 in /usr/local/lib/python3.10/dist-packages (from requests>=2.20->openai==0.28) (2024.2.2)\n",
            "Requirement already satisfied: aiosignal>=1.1.2 in /usr/local/lib/python3.10/dist-packages (from aiohttp->openai==0.28) (1.3.1)\n",
            "Requirement already satisfied: attrs>=17.3.0 in /usr/local/lib/python3.10/dist-packages (from aiohttp->openai==0.28) (23.2.0)\n",
            "Requirement already satisfied: frozenlist>=1.1.1 in /usr/local/lib/python3.10/dist-packages (from aiohttp->openai==0.28) (1.4.1)\n",
            "Requirement already satisfied: multidict<7.0,>=4.5 in /usr/local/lib/python3.10/dist-packages (from aiohttp->openai==0.28) (6.0.5)\n",
            "Requirement already satisfied: yarl<2.0,>=1.0 in /usr/local/lib/python3.10/dist-packages (from aiohttp->openai==0.28) (1.9.4)\n",
            "Requirement already satisfied: async-timeout<5.0,>=4.0 in /usr/local/lib/python3.10/dist-packages (from aiohttp->openai==0.28) (4.0.3)\n"
          ]
        }
      ],
      "source": [
        "pip install openai==0.28"
      ]
    },
    {
      "cell_type": "code",
      "execution_count": null,
      "metadata": {
        "colab": {
          "base_uri": "https://localhost:8080/"
        },
        "id": "KGl5TYmwVBZZ",
        "outputId": "401f505a-18e0-4535-d780-72b5dc6ec490"
      },
      "outputs": [
        {
          "name": "stdout",
          "output_type": "stream",
          "text": [
            "Requirement already satisfied: openai in /usr/local/lib/python3.10/dist-packages (0.28.0)\n",
            "Requirement already satisfied: requests>=2.20 in /usr/local/lib/python3.10/dist-packages (from openai) (2.31.0)\n",
            "Requirement already satisfied: tqdm in /usr/local/lib/python3.10/dist-packages (from openai) (4.66.2)\n",
            "Requirement already satisfied: aiohttp in /usr/local/lib/python3.10/dist-packages (from openai) (3.9.3)\n",
            "Requirement already satisfied: charset-normalizer<4,>=2 in /usr/local/lib/python3.10/dist-packages (from requests>=2.20->openai) (3.3.2)\n",
            "Requirement already satisfied: idna<4,>=2.5 in /usr/local/lib/python3.10/dist-packages (from requests>=2.20->openai) (3.6)\n",
            "Requirement already satisfied: urllib3<3,>=1.21.1 in /usr/local/lib/python3.10/dist-packages (from requests>=2.20->openai) (2.0.7)\n",
            "Requirement already satisfied: certifi>=2017.4.17 in /usr/local/lib/python3.10/dist-packages (from requests>=2.20->openai) (2024.2.2)\n",
            "Requirement already satisfied: aiosignal>=1.1.2 in /usr/local/lib/python3.10/dist-packages (from aiohttp->openai) (1.3.1)\n",
            "Requirement already satisfied: attrs>=17.3.0 in /usr/local/lib/python3.10/dist-packages (from aiohttp->openai) (23.2.0)\n",
            "Requirement already satisfied: frozenlist>=1.1.1 in /usr/local/lib/python3.10/dist-packages (from aiohttp->openai) (1.4.1)\n",
            "Requirement already satisfied: multidict<7.0,>=4.5 in /usr/local/lib/python3.10/dist-packages (from aiohttp->openai) (6.0.5)\n",
            "Requirement already satisfied: yarl<2.0,>=1.0 in /usr/local/lib/python3.10/dist-packages (from aiohttp->openai) (1.9.4)\n",
            "Requirement already satisfied: async-timeout<5.0,>=4.0 in /usr/local/lib/python3.10/dist-packages (from aiohttp->openai) (4.0.3)\n"
          ]
        }
      ],
      "source": [
        "!pip install openai"
      ]
    },
    {
      "cell_type": "code",
      "execution_count": null,
      "metadata": {
        "id": "bs-gIKqeT0yT"
      },
      "outputs": [],
      "source": [
        "import openai\n",
        "import os\n",
        "\n",
        "os.environ[\"OPENAI_API_KEY\"] = \"your key\"\n"
      ]
    },
    {
      "cell_type": "code",
      "execution_count": null,
      "metadata": {
        "colab": {
          "base_uri": "https://localhost:8080/"
        },
        "id": "hL1HbnQ4VloO",
        "outputId": "b6f9b703-c9ba-413f-c98a-305adb3cf825"
      },
      "outputs": [
        {
          "name": "stdout",
          "output_type": "stream",
          "text": [
            "Requirement already satisfied: langchain in /usr/local/lib/python3.10/dist-packages (0.1.14)\n",
            "Requirement already satisfied: PyYAML>=5.3 in /usr/local/lib/python3.10/dist-packages (from langchain) (6.0.1)\n",
            "Requirement already satisfied: SQLAlchemy<3,>=1.4 in /usr/local/lib/python3.10/dist-packages (from langchain) (2.0.29)\n",
            "Requirement already satisfied: aiohttp<4.0.0,>=3.8.3 in /usr/local/lib/python3.10/dist-packages (from langchain) (3.9.3)\n",
            "Requirement already satisfied: async-timeout<5.0.0,>=4.0.0 in /usr/local/lib/python3.10/dist-packages (from langchain) (4.0.3)\n",
            "Requirement already satisfied: dataclasses-json<0.7,>=0.5.7 in /usr/local/lib/python3.10/dist-packages (from langchain) (0.6.4)\n",
            "Requirement already satisfied: jsonpatch<2.0,>=1.33 in /usr/local/lib/python3.10/dist-packages (from langchain) (1.33)\n",
            "Requirement already satisfied: langchain-community<0.1,>=0.0.30 in /usr/local/lib/python3.10/dist-packages (from langchain) (0.0.31)\n",
            "Requirement already satisfied: langchain-core<0.2.0,>=0.1.37 in /usr/local/lib/python3.10/dist-packages (from langchain) (0.1.40)\n",
            "Requirement already satisfied: langchain-text-splitters<0.1,>=0.0.1 in /usr/local/lib/python3.10/dist-packages (from langchain) (0.0.1)\n",
            "Requirement already satisfied: langsmith<0.2.0,>=0.1.17 in /usr/local/lib/python3.10/dist-packages (from langchain) (0.1.40)\n",
            "Requirement already satisfied: numpy<2,>=1 in /usr/local/lib/python3.10/dist-packages (from langchain) (1.25.2)\n",
            "Requirement already satisfied: pydantic<3,>=1 in /usr/local/lib/python3.10/dist-packages (from langchain) (2.6.4)\n",
            "Requirement already satisfied: requests<3,>=2 in /usr/local/lib/python3.10/dist-packages (from langchain) (2.31.0)\n",
            "Requirement already satisfied: tenacity<9.0.0,>=8.1.0 in /usr/local/lib/python3.10/dist-packages (from langchain) (8.2.3)\n",
            "Requirement already satisfied: aiosignal>=1.1.2 in /usr/local/lib/python3.10/dist-packages (from aiohttp<4.0.0,>=3.8.3->langchain) (1.3.1)\n",
            "Requirement already satisfied: attrs>=17.3.0 in /usr/local/lib/python3.10/dist-packages (from aiohttp<4.0.0,>=3.8.3->langchain) (23.2.0)\n",
            "Requirement already satisfied: frozenlist>=1.1.1 in /usr/local/lib/python3.10/dist-packages (from aiohttp<4.0.0,>=3.8.3->langchain) (1.4.1)\n",
            "Requirement already satisfied: multidict<7.0,>=4.5 in /usr/local/lib/python3.10/dist-packages (from aiohttp<4.0.0,>=3.8.3->langchain) (6.0.5)\n",
            "Requirement already satisfied: yarl<2.0,>=1.0 in /usr/local/lib/python3.10/dist-packages (from aiohttp<4.0.0,>=3.8.3->langchain) (1.9.4)\n",
            "Requirement already satisfied: marshmallow<4.0.0,>=3.18.0 in /usr/local/lib/python3.10/dist-packages (from dataclasses-json<0.7,>=0.5.7->langchain) (3.21.1)\n",
            "Requirement already satisfied: typing-inspect<1,>=0.4.0 in /usr/local/lib/python3.10/dist-packages (from dataclasses-json<0.7,>=0.5.7->langchain) (0.9.0)\n",
            "Requirement already satisfied: jsonpointer>=1.9 in /usr/local/lib/python3.10/dist-packages (from jsonpatch<2.0,>=1.33->langchain) (2.4)\n",
            "Requirement already satisfied: packaging<24.0,>=23.2 in /usr/local/lib/python3.10/dist-packages (from langchain-core<0.2.0,>=0.1.37->langchain) (23.2)\n",
            "Requirement already satisfied: orjson<4.0.0,>=3.9.14 in /usr/local/lib/python3.10/dist-packages (from langsmith<0.2.0,>=0.1.17->langchain) (3.10.0)\n",
            "Requirement already satisfied: annotated-types>=0.4.0 in /usr/local/lib/python3.10/dist-packages (from pydantic<3,>=1->langchain) (0.6.0)\n",
            "Requirement already satisfied: pydantic-core==2.16.3 in /usr/local/lib/python3.10/dist-packages (from pydantic<3,>=1->langchain) (2.16.3)\n",
            "Requirement already satisfied: typing-extensions>=4.6.1 in /usr/local/lib/python3.10/dist-packages (from pydantic<3,>=1->langchain) (4.10.0)\n",
            "Requirement already satisfied: charset-normalizer<4,>=2 in /usr/local/lib/python3.10/dist-packages (from requests<3,>=2->langchain) (3.3.2)\n",
            "Requirement already satisfied: idna<4,>=2.5 in /usr/local/lib/python3.10/dist-packages (from requests<3,>=2->langchain) (3.6)\n",
            "Requirement already satisfied: urllib3<3,>=1.21.1 in /usr/local/lib/python3.10/dist-packages (from requests<3,>=2->langchain) (2.0.7)\n",
            "Requirement already satisfied: certifi>=2017.4.17 in /usr/local/lib/python3.10/dist-packages (from requests<3,>=2->langchain) (2024.2.2)\n",
            "Requirement already satisfied: greenlet!=0.4.17 in /usr/local/lib/python3.10/dist-packages (from SQLAlchemy<3,>=1.4->langchain) (3.0.3)\n",
            "Requirement already satisfied: mypy-extensions>=0.3.0 in /usr/local/lib/python3.10/dist-packages (from typing-inspect<1,>=0.4.0->dataclasses-json<0.7,>=0.5.7->langchain) (1.0.0)\n"
          ]
        }
      ],
      "source": [
        "!pip install langchain"
      ]
    },
    {
      "cell_type": "code",
      "execution_count": null,
      "metadata": {
        "colab": {
          "base_uri": "https://localhost:8080/"
        },
        "id": "oPFwL8qiLBRA",
        "outputId": "656f5039-966f-4a55-90e6-5d33ee7c617f"
      },
      "outputs": [
        {
          "name": "stderr",
          "output_type": "stream",
          "text": [
            "/usr/local/lib/python3.10/dist-packages/langchain_community/llms/openai.py:249: UserWarning: You are trying to use a chat model. This way of initializing it is no longer supported. Instead, please use: `from langchain_community.chat_models import ChatOpenAI`\n",
            "  warnings.warn(\n",
            "/usr/local/lib/python3.10/dist-packages/langchain_community/llms/openai.py:1070: UserWarning: You are trying to use a chat model. This way of initializing it is no longer supported. Instead, please use: `from langchain_community.chat_models import ChatOpenAI`\n",
            "  warnings.warn(\n"
          ]
        }
      ],
      "source": [
        "from langchain.llms.openai import OpenAI\n",
        "\n",
        "llm = OpenAI(model_name=\"gpt-3.5-turbo\")"
      ]
    },
    {
      "cell_type": "markdown",
      "metadata": {
        "id": "7jq27oz8Af9e"
      },
      "source": [
        "#Zero shot GPT - 3.5 response for the query"
      ]
    },
    {
      "cell_type": "code",
      "execution_count": null,
      "metadata": {
        "id": "fG2KgYswivzf"
      },
      "outputs": [],
      "source": [
        "user_msg='Answer very precisely and in detailed format using tables,calculations if needed for the question(1000-2000 words) : ' + question\n",
        "response = openai.ChatCompletion.create(\n",
        "              model=\"gpt-3.5-turbo\",\n",
        "              messages=[{\"role\": \"system\", \"content\": 'You are a helpful assistant which has some information from google in prompt, answer using this information and your own brain '},\n",
        "                        {\"role\": \"user\", \"content\": user_msg}\n",
        "              ])"
      ]
    },
    {
      "cell_type": "code",
      "execution_count": null,
      "metadata": {
        "colab": {
          "base_uri": "https://localhost:8080/"
        },
        "id": "jxvc9eUSnU3q",
        "outputId": "3cb14762-bbca-4ace-a909-994555e0cab8"
      },
      "outputs": [
        {
          "name": "stdout",
          "output_type": "stream",
          "text": [
            "Key Areas for Proactive Provision of Carbon-Neutral Technologies:\n",
            "\n",
            "1. Energy Generation\n",
            "2. Transportation\n",
            "3. Industrial Processes\n",
            "4. Agriculture and Forestry\n",
            "5. Buildings and Construction\n",
            "6. Carbon Capture and Storage\n",
            "7. Waste Management\n",
            "8. Information and Communication Technologies\n",
            "\n",
            "1. Energy Generation:\n",
            "In the realm of energy generation, there have been significant advancements in renewable energy technologies such as solar, wind, and hydropower. These technologies are crucial for achieving carbon neutrality as they produce energy without emitting greenhouse gases. Solar power, for instance, has seen substantial growth in recent years due to declining costs and improved efficiency of solar panels. Wind energy has also made impressive strides in terms of cost-effectiveness and scalability.\n",
            "\n",
            "| Technology                | Description                                        | Relation to Fundamental Technologies                         |\n",
            "|-------------------------- |---------------------------------------------------|------------------------------------------------------------|\n",
            "| Solar Power               | Utilizes sunlight to generate electricity          | Relies on photovoltaic cells and inverters for conversion |\n",
            "| Wind Energy               | Harnesses wind to generate power                   | Fundamental technology: Turbines convert kinetic energy into electricity |\n",
            "| Hydropower                | Uses flowing water to produce electricity          | Primary technology: Dams or turbines convert water's energy into electricity |\n",
            "\n",
            "2. Transportation:\n",
            "The transportation sector is a major contributor to carbon emissions. Therefore, the development of electric vehicles (EVs) has been crucial for reducing emissions in this key area. EVs have advanced significantly in terms of range, performance, and affordability, making them a viable alternative to traditional internal combustion engine vehicles.\n",
            "\n",
            "| Technology                | Description                                       | Relation to Fundamental Technologies                         |\n",
            "|-------------------------- |--------------------------------------------------|-----------------------------------------------------------|\n",
            "| Electric Vehicles (EVs)   | Run on electricity instead of fossil fuels        | Fundamental technology: EV batteries store and provide power to the vehicle |\n",
            "\n",
            "3. Industrial Processes:\n",
            "Industries are responsible for a significant portion of global carbon emissions. Advanced technologies such as carbon capture and utilization (CCU) and hydrogen production via electrolysis are essential for decarbonizing industrial processes.\n",
            "\n",
            "| Technology                | Description                                             | Relation to Fundamental Technologies                         |\n",
            "|-------------------------- |--------------------------------------------------------|------------------------------------------------------------|\n",
            "| Carbon Capture and Utilization (CCU)   | Captures CO2 emissions from industrial processes.   | Utilizes scrubbers and membranes to capture and convert CO2 into useful products |\n",
            "| Hydrogen Production via Electrolysis  | Generates hydrogen using electricity and water.     | Relies on electrolyzers that split water into hydrogen and oxygen |\n",
            "\n",
            "4. Agriculture and Forestry:\n",
            "The agriculture and forestry sectors play a crucial role in carbon sequestration through practices such as reforestation and sustainable land management. Innovative technologies such as precision agriculture and carbon farming are essential for achieving carbon neutrality in these sectors.\n",
            "\n",
            "| Technology                | Description                                           | Relation to Fundamental Technologies                         |\n",
            "|-------------------------- |------------------------------------------------------|------------------------------------------------------------|\n",
            "| Precision Agriculture     | Uses data and technology to optimize crop production| Relies on sensors, GPS, and data analytics to enhance farming practices |\n",
            "| Carbon Farming            | Agricultural practices that increase carbon sequestration | Implementation of methods like no-till farming and cover cropping |\n",
            "\n",
            "5. Buildings and Construction:\n",
            "Buildings account for a significant portion of global energy consumption and emissions. Key technologies for achieving carbon neutrality in this area include green building materials, energy-efficient HVAC systems, and smart building automation.\n",
            "\n",
            "| Technology                | Description                                             | Relation to Fundamental Technologies                         |\n",
            "|-------------------------- |--------------------------------------------------------|------------------------------------------------------------|\n",
            "| Green Building Materials  | Sustainable materials that reduce environmental impact | Technologies such as recycled materials and low-carbon concrete |\n",
            "| Energy-Efficient HVAC Systems | Heating, ventilation, and air conditioning systems that minimize energy use | Fundamental technologies: Heat pumps, insulation, and smart thermostats |\n",
            "\n",
            "6. Carbon Capture and Storage:\n",
            "Carbon capture and storage (CCS) technologies are crucial for removing CO2 emissions from the atmosphere and storing them underground. These technologies are closely related to fundamental technologies such as chemical absorption and geological storage.\n",
            "\n",
            "| Technology                | Description                                           | Relation to Fundamental Technologies                         |\n",
            "|-------------------------- |------------------------------------------------------|------------------------------------------------------------|\n",
            "| Chemical Absorption       | Absorbs CO2 emissions and separates them for storage | Utilizes solvents or membranes to capture CO2 from industrial flue gas |\n",
            "| Geological Storage        | The permanent storage of captured CO2 underground   | Involves injecting captured CO2 into deep geological formations |\n",
            "\n",
            "7. Waste Management:\n",
            "Waste management is a key area for reducing methane emissions and promoting circular economy principles. Technologies like anaerobic digestion and waste-to-energy systems are essential for managing waste in a carbon-neutral manner.\n",
            "\n",
            "| Technology                | Description                                           | Relation to Fundamental Technologies                        |\n",
            "|-------------------------- |------------------------------------------------------|------------------------------------------------------------|\n",
            "| Anaerobic Digestion       | Converts organic waste into biogas and fertilizer   | Relies on bacteria breaking down organic matter without oxygen |\n",
            "| Waste-to-Energy Systems   | Generates electricity or heat from waste materials  | Utilizes incineration or gasification processes to convert waste into energy |\n",
            "\n",
            "8. Information and Communication Technologies:\n",
            "ICT plays a critical role in enabling the monitoring, management, and optimization of carbon-neutral technologies across various sectors. Technologies such as the Internet of Things (IoT) and big data analytics are essential for driving efficiency and sustainability.\n",
            "\n",
            "| Technology                | Description                                           | Relation to Fundamental Technologies                         |\n",
            "|-------------------------- |------------------------------------------------------|------------------------------------------------------------|\n",
            "| Internet of Things (IoT)  | Connects devices and sensors to streamline processes | Relies on wireless communication protocols and data analytics |\n",
            "| Big Data Analytics        | Analyzes large datasets to extract valuable insights| Utilizes algorithms and software to process and interpret data |\n",
            "\n",
            "In conclusion, the proactive provision of carbon-neutral technologies in the eight key areas requires a combination of innovative technologies and fundamental principles. Integrating these technologies into various sectors is essential for achieving carbon neutrality and combating climate change effectively. Continued research and development in these areas will be crucial for accelerating the transition to a sustainable and low-carbon future.\n"
          ]
        }
      ],
      "source": [
        "print(response[\"choices\"][0][\"message\"][\"content\"])"
      ]
    },
    {
      "cell_type": "markdown",
      "metadata": {
        "id": "qPlPyLC2B9XR"
      },
      "source": [
        "#Result of GPT -3.5 with prompt as final_summary_text_1"
      ]
    },
    {
      "cell_type": "code",
      "execution_count": null,
      "metadata": {
        "id": "RVp_KPxIAyYB"
      },
      "outputs": [],
      "source": [
        "user_msg=' Given information extracted from web search : ' + final_summary_text_1 + '\\nAnswer very precisely and in detailed format using tables,calculations if needed for the question(1000-2000 words) : ' + question\n",
        "response_1 = openai.ChatCompletion.create(\n",
        "              model=\"gpt-3.5-turbo\",\n",
        "              messages=[{\"role\": \"system\", \"content\": 'You are a helpful assistant which has some information from google in prompt, answer using this information and your own brain '},\n",
        "                        {\"role\": \"user\", \"content\": user_msg}\n",
        "              ])"
      ]
    },
    {
      "cell_type": "code",
      "execution_count": null,
      "metadata": {
        "colab": {
          "base_uri": "https://localhost:8080/"
        },
        "id": "Z-M59uj1BhTl",
        "outputId": "9cefe7b8-d12a-4269-c7d2-fb8cc9f8bcb8"
      },
      "outputs": [
        {
          "name": "stdout",
          "output_type": "stream",
          "text": [
            "In order to provide a detailed answer to the question on the innovative and impactful technologies in each of the 8 key areas for proactive provision of carbon-neutral technologies, along with their relation to fundamental technologies, we need to break down the information provided into structured categories. \n",
            "\n",
            "Key Areas for Proactive Provision of Carbon-Neutral Technologies:\n",
            "1. Decarbonization Technologies\n",
            "2. Negative Emissions Technologies\n",
            "3. Carbon Trading\n",
            "4. Carbon Tax\n",
            "5. Renewable Energy Development\n",
            "6. Low Carbon Agriculture\n",
            "7. Changing Dietary Habits\n",
            "8. Waste Management and Valorization\n",
            "\n",
            "Now, let's analyze each key area and identify the innovative and impactful technologies associated with them:\n",
            "\n",
            "1. Decarbonization Technologies:\n",
            "Decarbonization technologies aim to reduce carbon emissions to achieve carbon neutrality. These technologies include:\n",
            "- Carbon Capture and Storage (CCS): This technology captures CO2 emissions from industrial processes and stores them underground, preventing their release into the atmosphere.\n",
            "- Bioenergy with Carbon Capture and Storage (BECCS): This process generates energy from biomass while capturing and sequestering the resulting CO2 emissions.\n",
            "- Hydrogen Fuel Cells: Utilizing hydrogen as a clean energy source for transportation and electricity generation.\n",
            "- Renewables Integration Technologies: Solutions for integrating renewable energy sources like wind and solar into existing energy systems.\n",
            "- Advanced Nuclear Technologies: Development of safer and more efficient nuclear reactors for clean energy generation.\n",
            "\n",
            "2. Negative Emissions Technologies:\n",
            "Negative emissions technologies aim to remove CO2 from the atmosphere to offset emissions. Some innovative technologies in this area include:\n",
            "- Direct Air Capture (DAC): Technology that captures CO2 directly from the ambient air.\n",
            "- Enhanced Weathering: Accelerating natural weathering processes that absorb CO2 from the atmosphere.\n",
            "- Biochar Sequestration: Creation of charcoal from biomass that stores carbon in soils for centuries.\n",
            "\n",
            "3. Carbon Trading:\n",
            "Carbon trading involves buying and selling permits to emit carbon. Technological solutions supporting carbon trading include:\n",
            "- Blockchain Technology: Utilized to create transparent and secure carbon trading platforms.\n",
            "- Carbon Credit Verification Systems: Technologies for verifying and tracking carbon credits to ensure their credibility.\n",
            "\n",
            "4. Carbon Tax:\n",
            "Carbon tax is a financial incentive to reduce carbon emissions. Technologies associated with managing and implementing carbon taxes may involve:\n",
            "- Emission Monitoring Systems: Tools for tracking and reporting CO2 emissions to calculate tax liabilities accurately.\n",
            "- Automated Tax Compliance Systems: Software solutions for businesses to calculate and pay carbon taxes efficiently.\n",
            "\n",
            "5. Renewable Energy Development:\n",
            "Focusing on shifting energy production from fossil fuels to renewable sources, innovative technologies include:\n",
            "- Solar Photovoltaic Systems: Harnessing energy from sunlight to generate electricity.\n",
            "- Wind Turbines: Utilizing wind energy for electricity production.\n",
            "- Energy Storage Solutions: Batteries and grid-scale storage systems to store excess renewable energy.\n",
            "\n",
            "6. Low Carbon Agriculture:\n",
            "Technologies promoting sustainable farming practices and reducing agricultural emissions include:\n",
            "- Precision Agriculture: Using sensors and data analytics for optimized resource management.\n",
            "- Carbon Farming Practices: Implementing techniques to sequester carbon in soils through diverse crop rotations and reduced tillage.\n",
            "\n",
            "7. Changing Dietary Habits:\n",
            "Technologies that support shifts towards climate-friendly diets include:\n",
            "- Plant-Based Meat Alternatives: Innovations in plant-based proteins to reduce reliance on livestock farming.\n",
            "- Food Supply Chain Tracking Systems: Technology for transparent and sustainable sourcing of food products.\n",
            "\n",
            "8. Waste Management and Valorization:\n",
            "Innovative technologies for waste management and resource recovery include:\n",
            "- Waste-to-Energy Conversion: Converting organic waste into biogas or biofuels through anaerobic digestion.\n",
            "- Recycling Technologies: Advanced systems for sorting and recycling different waste materials for circular economy principles.\n",
            "\n",
            "Relationship to Fundamental Technologies:\n",
            "These innovative and impactful technologies are often built upon fundamental technologies across various domains such as energy, information technology, materials science, and environmental science. For example:\n",
            "- Energy Storage Technologies underpin the development of renewable energy solutions and facilitate grid stability.\n",
            "- Information Technology plays a crucial role in developing smart grids, data analytics for emissions monitoring, and blockchain applications for carbon trading.\n",
            "- Materials Science advancements enable the fabrication of next-generation solar panels, wind turbines, and lightweight construction materials for energy-efficient buildings.\n",
            "- Environmental Science research drives innovations in negative emissions technologies, waste management practices, and sustainable agriculture methods.\n",
            "\n",
            "By leveraging these fundamental technologies in innovative ways, advancements in decarbonization, emissions reduction, renewable energy deployment, and sustainable practices across various sectors can contribute significantly to the transition towards a carbon-neutral economy.\n"
          ]
        }
      ],
      "source": [
        "print(response_1[\"choices\"][0][\"message\"][\"content\"])"
      ]
    },
    {
      "cell_type": "markdown",
      "metadata": {
        "id": "tpuAneEBCbZP"
      },
      "source": [
        "#Result of GPT -3.5 with prompt as final_summary_text_2\n"
      ]
    },
    {
      "cell_type": "code",
      "execution_count": null,
      "metadata": {
        "id": "qV44M691CFXu"
      },
      "outputs": [],
      "source": [
        "user_msg=' Given information extracted from web search : ' + final_summary_text_2 + '\\nAnswer very precisely and in detailed format using tables,calculations if needed for the question(1000-2000 words) : ' + question\n",
        "response_2 = openai.ChatCompletion.create(\n",
        "              model=\"gpt-3.5-turbo\",\n",
        "              messages=[{\"role\": \"system\", \"content\": 'You are a helpful assistant which has some information from google in prompt, answer using this information and your own brain '},\n",
        "                        {\"role\": \"user\", \"content\": user_msg}\n",
        "              ])"
      ]
    },
    {
      "cell_type": "code",
      "execution_count": null,
      "metadata": {
        "colab": {
          "base_uri": "https://localhost:8080/"
        },
        "id": "6YvBNUhNCPUh",
        "outputId": "b59e5938-b134-4b60-bd00-d2eced44a4f0"
      },
      "outputs": [
        {
          "name": "stdout",
          "output_type": "stream",
          "text": [
            "In order to provide a detailed analysis of the innovative and impactful technologies in each of the 8 key areas for proactive provision of carbon-neutral technologies and how they are related to fundamental technologies, we first need to identify the 8 key areas.\n",
            "\n",
            "Based on the information provided in the search results, let's define the 8 key areas for proactive provision of carbon-neutral technologies as follows:\n",
            "\n",
            "1. Health Monitoring Systems with Wearable Sensors\n",
            "2. Internet of Things (IoT) Applications in Healthcare\n",
            "3. Application of Artificial Intelligence (AI) in Healthcare\n",
            "4. Blockchain Technology in Healthcare\n",
            "5. Disease Prevention and Early Detection Systems\n",
            "6. Smart Wireless and Wearable Sensors for Patient Monitoring\n",
            "7. Use of Machine Learning (ML) Algorithms in Healthcare\n",
            "8. Integration of IoT, AI, and Blockchain Technologies in Healthcare Management Systems\n",
            "\n",
            "Now we can delve into each key area to identify the innovative and impactful technologies and their relationship to fundamental technologies:\n",
            "\n",
            "1. Health Monitoring Systems with Wearable Sensors:\n",
            "   - Innovative Technologies: Smart wearable sensors, advanced IoT connectivity, real-time data monitoring systems\n",
            "   - Relationship to Fundamental Technologies: Wearable sensors collect vital health data, IoT ensures connectivity for data transmission, and real-time monitoring systems use AI algorithms for analysis.\n",
            "\n",
            "2. Internet of Things (IoT) Applications in Healthcare:\n",
            "   - Innovative Technologies: IoT-enabled healthcare devices, remote health monitoring systems, cloud computing for data storage and analysis\n",
            "   - Relationship to Fundamental Technologies: IoT devices facilitate data collection and transmission, remote monitoring systems enhance accessibility, and cloud computing enables data storage and analysis.\n",
            "\n",
            "3. Application of Artificial Intelligence (AI) in Healthcare:\n",
            "   - Innovative Technologies: AI-powered diagnostic tools, predictive analytics for disease detection, personalized healthcare solutions\n",
            "   - Relationship to Fundamental Technologies: AI algorithms analyze healthcare data, provide predictive insights, and tailor healthcare solutions based on individual needs.\n",
            "\n",
            "4. Blockchain Technology in Healthcare:\n",
            "   - Innovative Technologies: Blockchain-enabled secure health records, decentralized healthcare data management, smart contracts for healthcare transactions\n",
            "   - Relationship to Fundamental Technologies: Blockchain ensures secure and transparent health data management, decentralizes data storage, and automates healthcare transactions.\n",
            "\n",
            "5. Disease Prevention and Early Detection Systems:\n",
            "   - Innovative Technologies: Smart disease monitoring systems, automated early detection algorithms, personalized prevention strategies\n",
            "   - Relationship to Fundamental Technologies: Early detection algorithms use ML models for predictive analysis, smart monitoring systems track disease progression, and personalized prevention plans are based on individual health data.\n",
            "\n",
            "6. Smart Wireless and Wearable Sensors for Patient Monitoring:\n",
            "   - Innovative Technologies: Wireless health monitoring devices, wearable sensors for continuous data collection, real-time patient monitoring solutions\n",
            "   - Relationship to Fundamental Technologies: Wireless devices enable remote monitoring, wearable sensors provide continuous health data, and real-time solutions use AI for rapid analysis.\n",
            "\n",
            "7. Use of Machine Learning (ML) Algorithms in Healthcare:\n",
            "   - Innovative Technologies: ML-driven disease prediction models, image recognition for diagnostics, ML-powered telemedicine platforms\n",
            "   - Relationship to Fundamental Technologies: ML algorithms predict disease outcomes, analyze medical images, and enhance telemedicine services for remote healthcare delivery.\n",
            "\n",
            "8. Integration of IoT, AI, and Blockchain Technologies in Healthcare Management Systems:\n",
            "   - Innovative Technologies: Integrated IoT-AI-Blockchain platforms for healthcare management, AI-driven personalized treatment plans, Blockchain-based secure health data exchange\n",
            "   - Relationship to Fundamental Technologies: Integrated platforms streamline healthcare management, AI optimizes treatment plans, and Blockchain ensures secure data exchange.\n",
            "\n",
            "In summary, these innovative and impactful technologies in each key area for proactive provision of carbon-neutral technologies leverage fundamental technologies such as AI, IoT, ML, and Blockchain to revolutionize healthcare delivery, disease prevention, and patient monitoring systems. Their integration and application in healthcare management systems contribute to a more personalized, predictive, and efficient healthcare ecosystem that aims to achieve carbon-neutral goals while improving patient outcomes and sustainability.\n"
          ]
        }
      ],
      "source": [
        "print(response_2[\"choices\"][0][\"message\"][\"content\"])"
      ]
    },
    {
      "cell_type": "markdown",
      "metadata": {
        "id": "ZPtmEXUEbnTH"
      },
      "source": [
        "#Result of GPT -3.5 with prompt as final_summary_text_3"
      ]
    },
    {
      "cell_type": "code",
      "execution_count": null,
      "metadata": {
        "colab": {
          "base_uri": "https://localhost:8080/",
          "height": 418
        },
        "id": "tdQqfSW9J2az",
        "outputId": "9ee22557-186c-430c-c2dc-f4a598fb6da9"
      },
      "outputs": [
        {
          "ename": "RateLimitError",
          "evalue": "You exceeded your current quota, please check your plan and billing details. For more information on this error, read the docs: https://platform.openai.com/docs/guides/error-codes/api-errors.",
          "output_type": "error",
          "traceback": [
            "\u001b[0;31m---------------------------------------------------------------------------\u001b[0m",
            "\u001b[0;31mRateLimitError\u001b[0m                            Traceback (most recent call last)",
            "\u001b[0;32m<ipython-input-159-5e35cfb2fa00>\u001b[0m in \u001b[0;36m<cell line: 2>\u001b[0;34m()\u001b[0m\n\u001b[1;32m      1\u001b[0m \u001b[0muser_msg\u001b[0m\u001b[0;34m=\u001b[0m\u001b[0;34m' Given information extracted from web search : '\u001b[0m \u001b[0;34m+\u001b[0m \u001b[0mfinal_summary_text_2\u001b[0m \u001b[0;34m+\u001b[0m \u001b[0;34m'\\nAnswer very precisely and in detailed format using tables,calculations if needed for the question(1000-2000 words) : '\u001b[0m \u001b[0;34m+\u001b[0m \u001b[0mquestion\u001b[0m\u001b[0;34m\u001b[0m\u001b[0;34m\u001b[0m\u001b[0m\n\u001b[0;32m----> 2\u001b[0;31m response_3 = openai.ChatCompletion.create(\n\u001b[0m\u001b[1;32m      3\u001b[0m               \u001b[0mmodel\u001b[0m\u001b[0;34m=\u001b[0m\u001b[0;34m\"gpt-3.5-turbo\"\u001b[0m\u001b[0;34m,\u001b[0m\u001b[0;34m\u001b[0m\u001b[0;34m\u001b[0m\u001b[0m\n\u001b[1;32m      4\u001b[0m               messages=[{\"role\": \"system\", \"content\": 'You are a helpful assistant which has some information from google in prompt, answer using this information and your own brain '},\n\u001b[1;32m      5\u001b[0m                         \u001b[0;34m{\u001b[0m\u001b[0;34m\"role\"\u001b[0m\u001b[0;34m:\u001b[0m \u001b[0;34m\"user\"\u001b[0m\u001b[0;34m,\u001b[0m \u001b[0;34m\"content\"\u001b[0m\u001b[0;34m:\u001b[0m \u001b[0muser_msg\u001b[0m\u001b[0;34m}\u001b[0m\u001b[0;34m\u001b[0m\u001b[0;34m\u001b[0m\u001b[0m\n",
            "\u001b[0;32m/usr/local/lib/python3.10/dist-packages/openai/api_resources/chat_completion.py\u001b[0m in \u001b[0;36mcreate\u001b[0;34m(cls, *args, **kwargs)\u001b[0m\n\u001b[1;32m     23\u001b[0m         \u001b[0;32mwhile\u001b[0m \u001b[0;32mTrue\u001b[0m\u001b[0;34m:\u001b[0m\u001b[0;34m\u001b[0m\u001b[0;34m\u001b[0m\u001b[0m\n\u001b[1;32m     24\u001b[0m             \u001b[0;32mtry\u001b[0m\u001b[0;34m:\u001b[0m\u001b[0;34m\u001b[0m\u001b[0;34m\u001b[0m\u001b[0m\n\u001b[0;32m---> 25\u001b[0;31m                 \u001b[0;32mreturn\u001b[0m \u001b[0msuper\u001b[0m\u001b[0;34m(\u001b[0m\u001b[0;34m)\u001b[0m\u001b[0;34m.\u001b[0m\u001b[0mcreate\u001b[0m\u001b[0;34m(\u001b[0m\u001b[0;34m*\u001b[0m\u001b[0margs\u001b[0m\u001b[0;34m,\u001b[0m \u001b[0;34m**\u001b[0m\u001b[0mkwargs\u001b[0m\u001b[0;34m)\u001b[0m\u001b[0;34m\u001b[0m\u001b[0;34m\u001b[0m\u001b[0m\n\u001b[0m\u001b[1;32m     26\u001b[0m             \u001b[0;32mexcept\u001b[0m \u001b[0mTryAgain\u001b[0m \u001b[0;32mas\u001b[0m \u001b[0me\u001b[0m\u001b[0;34m:\u001b[0m\u001b[0;34m\u001b[0m\u001b[0;34m\u001b[0m\u001b[0m\n\u001b[1;32m     27\u001b[0m                 \u001b[0;32mif\u001b[0m \u001b[0mtimeout\u001b[0m \u001b[0;32mis\u001b[0m \u001b[0;32mnot\u001b[0m \u001b[0;32mNone\u001b[0m \u001b[0;32mand\u001b[0m \u001b[0mtime\u001b[0m\u001b[0;34m.\u001b[0m\u001b[0mtime\u001b[0m\u001b[0;34m(\u001b[0m\u001b[0;34m)\u001b[0m \u001b[0;34m>\u001b[0m \u001b[0mstart\u001b[0m \u001b[0;34m+\u001b[0m \u001b[0mtimeout\u001b[0m\u001b[0;34m:\u001b[0m\u001b[0;34m\u001b[0m\u001b[0;34m\u001b[0m\u001b[0m\n",
            "\u001b[0;32m/usr/local/lib/python3.10/dist-packages/openai/api_resources/abstract/engine_api_resource.py\u001b[0m in \u001b[0;36mcreate\u001b[0;34m(cls, api_key, api_base, api_type, request_id, api_version, organization, **params)\u001b[0m\n\u001b[1;32m    151\u001b[0m         )\n\u001b[1;32m    152\u001b[0m \u001b[0;34m\u001b[0m\u001b[0m\n\u001b[0;32m--> 153\u001b[0;31m         response, _, api_key = requestor.request(\n\u001b[0m\u001b[1;32m    154\u001b[0m             \u001b[0;34m\"post\"\u001b[0m\u001b[0;34m,\u001b[0m\u001b[0;34m\u001b[0m\u001b[0;34m\u001b[0m\u001b[0m\n\u001b[1;32m    155\u001b[0m             \u001b[0murl\u001b[0m\u001b[0;34m,\u001b[0m\u001b[0;34m\u001b[0m\u001b[0;34m\u001b[0m\u001b[0m\n",
            "\u001b[0;32m/usr/local/lib/python3.10/dist-packages/openai/api_requestor.py\u001b[0m in \u001b[0;36mrequest\u001b[0;34m(self, method, url, params, headers, files, stream, request_id, request_timeout)\u001b[0m\n\u001b[1;32m    296\u001b[0m             \u001b[0mrequest_timeout\u001b[0m\u001b[0;34m=\u001b[0m\u001b[0mrequest_timeout\u001b[0m\u001b[0;34m,\u001b[0m\u001b[0;34m\u001b[0m\u001b[0;34m\u001b[0m\u001b[0m\n\u001b[1;32m    297\u001b[0m         )\n\u001b[0;32m--> 298\u001b[0;31m         \u001b[0mresp\u001b[0m\u001b[0;34m,\u001b[0m \u001b[0mgot_stream\u001b[0m \u001b[0;34m=\u001b[0m \u001b[0mself\u001b[0m\u001b[0;34m.\u001b[0m\u001b[0m_interpret_response\u001b[0m\u001b[0;34m(\u001b[0m\u001b[0mresult\u001b[0m\u001b[0;34m,\u001b[0m \u001b[0mstream\u001b[0m\u001b[0;34m)\u001b[0m\u001b[0;34m\u001b[0m\u001b[0;34m\u001b[0m\u001b[0m\n\u001b[0m\u001b[1;32m    299\u001b[0m         \u001b[0;32mreturn\u001b[0m \u001b[0mresp\u001b[0m\u001b[0;34m,\u001b[0m \u001b[0mgot_stream\u001b[0m\u001b[0;34m,\u001b[0m \u001b[0mself\u001b[0m\u001b[0;34m.\u001b[0m\u001b[0mapi_key\u001b[0m\u001b[0;34m\u001b[0m\u001b[0;34m\u001b[0m\u001b[0m\n\u001b[1;32m    300\u001b[0m \u001b[0;34m\u001b[0m\u001b[0m\n",
            "\u001b[0;32m/usr/local/lib/python3.10/dist-packages/openai/api_requestor.py\u001b[0m in \u001b[0;36m_interpret_response\u001b[0;34m(self, result, stream)\u001b[0m\n\u001b[1;32m    698\u001b[0m         \u001b[0;32melse\u001b[0m\u001b[0;34m:\u001b[0m\u001b[0;34m\u001b[0m\u001b[0;34m\u001b[0m\u001b[0m\n\u001b[1;32m    699\u001b[0m             return (\n\u001b[0;32m--> 700\u001b[0;31m                 self._interpret_response_line(\n\u001b[0m\u001b[1;32m    701\u001b[0m                     \u001b[0mresult\u001b[0m\u001b[0;34m.\u001b[0m\u001b[0mcontent\u001b[0m\u001b[0;34m.\u001b[0m\u001b[0mdecode\u001b[0m\u001b[0;34m(\u001b[0m\u001b[0;34m\"utf-8\"\u001b[0m\u001b[0;34m)\u001b[0m\u001b[0;34m,\u001b[0m\u001b[0;34m\u001b[0m\u001b[0;34m\u001b[0m\u001b[0m\n\u001b[1;32m    702\u001b[0m                     \u001b[0mresult\u001b[0m\u001b[0;34m.\u001b[0m\u001b[0mstatus_code\u001b[0m\u001b[0;34m,\u001b[0m\u001b[0;34m\u001b[0m\u001b[0;34m\u001b[0m\u001b[0m\n",
            "\u001b[0;32m/usr/local/lib/python3.10/dist-packages/openai/api_requestor.py\u001b[0m in \u001b[0;36m_interpret_response_line\u001b[0;34m(self, rbody, rcode, rheaders, stream)\u001b[0m\n\u001b[1;32m    763\u001b[0m         \u001b[0mstream_error\u001b[0m \u001b[0;34m=\u001b[0m \u001b[0mstream\u001b[0m \u001b[0;32mand\u001b[0m \u001b[0;34m\"error\"\u001b[0m \u001b[0;32min\u001b[0m \u001b[0mresp\u001b[0m\u001b[0;34m.\u001b[0m\u001b[0mdata\u001b[0m\u001b[0;34m\u001b[0m\u001b[0;34m\u001b[0m\u001b[0m\n\u001b[1;32m    764\u001b[0m         \u001b[0;32mif\u001b[0m \u001b[0mstream_error\u001b[0m \u001b[0;32mor\u001b[0m \u001b[0;32mnot\u001b[0m \u001b[0;36m200\u001b[0m \u001b[0;34m<=\u001b[0m \u001b[0mrcode\u001b[0m \u001b[0;34m<\u001b[0m \u001b[0;36m300\u001b[0m\u001b[0;34m:\u001b[0m\u001b[0;34m\u001b[0m\u001b[0;34m\u001b[0m\u001b[0m\n\u001b[0;32m--> 765\u001b[0;31m             raise self.handle_error_response(\n\u001b[0m\u001b[1;32m    766\u001b[0m                 \u001b[0mrbody\u001b[0m\u001b[0;34m,\u001b[0m \u001b[0mrcode\u001b[0m\u001b[0;34m,\u001b[0m \u001b[0mresp\u001b[0m\u001b[0;34m.\u001b[0m\u001b[0mdata\u001b[0m\u001b[0;34m,\u001b[0m \u001b[0mrheaders\u001b[0m\u001b[0;34m,\u001b[0m \u001b[0mstream_error\u001b[0m\u001b[0;34m=\u001b[0m\u001b[0mstream_error\u001b[0m\u001b[0;34m\u001b[0m\u001b[0;34m\u001b[0m\u001b[0m\n\u001b[1;32m    767\u001b[0m             )\n",
            "\u001b[0;31mRateLimitError\u001b[0m: You exceeded your current quota, please check your plan and billing details. For more information on this error, read the docs: https://platform.openai.com/docs/guides/error-codes/api-errors."
          ]
        }
      ],
      "source": [
        "user_msg=' Given information extracted from web search : ' + final_summary_text_3 + '\\nAnswer very precisely and in detailed format using tables,calculations if needed for the question(1000-2000 words) : ' + question\n",
        "response_3 = openai.ChatCompletion.create(\n",
        "              model=\"gpt-3.5-turbo\",\n",
        "              messages=[{\"role\": \"system\", \"content\": 'You are a helpful assistant which has some information from google in prompt, answer using this information and your own brain '},\n",
        "                        {\"role\": \"user\", \"content\": user_msg}\n",
        "              ])"
      ]
    },
    {
      "cell_type": "code",
      "execution_count": null,
      "metadata": {
        "id": "JndxcLpVKBRw"
      },
      "outputs": [],
      "source": [
        "print(response_3[\"choices\"][0][\"message\"][\"content\"])"
      ]
    },
    {
      "cell_type": "markdown",
      "metadata": {
        "id": "10ZuKTMET-R9"
      },
      "source": [
        "#Bert Score Calculations"
      ]
    },
    {
      "cell_type": "code",
      "execution_count": null,
      "metadata": {
        "colab": {
          "base_uri": "https://localhost:8080/"
        },
        "id": "fd9P6DDIT9YP",
        "outputId": "b6fe6883-7f8d-474d-f8b6-80cced30c742"
      },
      "outputs": [
        {
          "name": "stdout",
          "output_type": "stream",
          "text": [
            "Collecting bert_score\n",
            "  Downloading bert_score-0.3.13-py3-none-any.whl (61 kB)\n",
            "\u001b[?25l     \u001b[90m━━━━━━━━━━━━━━━━━━━━━━━━━━━━━━━━━━━━━━━━\u001b[0m \u001b[32m0.0/61.1 kB\u001b[0m \u001b[31m?\u001b[0m eta \u001b[36m-:--:--\u001b[0m\r\u001b[2K     \u001b[90m━━━━━━━━━━━━━━━━━━━━━━━━━━━━━━━━━━━━━━━━\u001b[0m \u001b[32m61.1/61.1 kB\u001b[0m \u001b[31m1.9 MB/s\u001b[0m eta \u001b[36m0:00:00\u001b[0m\n",
            "\u001b[?25hRequirement already satisfied: torch>=1.0.0 in /usr/local/lib/python3.10/dist-packages (from bert_score) (2.2.1+cu121)\n",
            "Requirement already satisfied: pandas>=1.0.1 in /usr/local/lib/python3.10/dist-packages (from bert_score) (2.0.3)\n",
            "Requirement already satisfied: transformers>=3.0.0 in /usr/local/lib/python3.10/dist-packages (from bert_score) (4.38.2)\n",
            "Requirement already satisfied: numpy in /usr/local/lib/python3.10/dist-packages (from bert_score) (1.25.2)\n",
            "Requirement already satisfied: requests in /usr/local/lib/python3.10/dist-packages (from bert_score) (2.31.0)\n",
            "Requirement already satisfied: tqdm>=4.31.1 in /usr/local/lib/python3.10/dist-packages (from bert_score) (4.66.2)\n",
            "Requirement already satisfied: matplotlib in /usr/local/lib/python3.10/dist-packages (from bert_score) (3.7.1)\n",
            "Requirement already satisfied: packaging>=20.9 in /usr/local/lib/python3.10/dist-packages (from bert_score) (24.0)\n",
            "Requirement already satisfied: python-dateutil>=2.8.2 in /usr/local/lib/python3.10/dist-packages (from pandas>=1.0.1->bert_score) (2.8.2)\n",
            "Requirement already satisfied: pytz>=2020.1 in /usr/local/lib/python3.10/dist-packages (from pandas>=1.0.1->bert_score) (2023.4)\n",
            "Requirement already satisfied: tzdata>=2022.1 in /usr/local/lib/python3.10/dist-packages (from pandas>=1.0.1->bert_score) (2024.1)\n",
            "Requirement already satisfied: filelock in /usr/local/lib/python3.10/dist-packages (from torch>=1.0.0->bert_score) (3.13.3)\n",
            "Requirement already satisfied: typing-extensions>=4.8.0 in /usr/local/lib/python3.10/dist-packages (from torch>=1.0.0->bert_score) (4.10.0)\n",
            "Requirement already satisfied: sympy in /usr/local/lib/python3.10/dist-packages (from torch>=1.0.0->bert_score) (1.12)\n",
            "Requirement already satisfied: networkx in /usr/local/lib/python3.10/dist-packages (from torch>=1.0.0->bert_score) (3.2.1)\n",
            "Requirement already satisfied: jinja2 in /usr/local/lib/python3.10/dist-packages (from torch>=1.0.0->bert_score) (3.1.3)\n",
            "Requirement already satisfied: fsspec in /usr/local/lib/python3.10/dist-packages (from torch>=1.0.0->bert_score) (2023.6.0)\n",
            "Collecting nvidia-cuda-nvrtc-cu12==12.1.105 (from torch>=1.0.0->bert_score)\n",
            "  Downloading nvidia_cuda_nvrtc_cu12-12.1.105-py3-none-manylinux1_x86_64.whl (23.7 MB)\n",
            "\u001b[2K     \u001b[90m━━━━━━━━━━━━━━━━━━━━━━━━━━━━━━━━━━━━━━━━\u001b[0m \u001b[32m23.7/23.7 MB\u001b[0m \u001b[31m34.1 MB/s\u001b[0m eta \u001b[36m0:00:00\u001b[0m\n",
            "\u001b[?25hCollecting nvidia-cuda-runtime-cu12==12.1.105 (from torch>=1.0.0->bert_score)\n",
            "  Downloading nvidia_cuda_runtime_cu12-12.1.105-py3-none-manylinux1_x86_64.whl (823 kB)\n",
            "\u001b[2K     \u001b[90m━━━━━━━━━━━━━━━━━━━━━━━━━━━━━━━━━━━━━━━━\u001b[0m \u001b[32m823.6/823.6 kB\u001b[0m \u001b[31m51.0 MB/s\u001b[0m eta \u001b[36m0:00:00\u001b[0m\n",
            "\u001b[?25hCollecting nvidia-cuda-cupti-cu12==12.1.105 (from torch>=1.0.0->bert_score)\n",
            "  Downloading nvidia_cuda_cupti_cu12-12.1.105-py3-none-manylinux1_x86_64.whl (14.1 MB)\n",
            "\u001b[2K     \u001b[90m━━━━━━━━━━━━━━━━━━━━━━━━━━━━━━━━━━━━━━━━\u001b[0m \u001b[32m14.1/14.1 MB\u001b[0m \u001b[31m53.8 MB/s\u001b[0m eta \u001b[36m0:00:00\u001b[0m\n",
            "\u001b[?25hCollecting nvidia-cudnn-cu12==8.9.2.26 (from torch>=1.0.0->bert_score)\n",
            "  Downloading nvidia_cudnn_cu12-8.9.2.26-py3-none-manylinux1_x86_64.whl (731.7 MB)\n",
            "\u001b[2K     \u001b[90m━━━━━━━━━━━━━━━━━━━━━━━━━━━━━━━━━━━━━━━━\u001b[0m \u001b[32m731.7/731.7 MB\u001b[0m \u001b[31m1.2 MB/s\u001b[0m eta \u001b[36m0:00:00\u001b[0m\n",
            "\u001b[?25hCollecting nvidia-cublas-cu12==12.1.3.1 (from torch>=1.0.0->bert_score)\n",
            "  Downloading nvidia_cublas_cu12-12.1.3.1-py3-none-manylinux1_x86_64.whl (410.6 MB)\n",
            "\u001b[2K     \u001b[90m━━━━━━━━━━━━━━━━━━━━━━━━━━━━━━━━━━━━━━━━\u001b[0m \u001b[32m410.6/410.6 MB\u001b[0m \u001b[31m2.8 MB/s\u001b[0m eta \u001b[36m0:00:00\u001b[0m\n",
            "\u001b[?25hCollecting nvidia-cufft-cu12==11.0.2.54 (from torch>=1.0.0->bert_score)\n",
            "  Downloading nvidia_cufft_cu12-11.0.2.54-py3-none-manylinux1_x86_64.whl (121.6 MB)\n",
            "\u001b[2K     \u001b[90m━━━━━━━━━━━━━━━━━━━━━━━━━━━━━━━━━━━━━━━━\u001b[0m \u001b[32m121.6/121.6 MB\u001b[0m \u001b[31m8.5 MB/s\u001b[0m eta \u001b[36m0:00:00\u001b[0m\n",
            "\u001b[?25hCollecting nvidia-curand-cu12==10.3.2.106 (from torch>=1.0.0->bert_score)\n",
            "  Downloading nvidia_curand_cu12-10.3.2.106-py3-none-manylinux1_x86_64.whl (56.5 MB)\n",
            "\u001b[2K     \u001b[90m━━━━━━━━━━━━━━━━━━━━━━━━━━━━━━━━━━━━━━━━\u001b[0m \u001b[32m56.5/56.5 MB\u001b[0m \u001b[31m12.5 MB/s\u001b[0m eta \u001b[36m0:00:00\u001b[0m\n",
            "\u001b[?25hCollecting nvidia-cusolver-cu12==11.4.5.107 (from torch>=1.0.0->bert_score)\n",
            "  Downloading nvidia_cusolver_cu12-11.4.5.107-py3-none-manylinux1_x86_64.whl (124.2 MB)\n",
            "\u001b[2K     \u001b[90m━━━━━━━━━━━━━━━━━━━━━━━━━━━━━━━━━━━━━━━━\u001b[0m \u001b[32m124.2/124.2 MB\u001b[0m \u001b[31m7.4 MB/s\u001b[0m eta \u001b[36m0:00:00\u001b[0m\n",
            "\u001b[?25hCollecting nvidia-cusparse-cu12==12.1.0.106 (from torch>=1.0.0->bert_score)\n",
            "  Downloading nvidia_cusparse_cu12-12.1.0.106-py3-none-manylinux1_x86_64.whl (196.0 MB)\n",
            "\u001b[2K     \u001b[90m━━━━━━━━━━━━━━━━━━━━━━━━━━━━━━━━━━━━━━━━\u001b[0m \u001b[32m196.0/196.0 MB\u001b[0m \u001b[31m2.4 MB/s\u001b[0m eta \u001b[36m0:00:00\u001b[0m\n",
            "\u001b[?25hCollecting nvidia-nccl-cu12==2.19.3 (from torch>=1.0.0->bert_score)\n",
            "  Downloading nvidia_nccl_cu12-2.19.3-py3-none-manylinux1_x86_64.whl (166.0 MB)\n",
            "\u001b[2K     \u001b[90m━━━━━━━━━━━━━━━━━━━━━━━━━━━━━━━━━━━━━━━━\u001b[0m \u001b[32m166.0/166.0 MB\u001b[0m \u001b[31m2.3 MB/s\u001b[0m eta \u001b[36m0:00:00\u001b[0m\n",
            "\u001b[?25hCollecting nvidia-nvtx-cu12==12.1.105 (from torch>=1.0.0->bert_score)\n",
            "  Downloading nvidia_nvtx_cu12-12.1.105-py3-none-manylinux1_x86_64.whl (99 kB)\n",
            "\u001b[2K     \u001b[90m━━━━━━━━━━━━━━━━━━━━━━━━━━━━━━━━━━━━━━━━\u001b[0m \u001b[32m99.1/99.1 kB\u001b[0m \u001b[31m14.1 MB/s\u001b[0m eta \u001b[36m0:00:00\u001b[0m\n",
            "\u001b[?25hRequirement already satisfied: triton==2.2.0 in /usr/local/lib/python3.10/dist-packages (from torch>=1.0.0->bert_score) (2.2.0)\n",
            "Collecting nvidia-nvjitlink-cu12 (from nvidia-cusolver-cu12==11.4.5.107->torch>=1.0.0->bert_score)\n",
            "  Downloading nvidia_nvjitlink_cu12-12.4.127-py3-none-manylinux2014_x86_64.whl (21.1 MB)\n",
            "\u001b[2K     \u001b[90m━━━━━━━━━━━━━━━━━━━━━━━━━━━━━━━━━━━━━━━━\u001b[0m \u001b[32m21.1/21.1 MB\u001b[0m \u001b[31m61.8 MB/s\u001b[0m eta \u001b[36m0:00:00\u001b[0m\n",
            "\u001b[?25hRequirement already satisfied: huggingface-hub<1.0,>=0.19.3 in /usr/local/lib/python3.10/dist-packages (from transformers>=3.0.0->bert_score) (0.20.3)\n",
            "Requirement already satisfied: pyyaml>=5.1 in /usr/local/lib/python3.10/dist-packages (from transformers>=3.0.0->bert_score) (6.0.1)\n",
            "Requirement already satisfied: regex!=2019.12.17 in /usr/local/lib/python3.10/dist-packages (from transformers>=3.0.0->bert_score) (2023.12.25)\n",
            "Requirement already satisfied: tokenizers<0.19,>=0.14 in /usr/local/lib/python3.10/dist-packages (from transformers>=3.0.0->bert_score) (0.15.2)\n",
            "Requirement already satisfied: safetensors>=0.4.1 in /usr/local/lib/python3.10/dist-packages (from transformers>=3.0.0->bert_score) (0.4.2)\n",
            "Requirement already satisfied: contourpy>=1.0.1 in /usr/local/lib/python3.10/dist-packages (from matplotlib->bert_score) (1.2.0)\n",
            "Requirement already satisfied: cycler>=0.10 in /usr/local/lib/python3.10/dist-packages (from matplotlib->bert_score) (0.12.1)\n",
            "Requirement already satisfied: fonttools>=4.22.0 in /usr/local/lib/python3.10/dist-packages (from matplotlib->bert_score) (4.50.0)\n",
            "Requirement already satisfied: kiwisolver>=1.0.1 in /usr/local/lib/python3.10/dist-packages (from matplotlib->bert_score) (1.4.5)\n",
            "Requirement already satisfied: pillow>=6.2.0 in /usr/local/lib/python3.10/dist-packages (from matplotlib->bert_score) (9.4.0)\n",
            "Requirement already satisfied: pyparsing>=2.3.1 in /usr/local/lib/python3.10/dist-packages (from matplotlib->bert_score) (3.1.2)\n",
            "Requirement already satisfied: charset-normalizer<4,>=2 in /usr/local/lib/python3.10/dist-packages (from requests->bert_score) (3.3.2)\n",
            "Requirement already satisfied: idna<4,>=2.5 in /usr/local/lib/python3.10/dist-packages (from requests->bert_score) (3.6)\n",
            "Requirement already satisfied: urllib3<3,>=1.21.1 in /usr/local/lib/python3.10/dist-packages (from requests->bert_score) (2.0.7)\n",
            "Requirement already satisfied: certifi>=2017.4.17 in /usr/local/lib/python3.10/dist-packages (from requests->bert_score) (2024.2.2)\n",
            "Requirement already satisfied: six>=1.5 in /usr/local/lib/python3.10/dist-packages (from python-dateutil>=2.8.2->pandas>=1.0.1->bert_score) (1.16.0)\n",
            "Requirement already satisfied: MarkupSafe>=2.0 in /usr/local/lib/python3.10/dist-packages (from jinja2->torch>=1.0.0->bert_score) (2.1.5)\n",
            "Requirement already satisfied: mpmath>=0.19 in /usr/local/lib/python3.10/dist-packages (from sympy->torch>=1.0.0->bert_score) (1.3.0)\n",
            "Installing collected packages: nvidia-nvtx-cu12, nvidia-nvjitlink-cu12, nvidia-nccl-cu12, nvidia-curand-cu12, nvidia-cufft-cu12, nvidia-cuda-runtime-cu12, nvidia-cuda-nvrtc-cu12, nvidia-cuda-cupti-cu12, nvidia-cublas-cu12, nvidia-cusparse-cu12, nvidia-cudnn-cu12, nvidia-cusolver-cu12, bert_score\n",
            "Successfully installed bert_score-0.3.13 nvidia-cublas-cu12-12.1.3.1 nvidia-cuda-cupti-cu12-12.1.105 nvidia-cuda-nvrtc-cu12-12.1.105 nvidia-cuda-runtime-cu12-12.1.105 nvidia-cudnn-cu12-8.9.2.26 nvidia-cufft-cu12-11.0.2.54 nvidia-curand-cu12-10.3.2.106 nvidia-cusolver-cu12-11.4.5.107 nvidia-cusparse-cu12-12.1.0.106 nvidia-nccl-cu12-2.19.3 nvidia-nvjitlink-cu12-12.4.127 nvidia-nvtx-cu12-12.1.105\n"
          ]
        }
      ],
      "source": [
        "!pip install bert_score"
      ]
    },
    {
      "cell_type": "code",
      "execution_count": null,
      "metadata": {
        "id": "bhNQ9aVdUbW0"
      },
      "outputs": [],
      "source": [
        "real = \"\"\"\n",
        " Refer to the provided reference materials for detailed evidence.\n",
        "\n",
        "<Evidence>\n",
        "\n",
        "[Table]\n",
        "Sources and Key Contents of Major Countries' Priority Technologies\n",
        "Category\n",
        "Source Name\n",
        "Key Contents\n",
        "USA\n",
        "Biden-Harris Administration Launches American Innovation Effort to Create Jobs and Tackle the Climate Crisis(Feb. 2021)\n",
        "On February 11, 2021, as the first step in fulfilling the clean energy innovation-related campaign pledge, the administration signed an executive order to select the top 10 key climate innovation technologies and provide $100 million to the U.S. Department of Energy's ARPA-E.\n",
        "Japan\n",
        "Economic and Industrial Aspects, Green Growth Strategy in Response to Carbon Neutrality by 2050(Dec. 2020)\n",
        "After declaring carbon neutrality, a public fund of 2 trillion yen was established for the New Energy and Industrial Technology Development Organization (NEDO) over the next 10 years for research and development in 14 major industries.\n",
        "German\n",
        "Climate Action Programme(Sep. 2019)\n",
        "The \"Climate Protection Program 2030\" includes contents related to carbon neutrality-related technology development and utilization in the transportation and energy industries. Key technologies such as hydrogen, battery cells, and synthetic fuels were selected for technology development investment.\n",
        "UK\n",
        "Top 10 Key Plans for Green Industrial Innovation\n",
        "The technological areas covered include offshore wind power generation, hydrogen, next-generation nuclear power, zero-emission vehicles, zero-emission aviation and shipping, CCUS (Carbon Capture, Utilization, and Storage), green finance, and innovation.\n",
        "France\n",
        "Plan de Relance(Sep.2020)\n",
        "In France's economic recovery plan (\"Plan de relance\"), carbon-neutral-related technology development falls under the \"Ecologie\" part. Policies are established and divided into \"Competitivite\" and \"Cohesion,\" with 30 billion euros out of 100 billion euros allocated to \"Ecologie\" for green economic recovery.\n",
        "\n",
        "\n",
        "\n",
        "\n",
        "\n",
        "\"\"\"\n"
      ]
    },
    {
      "cell_type": "code",
      "execution_count": null,
      "metadata": {
        "id": "14LQkbqKWTsM"
      },
      "outputs": [],
      "source": [
        "gpt_ans=\"\"\"\n",
        "Here's a summary table outlining key carbon-neutral technologies in major countries along with supporting evidence:\n",
        "\n",
        "Country\tKey Carbon-Neutral Technologies\tSupporting Evidence\n",
        "United States\tRenewable Energy (Solar, Wind), Carbon Capture and Storage (CCS), Electric Vehicles (EVs)\t- Renewable energy sources, particularly wind and solar, have seen significant growth in the US. According to the U.S. Energy Information Administration, renewables accounted for 21% of total electricity generation in 2020, up from 18% in 2019. (source: EIA) <br>- The US Department of Energy has been investing in carbon capture and storage (CCS) technologies, aiming to capture CO2 emissions from power plants and industrial facilities. (source: US DOE) <br>- Electric vehicle sales have been steadily increasing in the US, with major automakers investing in EV technology. Tesla, for example, has become a prominent player in the EV market. (source: Statista)\n",
        "China\tHydroelectric Power, Solar Energy, Electric Vehicles\t- China leads the world in hydroelectric power generation, with the Three Gorges Dam being the largest hydroelectric power station globally. (source: International Hydropower Association) <br>- China has made significant investments in solar energy, aiming to reduce its reliance on coal. It is the world's largest producer of solar panels. (source: International Energy Agency) <br>- China is the largest market for electric vehicles, with the government providing subsidies and incentives to encourage adoption. (source: BloombergNEF)\n",
        "European Union\tOffshore Wind Energy, Biomass Energy, Hydrogen Fuel Cells\t- The European Union has been investing heavily in offshore wind energy projects. For example, the UK's Dogger Bank Wind Farm is set to become the world's largest offshore wind farm. (source: Dogger Bank Wind Farm) <br>- Biomass energy is being utilized across the EU, with countries like Sweden generating a significant portion of their electricity from biomass sources. (source: European Biomass Association) <br>- Hydrogen fuel cells are gaining traction in the EU as a clean energy solution for transportation and power generation. Countries like Germany have announced plans to invest in hydrogen infrastructure. (source: European Commission)\n",
        "India\tSolar Energy, Biofuels, Public Transportation Initiatives\t- India has been rapidly expanding its solar energy capacity, aiming to achieve 100 GW of solar power by 2022. The country has also launched initiatives like the International Solar Alliance to promote solar energy adoption globally. (source: Ministry of New and Renewable Energy, Government of India) <br>- Biofuels, particularly ethanol and biodiesel, are being promoted in India as a cleaner alternative to traditional fossil fuels. The government has set targets for blending biofuels with petrol and diesel. (source: Ministry of Petroleum & Natural Gas, Government of India) <br>- India is investing in public transportation initiatives, including metro rail systems and electric buses, to reduce emissions from transportation. For example, Delhi Metro is one of the largest metro networks in the world. (source: Delhi Metro Rail Corporation)\n",
        "These are just a few examples of carbon-neutral technologies being implemented in major countries, and there are many more initiatives and technologies being developed and deployed globally to combat climate change.\n",
        "\"\"\""
      ]
    },
    {
      "cell_type": "code",
      "execution_count": null,
      "metadata": {
        "id": "jEL7IDX5UuiU"
      },
      "outputs": [],
      "source": [
        "pred = \"\"\"\n",
        "\n",
        "To create a detailed summary table of key carbon-neutral technologies in major countries, we need to extract information from the provided text regarding various countries' strategies, initiatives, and technologies aimed at achieving carbon neutrality. Here's a structured summary table based on the information provided:\n",
        "\n",
        "Country\tKey Carbon-Neutral Technologies\tSupporting Evidence\n",
        "United States\t- Clean energy transition (renewable energy sources)\t- Goal of 100% clean electricity by 2035\n",
        "- Electric vehicles\t- Leading in clean technologies like batteries, electric vehicles, and heat pumps\n",
        "- Heat pumps\t- Building on success in clean technologies without sacrificing critical worker protections\n",
        "- Carbon pollution-free electricity system\t- Set a goal to reach 100% carbon pollution-free electricity system by 2035\n",
        "- Decentralized energy systems\t- Necessary for achieving net-zero emissions by 2050\n",
        "- Carbon trading and carbon tax\t- Proposed plans for carbon neutrality include shifting away from fossil fuels, developing low-carbon technologies, and carbon trading\n",
        "- Low-carbon agriculture\n",
        "- Changing dietary habits\n",
        "- Increasing the value of food and agricultural waste\n",
        "- Resilient buildings and cities\n",
        "Other Countries\t- Renewable energy sources\t- Shift away from fossil fuels towards renewable energy sources\n",
        "- Low-carbon technologies\t- Development of low-carbon technologies\n",
        "- Electrification of transportation sector\t- Necessary for achieving carbon neutrality\n",
        "- Negative emissions technologies\t- Technologies and initiatives for negative emissions\n",
        "United Kingdom\t- Renewable energy sources\t- Efforts towards renewable energy sources to reduce reliance on non-renewable sources\n",
        "- Carbon pricing mechanisms\t- Implementation of carbon pricing mechanisms to incentivize emissions reduction\n",
        "- Energy-efficient buildings and infrastructure\t- Focus on energy efficiency in buildings and infrastructure\n",
        "- Carbon capture and storage (CCS)\t- Investment in CCS technologies for capturing and storing carbon emissions\n",
        "China\t- Renewable energy sources\t- Investment in renewable energy sources, particularly solar and wind power\n",
        "- Electric vehicles and public transportation\t- Promotion of electric vehicles and improvement of public transportation systems\n",
        "- Energy efficiency initiatives\t- Implementation of energy efficiency initiatives to reduce energy consumption and emissions\n",
        "- Afforestation and reforestation efforts\t- Initiatives to increase forest cover through afforestation and reforestation\n",
        "- Carbon trading\t- Implementation of carbon trading mechanisms to reduce emissions and promote carbon neutrality\n",
        "This table summarizes key carbon-neutral technologies and initiatives in major countries such as the United States, Other Countries (excluding the US and UK), United Kingdom, and China. The supporting evidence is derived from the information provided in the text, outlining various strategies and technologies each country is adopting to achieve carbon neutrality.\n",
        "\"\"\""
      ]
    },
    {
      "cell_type": "code",
      "execution_count": null,
      "metadata": {
        "colab": {
          "base_uri": "https://localhost:8080/",
          "height": 376,
          "referenced_widgets": [
            "76bce14ede6c48e68a9b00ed53056254",
            "fc5895883dd8411eba71e4dd57f6fe32",
            "9f049615268b4acc94d7d3cba2bb36be",
            "fdee31d06ae64bee94b3b76f7bd00ab6",
            "cc4f6be957084ccdbd8609fdb9513e61",
            "af0260194ef748ca9f896805b90e6008",
            "7bc23815bb2842f7b7314663c622869b",
            "40cb3474e9904907bfa416fe7418385a",
            "8b052d1d37b141c690ad589027a7ebbd",
            "40cd433bb142496ab2c741e5d1f28cde",
            "08120efcfbeb4c279693f26deb7d5372",
            "7ba6db6332a846609a3c12ae182fbe7c",
            "7822e86273144041bd503a3774688529",
            "5462b9e9885f4238bdf84947630ff80e",
            "6af76a3970864f5cbd680adc88620867",
            "ed335ac9485d4023a0d29701686139da",
            "d17dbaa400e54d3585ae559f314042e8",
            "2df6d72273064e7f8f105bc08add95fe",
            "9031a28abb96452e9e7f91f613865c51",
            "e1dc03090af84e728d8a123d87c44252",
            "d8bb2a5c2ed84f279c8c58e944f9d72b",
            "bdbd165d59d443d58f5250c1b60df3bd",
            "c86f75344f1a475f94f4721996eee709",
            "a968f118ffd847a4ac63d4a3adc31371",
            "e7940d80138a4d6aa5101fb8f1eda295",
            "c46fbaeaaf2d4268bfa735789bd0dba4",
            "d2f5da8887e34ff58cdf48b81c03d231",
            "737cc74b58624ffab3c2bb61c43bd198",
            "3ac3aa1781134380b0f3c51aabd7de11",
            "b75cfd8e81fe41b1bbb098878a5e86d6",
            "fe3bf568d17245b2aa1640d0fa1e2bc9",
            "cd6bb0c4474b47679704b479b563f0b5",
            "da1180560dab457a8c2fe99287c379e4",
            "13c9ddf431d84db38d1958361fc1d70e",
            "95f1d7c61fac451d8821749f77d7916e",
            "9c9a64bc70be4db58d6798d1896cbfe1",
            "5c1c4cbd93d34058be7a82ac3d247407",
            "0de190366ca945b1b4f43075501e5924",
            "a093e4031f6a41489c15e0ce04f06547",
            "7734662fb7ea4b03a8c76595575dc6bb",
            "fae4e4b23c904f2db5c02e5507a9d588",
            "0472b82abaf14ce7b7bd3856d1a8fabb",
            "3137aaa745094456b232b5ac27beca1a",
            "f35f097148c6427ea74218e4530a3fe7",
            "353db5f92d144a2796e8107532d2f3aa",
            "11c6291c605d4fbda17508233e7b0017",
            "8035cf88687a4084ac0147c2f7ceff40",
            "5e894e50158a423c98d3345441244faf",
            "446811e4d3944e04b701038141747541",
            "16ab9403359442888d2ee935916f84b4",
            "4cb89993047743f49176e46fc0aa728f",
            "c1f8018170f3451a95d7c147da3c007a",
            "2a0e19ed11d34abd8b081cb42bd67b5b",
            "b3da9775180d45eeafe5ccf24564984f",
            "195344ac15d04d9681936656d146f335"
          ]
        },
        "id": "hvkN3yebUE70",
        "outputId": "8a4b99c1-8523-46de-c7e5-3eb70b92044a"
      },
      "outputs": [
        {
          "name": "stderr",
          "output_type": "stream",
          "text": [
            "/usr/local/lib/python3.10/dist-packages/huggingface_hub/utils/_token.py:88: UserWarning: \n",
            "The secret `HF_TOKEN` does not exist in your Colab secrets.\n",
            "To authenticate with the Hugging Face Hub, create a token in your settings tab (https://huggingface.co/settings/tokens), set it as secret in your Google Colab and restart your session.\n",
            "You will be able to reuse this secret in all of your notebooks.\n",
            "Please note that authentication is recommended but still optional to access public models or datasets.\n",
            "  warnings.warn(\n"
          ]
        },
        {
          "data": {
            "application/vnd.jupyter.widget-view+json": {
              "model_id": "76bce14ede6c48e68a9b00ed53056254",
              "version_major": 2,
              "version_minor": 0
            },
            "text/plain": [
              "tokenizer_config.json:   0%|          | 0.00/48.0 [00:00<?, ?B/s]"
            ]
          },
          "metadata": {},
          "output_type": "display_data"
        },
        {
          "data": {
            "application/vnd.jupyter.widget-view+json": {
              "model_id": "7ba6db6332a846609a3c12ae182fbe7c",
              "version_major": 2,
              "version_minor": 0
            },
            "text/plain": [
              "config.json:   0%|          | 0.00/570 [00:00<?, ?B/s]"
            ]
          },
          "metadata": {},
          "output_type": "display_data"
        },
        {
          "data": {
            "application/vnd.jupyter.widget-view+json": {
              "model_id": "c86f75344f1a475f94f4721996eee709",
              "version_major": 2,
              "version_minor": 0
            },
            "text/plain": [
              "vocab.txt:   0%|          | 0.00/232k [00:00<?, ?B/s]"
            ]
          },
          "metadata": {},
          "output_type": "display_data"
        },
        {
          "data": {
            "application/vnd.jupyter.widget-view+json": {
              "model_id": "13c9ddf431d84db38d1958361fc1d70e",
              "version_major": 2,
              "version_minor": 0
            },
            "text/plain": [
              "tokenizer.json:   0%|          | 0.00/466k [00:00<?, ?B/s]"
            ]
          },
          "metadata": {},
          "output_type": "display_data"
        },
        {
          "data": {
            "application/vnd.jupyter.widget-view+json": {
              "model_id": "353db5f92d144a2796e8107532d2f3aa",
              "version_major": 2,
              "version_minor": 0
            },
            "text/plain": [
              "model.safetensors:   0%|          | 0.00/440M [00:00<?, ?B/s]"
            ]
          },
          "metadata": {},
          "output_type": "display_data"
        },
        {
          "name": "stdout",
          "output_type": "stream",
          "text": [
            "BERT Score:\n",
            "Precision: 0.5514809489250183\n",
            "Recall: 0.5822059512138367\n",
            "F1 Score: 0.5664271116256714\n"
          ]
        }
      ],
      "source": [
        "from bert_score import score\n",
        "\n",
        "\n",
        "\n",
        "def calculate_bert_score(reference_text, generated_text):\n",
        "    P, R, F1 = score([reference_text], [generated_text], lang='en', model_type='bert-base-uncased')\n",
        "    return {\n",
        "        'Precision': P.item(),\n",
        "        'Recall': R.item(),\n",
        "        'F1 Score': F1.item()\n",
        "    }\n",
        "\n",
        "# Example texts\n",
        "\n",
        "generated_answer = pred\n",
        "real_answer = real\n",
        "# Calculate BERT score\n",
        "result = calculate_bert_score(real_answer, generated_answer)\n",
        "\n",
        "# Display results\n",
        "print(\"BERT Score:\")\n",
        "for metric, value in result.items():\n",
        "    print(f\"{metric}: {value}\")\n"
      ]
    },
    {
      "cell_type": "code",
      "execution_count": null,
      "metadata": {
        "id": "6m5JdJEWv9Em"
      },
      "outputs": [],
      "source": []
    }
  ],
  "metadata": {
    "colab": {
      "provenance": []
    },
    "kernelspec": {
      "display_name": "Python 3",
      "name": "python3"
    },
    "language_info": {
      "name": "python"
    },
    "widgets": {
      "application/vnd.jupyter.widget-state+json": {
        "0472b82abaf14ce7b7bd3856d1a8fabb": {
          "model_module": "@jupyter-widgets/controls",
          "model_module_version": "1.5.0",
          "model_name": "ProgressStyleModel",
          "state": {
            "_model_module": "@jupyter-widgets/controls",
            "_model_module_version": "1.5.0",
            "_model_name": "ProgressStyleModel",
            "_view_count": null,
            "_view_module": "@jupyter-widgets/base",
            "_view_module_version": "1.2.0",
            "_view_name": "StyleView",
            "bar_color": null,
            "description_width": ""
          }
        },
        "08120efcfbeb4c279693f26deb7d5372": {
          "model_module": "@jupyter-widgets/controls",
          "model_module_version": "1.5.0",
          "model_name": "DescriptionStyleModel",
          "state": {
            "_model_module": "@jupyter-widgets/controls",
            "_model_module_version": "1.5.0",
            "_model_name": "DescriptionStyleModel",
            "_view_count": null,
            "_view_module": "@jupyter-widgets/base",
            "_view_module_version": "1.2.0",
            "_view_name": "StyleView",
            "description_width": ""
          }
        },
        "0de190366ca945b1b4f43075501e5924": {
          "model_module": "@jupyter-widgets/base",
          "model_module_version": "1.2.0",
          "model_name": "LayoutModel",
          "state": {
            "_model_module": "@jupyter-widgets/base",
            "_model_module_version": "1.2.0",
            "_model_name": "LayoutModel",
            "_view_count": null,
            "_view_module": "@jupyter-widgets/base",
            "_view_module_version": "1.2.0",
            "_view_name": "LayoutView",
            "align_content": null,
            "align_items": null,
            "align_self": null,
            "border": null,
            "bottom": null,
            "display": null,
            "flex": null,
            "flex_flow": null,
            "grid_area": null,
            "grid_auto_columns": null,
            "grid_auto_flow": null,
            "grid_auto_rows": null,
            "grid_column": null,
            "grid_gap": null,
            "grid_row": null,
            "grid_template_areas": null,
            "grid_template_columns": null,
            "grid_template_rows": null,
            "height": null,
            "justify_content": null,
            "justify_items": null,
            "left": null,
            "margin": null,
            "max_height": null,
            "max_width": null,
            "min_height": null,
            "min_width": null,
            "object_fit": null,
            "object_position": null,
            "order": null,
            "overflow": null,
            "overflow_x": null,
            "overflow_y": null,
            "padding": null,
            "right": null,
            "top": null,
            "visibility": null,
            "width": null
          }
        },
        "11c6291c605d4fbda17508233e7b0017": {
          "model_module": "@jupyter-widgets/controls",
          "model_module_version": "1.5.0",
          "model_name": "HTMLModel",
          "state": {
            "_dom_classes": [],
            "_model_module": "@jupyter-widgets/controls",
            "_model_module_version": "1.5.0",
            "_model_name": "HTMLModel",
            "_view_count": null,
            "_view_module": "@jupyter-widgets/controls",
            "_view_module_version": "1.5.0",
            "_view_name": "HTMLView",
            "description": "",
            "description_tooltip": null,
            "layout": "IPY_MODEL_16ab9403359442888d2ee935916f84b4",
            "placeholder": "​",
            "style": "IPY_MODEL_4cb89993047743f49176e46fc0aa728f",
            "value": "model.safetensors: 100%"
          }
        },
        "13c9ddf431d84db38d1958361fc1d70e": {
          "model_module": "@jupyter-widgets/controls",
          "model_module_version": "1.5.0",
          "model_name": "HBoxModel",
          "state": {
            "_dom_classes": [],
            "_model_module": "@jupyter-widgets/controls",
            "_model_module_version": "1.5.0",
            "_model_name": "HBoxModel",
            "_view_count": null,
            "_view_module": "@jupyter-widgets/controls",
            "_view_module_version": "1.5.0",
            "_view_name": "HBoxView",
            "box_style": "",
            "children": [
              "IPY_MODEL_95f1d7c61fac451d8821749f77d7916e",
              "IPY_MODEL_9c9a64bc70be4db58d6798d1896cbfe1",
              "IPY_MODEL_5c1c4cbd93d34058be7a82ac3d247407"
            ],
            "layout": "IPY_MODEL_0de190366ca945b1b4f43075501e5924"
          }
        },
        "16ab9403359442888d2ee935916f84b4": {
          "model_module": "@jupyter-widgets/base",
          "model_module_version": "1.2.0",
          "model_name": "LayoutModel",
          "state": {
            "_model_module": "@jupyter-widgets/base",
            "_model_module_version": "1.2.0",
            "_model_name": "LayoutModel",
            "_view_count": null,
            "_view_module": "@jupyter-widgets/base",
            "_view_module_version": "1.2.0",
            "_view_name": "LayoutView",
            "align_content": null,
            "align_items": null,
            "align_self": null,
            "border": null,
            "bottom": null,
            "display": null,
            "flex": null,
            "flex_flow": null,
            "grid_area": null,
            "grid_auto_columns": null,
            "grid_auto_flow": null,
            "grid_auto_rows": null,
            "grid_column": null,
            "grid_gap": null,
            "grid_row": null,
            "grid_template_areas": null,
            "grid_template_columns": null,
            "grid_template_rows": null,
            "height": null,
            "justify_content": null,
            "justify_items": null,
            "left": null,
            "margin": null,
            "max_height": null,
            "max_width": null,
            "min_height": null,
            "min_width": null,
            "object_fit": null,
            "object_position": null,
            "order": null,
            "overflow": null,
            "overflow_x": null,
            "overflow_y": null,
            "padding": null,
            "right": null,
            "top": null,
            "visibility": null,
            "width": null
          }
        },
        "195344ac15d04d9681936656d146f335": {
          "model_module": "@jupyter-widgets/controls",
          "model_module_version": "1.5.0",
          "model_name": "DescriptionStyleModel",
          "state": {
            "_model_module": "@jupyter-widgets/controls",
            "_model_module_version": "1.5.0",
            "_model_name": "DescriptionStyleModel",
            "_view_count": null,
            "_view_module": "@jupyter-widgets/base",
            "_view_module_version": "1.2.0",
            "_view_name": "StyleView",
            "description_width": ""
          }
        },
        "2a0e19ed11d34abd8b081cb42bd67b5b": {
          "model_module": "@jupyter-widgets/controls",
          "model_module_version": "1.5.0",
          "model_name": "ProgressStyleModel",
          "state": {
            "_model_module": "@jupyter-widgets/controls",
            "_model_module_version": "1.5.0",
            "_model_name": "ProgressStyleModel",
            "_view_count": null,
            "_view_module": "@jupyter-widgets/base",
            "_view_module_version": "1.2.0",
            "_view_name": "StyleView",
            "bar_color": null,
            "description_width": ""
          }
        },
        "2df6d72273064e7f8f105bc08add95fe": {
          "model_module": "@jupyter-widgets/controls",
          "model_module_version": "1.5.0",
          "model_name": "DescriptionStyleModel",
          "state": {
            "_model_module": "@jupyter-widgets/controls",
            "_model_module_version": "1.5.0",
            "_model_name": "DescriptionStyleModel",
            "_view_count": null,
            "_view_module": "@jupyter-widgets/base",
            "_view_module_version": "1.2.0",
            "_view_name": "StyleView",
            "description_width": ""
          }
        },
        "3137aaa745094456b232b5ac27beca1a": {
          "model_module": "@jupyter-widgets/base",
          "model_module_version": "1.2.0",
          "model_name": "LayoutModel",
          "state": {
            "_model_module": "@jupyter-widgets/base",
            "_model_module_version": "1.2.0",
            "_model_name": "LayoutModel",
            "_view_count": null,
            "_view_module": "@jupyter-widgets/base",
            "_view_module_version": "1.2.0",
            "_view_name": "LayoutView",
            "align_content": null,
            "align_items": null,
            "align_self": null,
            "border": null,
            "bottom": null,
            "display": null,
            "flex": null,
            "flex_flow": null,
            "grid_area": null,
            "grid_auto_columns": null,
            "grid_auto_flow": null,
            "grid_auto_rows": null,
            "grid_column": null,
            "grid_gap": null,
            "grid_row": null,
            "grid_template_areas": null,
            "grid_template_columns": null,
            "grid_template_rows": null,
            "height": null,
            "justify_content": null,
            "justify_items": null,
            "left": null,
            "margin": null,
            "max_height": null,
            "max_width": null,
            "min_height": null,
            "min_width": null,
            "object_fit": null,
            "object_position": null,
            "order": null,
            "overflow": null,
            "overflow_x": null,
            "overflow_y": null,
            "padding": null,
            "right": null,
            "top": null,
            "visibility": null,
            "width": null
          }
        },
        "353db5f92d144a2796e8107532d2f3aa": {
          "model_module": "@jupyter-widgets/controls",
          "model_module_version": "1.5.0",
          "model_name": "HBoxModel",
          "state": {
            "_dom_classes": [],
            "_model_module": "@jupyter-widgets/controls",
            "_model_module_version": "1.5.0",
            "_model_name": "HBoxModel",
            "_view_count": null,
            "_view_module": "@jupyter-widgets/controls",
            "_view_module_version": "1.5.0",
            "_view_name": "HBoxView",
            "box_style": "",
            "children": [
              "IPY_MODEL_11c6291c605d4fbda17508233e7b0017",
              "IPY_MODEL_8035cf88687a4084ac0147c2f7ceff40",
              "IPY_MODEL_5e894e50158a423c98d3345441244faf"
            ],
            "layout": "IPY_MODEL_446811e4d3944e04b701038141747541"
          }
        },
        "3ac3aa1781134380b0f3c51aabd7de11": {
          "model_module": "@jupyter-widgets/controls",
          "model_module_version": "1.5.0",
          "model_name": "DescriptionStyleModel",
          "state": {
            "_model_module": "@jupyter-widgets/controls",
            "_model_module_version": "1.5.0",
            "_model_name": "DescriptionStyleModel",
            "_view_count": null,
            "_view_module": "@jupyter-widgets/base",
            "_view_module_version": "1.2.0",
            "_view_name": "StyleView",
            "description_width": ""
          }
        },
        "40cb3474e9904907bfa416fe7418385a": {
          "model_module": "@jupyter-widgets/base",
          "model_module_version": "1.2.0",
          "model_name": "LayoutModel",
          "state": {
            "_model_module": "@jupyter-widgets/base",
            "_model_module_version": "1.2.0",
            "_model_name": "LayoutModel",
            "_view_count": null,
            "_view_module": "@jupyter-widgets/base",
            "_view_module_version": "1.2.0",
            "_view_name": "LayoutView",
            "align_content": null,
            "align_items": null,
            "align_self": null,
            "border": null,
            "bottom": null,
            "display": null,
            "flex": null,
            "flex_flow": null,
            "grid_area": null,
            "grid_auto_columns": null,
            "grid_auto_flow": null,
            "grid_auto_rows": null,
            "grid_column": null,
            "grid_gap": null,
            "grid_row": null,
            "grid_template_areas": null,
            "grid_template_columns": null,
            "grid_template_rows": null,
            "height": null,
            "justify_content": null,
            "justify_items": null,
            "left": null,
            "margin": null,
            "max_height": null,
            "max_width": null,
            "min_height": null,
            "min_width": null,
            "object_fit": null,
            "object_position": null,
            "order": null,
            "overflow": null,
            "overflow_x": null,
            "overflow_y": null,
            "padding": null,
            "right": null,
            "top": null,
            "visibility": null,
            "width": null
          }
        },
        "40cd433bb142496ab2c741e5d1f28cde": {
          "model_module": "@jupyter-widgets/base",
          "model_module_version": "1.2.0",
          "model_name": "LayoutModel",
          "state": {
            "_model_module": "@jupyter-widgets/base",
            "_model_module_version": "1.2.0",
            "_model_name": "LayoutModel",
            "_view_count": null,
            "_view_module": "@jupyter-widgets/base",
            "_view_module_version": "1.2.0",
            "_view_name": "LayoutView",
            "align_content": null,
            "align_items": null,
            "align_self": null,
            "border": null,
            "bottom": null,
            "display": null,
            "flex": null,
            "flex_flow": null,
            "grid_area": null,
            "grid_auto_columns": null,
            "grid_auto_flow": null,
            "grid_auto_rows": null,
            "grid_column": null,
            "grid_gap": null,
            "grid_row": null,
            "grid_template_areas": null,
            "grid_template_columns": null,
            "grid_template_rows": null,
            "height": null,
            "justify_content": null,
            "justify_items": null,
            "left": null,
            "margin": null,
            "max_height": null,
            "max_width": null,
            "min_height": null,
            "min_width": null,
            "object_fit": null,
            "object_position": null,
            "order": null,
            "overflow": null,
            "overflow_x": null,
            "overflow_y": null,
            "padding": null,
            "right": null,
            "top": null,
            "visibility": null,
            "width": null
          }
        },
        "446811e4d3944e04b701038141747541": {
          "model_module": "@jupyter-widgets/base",
          "model_module_version": "1.2.0",
          "model_name": "LayoutModel",
          "state": {
            "_model_module": "@jupyter-widgets/base",
            "_model_module_version": "1.2.0",
            "_model_name": "LayoutModel",
            "_view_count": null,
            "_view_module": "@jupyter-widgets/base",
            "_view_module_version": "1.2.0",
            "_view_name": "LayoutView",
            "align_content": null,
            "align_items": null,
            "align_self": null,
            "border": null,
            "bottom": null,
            "display": null,
            "flex": null,
            "flex_flow": null,
            "grid_area": null,
            "grid_auto_columns": null,
            "grid_auto_flow": null,
            "grid_auto_rows": null,
            "grid_column": null,
            "grid_gap": null,
            "grid_row": null,
            "grid_template_areas": null,
            "grid_template_columns": null,
            "grid_template_rows": null,
            "height": null,
            "justify_content": null,
            "justify_items": null,
            "left": null,
            "margin": null,
            "max_height": null,
            "max_width": null,
            "min_height": null,
            "min_width": null,
            "object_fit": null,
            "object_position": null,
            "order": null,
            "overflow": null,
            "overflow_x": null,
            "overflow_y": null,
            "padding": null,
            "right": null,
            "top": null,
            "visibility": null,
            "width": null
          }
        },
        "4cb89993047743f49176e46fc0aa728f": {
          "model_module": "@jupyter-widgets/controls",
          "model_module_version": "1.5.0",
          "model_name": "DescriptionStyleModel",
          "state": {
            "_model_module": "@jupyter-widgets/controls",
            "_model_module_version": "1.5.0",
            "_model_name": "DescriptionStyleModel",
            "_view_count": null,
            "_view_module": "@jupyter-widgets/base",
            "_view_module_version": "1.2.0",
            "_view_name": "StyleView",
            "description_width": ""
          }
        },
        "5462b9e9885f4238bdf84947630ff80e": {
          "model_module": "@jupyter-widgets/controls",
          "model_module_version": "1.5.0",
          "model_name": "FloatProgressModel",
          "state": {
            "_dom_classes": [],
            "_model_module": "@jupyter-widgets/controls",
            "_model_module_version": "1.5.0",
            "_model_name": "FloatProgressModel",
            "_view_count": null,
            "_view_module": "@jupyter-widgets/controls",
            "_view_module_version": "1.5.0",
            "_view_name": "ProgressView",
            "bar_style": "success",
            "description": "",
            "description_tooltip": null,
            "layout": "IPY_MODEL_9031a28abb96452e9e7f91f613865c51",
            "max": 570,
            "min": 0,
            "orientation": "horizontal",
            "style": "IPY_MODEL_e1dc03090af84e728d8a123d87c44252",
            "value": 570
          }
        },
        "5c1c4cbd93d34058be7a82ac3d247407": {
          "model_module": "@jupyter-widgets/controls",
          "model_module_version": "1.5.0",
          "model_name": "HTMLModel",
          "state": {
            "_dom_classes": [],
            "_model_module": "@jupyter-widgets/controls",
            "_model_module_version": "1.5.0",
            "_model_name": "HTMLModel",
            "_view_count": null,
            "_view_module": "@jupyter-widgets/controls",
            "_view_module_version": "1.5.0",
            "_view_name": "HTMLView",
            "description": "",
            "description_tooltip": null,
            "layout": "IPY_MODEL_3137aaa745094456b232b5ac27beca1a",
            "placeholder": "​",
            "style": "IPY_MODEL_f35f097148c6427ea74218e4530a3fe7",
            "value": " 466k/466k [00:00&lt;00:00, 5.10MB/s]"
          }
        },
        "5e894e50158a423c98d3345441244faf": {
          "model_module": "@jupyter-widgets/controls",
          "model_module_version": "1.5.0",
          "model_name": "HTMLModel",
          "state": {
            "_dom_classes": [],
            "_model_module": "@jupyter-widgets/controls",
            "_model_module_version": "1.5.0",
            "_model_name": "HTMLModel",
            "_view_count": null,
            "_view_module": "@jupyter-widgets/controls",
            "_view_module_version": "1.5.0",
            "_view_name": "HTMLView",
            "description": "",
            "description_tooltip": null,
            "layout": "IPY_MODEL_b3da9775180d45eeafe5ccf24564984f",
            "placeholder": "​",
            "style": "IPY_MODEL_195344ac15d04d9681936656d146f335",
            "value": " 440M/440M [00:05&lt;00:00, 86.7MB/s]"
          }
        },
        "6af76a3970864f5cbd680adc88620867": {
          "model_module": "@jupyter-widgets/controls",
          "model_module_version": "1.5.0",
          "model_name": "HTMLModel",
          "state": {
            "_dom_classes": [],
            "_model_module": "@jupyter-widgets/controls",
            "_model_module_version": "1.5.0",
            "_model_name": "HTMLModel",
            "_view_count": null,
            "_view_module": "@jupyter-widgets/controls",
            "_view_module_version": "1.5.0",
            "_view_name": "HTMLView",
            "description": "",
            "description_tooltip": null,
            "layout": "IPY_MODEL_d8bb2a5c2ed84f279c8c58e944f9d72b",
            "placeholder": "​",
            "style": "IPY_MODEL_bdbd165d59d443d58f5250c1b60df3bd",
            "value": " 570/570 [00:00&lt;00:00, 8.34kB/s]"
          }
        },
        "737cc74b58624ffab3c2bb61c43bd198": {
          "model_module": "@jupyter-widgets/base",
          "model_module_version": "1.2.0",
          "model_name": "LayoutModel",
          "state": {
            "_model_module": "@jupyter-widgets/base",
            "_model_module_version": "1.2.0",
            "_model_name": "LayoutModel",
            "_view_count": null,
            "_view_module": "@jupyter-widgets/base",
            "_view_module_version": "1.2.0",
            "_view_name": "LayoutView",
            "align_content": null,
            "align_items": null,
            "align_self": null,
            "border": null,
            "bottom": null,
            "display": null,
            "flex": null,
            "flex_flow": null,
            "grid_area": null,
            "grid_auto_columns": null,
            "grid_auto_flow": null,
            "grid_auto_rows": null,
            "grid_column": null,
            "grid_gap": null,
            "grid_row": null,
            "grid_template_areas": null,
            "grid_template_columns": null,
            "grid_template_rows": null,
            "height": null,
            "justify_content": null,
            "justify_items": null,
            "left": null,
            "margin": null,
            "max_height": null,
            "max_width": null,
            "min_height": null,
            "min_width": null,
            "object_fit": null,
            "object_position": null,
            "order": null,
            "overflow": null,
            "overflow_x": null,
            "overflow_y": null,
            "padding": null,
            "right": null,
            "top": null,
            "visibility": null,
            "width": null
          }
        },
        "76bce14ede6c48e68a9b00ed53056254": {
          "model_module": "@jupyter-widgets/controls",
          "model_module_version": "1.5.0",
          "model_name": "HBoxModel",
          "state": {
            "_dom_classes": [],
            "_model_module": "@jupyter-widgets/controls",
            "_model_module_version": "1.5.0",
            "_model_name": "HBoxModel",
            "_view_count": null,
            "_view_module": "@jupyter-widgets/controls",
            "_view_module_version": "1.5.0",
            "_view_name": "HBoxView",
            "box_style": "",
            "children": [
              "IPY_MODEL_fc5895883dd8411eba71e4dd57f6fe32",
              "IPY_MODEL_9f049615268b4acc94d7d3cba2bb36be",
              "IPY_MODEL_fdee31d06ae64bee94b3b76f7bd00ab6"
            ],
            "layout": "IPY_MODEL_cc4f6be957084ccdbd8609fdb9513e61"
          }
        },
        "7734662fb7ea4b03a8c76595575dc6bb": {
          "model_module": "@jupyter-widgets/controls",
          "model_module_version": "1.5.0",
          "model_name": "DescriptionStyleModel",
          "state": {
            "_model_module": "@jupyter-widgets/controls",
            "_model_module_version": "1.5.0",
            "_model_name": "DescriptionStyleModel",
            "_view_count": null,
            "_view_module": "@jupyter-widgets/base",
            "_view_module_version": "1.2.0",
            "_view_name": "StyleView",
            "description_width": ""
          }
        },
        "7822e86273144041bd503a3774688529": {
          "model_module": "@jupyter-widgets/controls",
          "model_module_version": "1.5.0",
          "model_name": "HTMLModel",
          "state": {
            "_dom_classes": [],
            "_model_module": "@jupyter-widgets/controls",
            "_model_module_version": "1.5.0",
            "_model_name": "HTMLModel",
            "_view_count": null,
            "_view_module": "@jupyter-widgets/controls",
            "_view_module_version": "1.5.0",
            "_view_name": "HTMLView",
            "description": "",
            "description_tooltip": null,
            "layout": "IPY_MODEL_d17dbaa400e54d3585ae559f314042e8",
            "placeholder": "​",
            "style": "IPY_MODEL_2df6d72273064e7f8f105bc08add95fe",
            "value": "config.json: 100%"
          }
        },
        "7ba6db6332a846609a3c12ae182fbe7c": {
          "model_module": "@jupyter-widgets/controls",
          "model_module_version": "1.5.0",
          "model_name": "HBoxModel",
          "state": {
            "_dom_classes": [],
            "_model_module": "@jupyter-widgets/controls",
            "_model_module_version": "1.5.0",
            "_model_name": "HBoxModel",
            "_view_count": null,
            "_view_module": "@jupyter-widgets/controls",
            "_view_module_version": "1.5.0",
            "_view_name": "HBoxView",
            "box_style": "",
            "children": [
              "IPY_MODEL_7822e86273144041bd503a3774688529",
              "IPY_MODEL_5462b9e9885f4238bdf84947630ff80e",
              "IPY_MODEL_6af76a3970864f5cbd680adc88620867"
            ],
            "layout": "IPY_MODEL_ed335ac9485d4023a0d29701686139da"
          }
        },
        "7bc23815bb2842f7b7314663c622869b": {
          "model_module": "@jupyter-widgets/controls",
          "model_module_version": "1.5.0",
          "model_name": "DescriptionStyleModel",
          "state": {
            "_model_module": "@jupyter-widgets/controls",
            "_model_module_version": "1.5.0",
            "_model_name": "DescriptionStyleModel",
            "_view_count": null,
            "_view_module": "@jupyter-widgets/base",
            "_view_module_version": "1.2.0",
            "_view_name": "StyleView",
            "description_width": ""
          }
        },
        "8035cf88687a4084ac0147c2f7ceff40": {
          "model_module": "@jupyter-widgets/controls",
          "model_module_version": "1.5.0",
          "model_name": "FloatProgressModel",
          "state": {
            "_dom_classes": [],
            "_model_module": "@jupyter-widgets/controls",
            "_model_module_version": "1.5.0",
            "_model_name": "FloatProgressModel",
            "_view_count": null,
            "_view_module": "@jupyter-widgets/controls",
            "_view_module_version": "1.5.0",
            "_view_name": "ProgressView",
            "bar_style": "success",
            "description": "",
            "description_tooltip": null,
            "layout": "IPY_MODEL_c1f8018170f3451a95d7c147da3c007a",
            "max": 440449768,
            "min": 0,
            "orientation": "horizontal",
            "style": "IPY_MODEL_2a0e19ed11d34abd8b081cb42bd67b5b",
            "value": 440449768
          }
        },
        "8b052d1d37b141c690ad589027a7ebbd": {
          "model_module": "@jupyter-widgets/controls",
          "model_module_version": "1.5.0",
          "model_name": "ProgressStyleModel",
          "state": {
            "_model_module": "@jupyter-widgets/controls",
            "_model_module_version": "1.5.0",
            "_model_name": "ProgressStyleModel",
            "_view_count": null,
            "_view_module": "@jupyter-widgets/base",
            "_view_module_version": "1.2.0",
            "_view_name": "StyleView",
            "bar_color": null,
            "description_width": ""
          }
        },
        "9031a28abb96452e9e7f91f613865c51": {
          "model_module": "@jupyter-widgets/base",
          "model_module_version": "1.2.0",
          "model_name": "LayoutModel",
          "state": {
            "_model_module": "@jupyter-widgets/base",
            "_model_module_version": "1.2.0",
            "_model_name": "LayoutModel",
            "_view_count": null,
            "_view_module": "@jupyter-widgets/base",
            "_view_module_version": "1.2.0",
            "_view_name": "LayoutView",
            "align_content": null,
            "align_items": null,
            "align_self": null,
            "border": null,
            "bottom": null,
            "display": null,
            "flex": null,
            "flex_flow": null,
            "grid_area": null,
            "grid_auto_columns": null,
            "grid_auto_flow": null,
            "grid_auto_rows": null,
            "grid_column": null,
            "grid_gap": null,
            "grid_row": null,
            "grid_template_areas": null,
            "grid_template_columns": null,
            "grid_template_rows": null,
            "height": null,
            "justify_content": null,
            "justify_items": null,
            "left": null,
            "margin": null,
            "max_height": null,
            "max_width": null,
            "min_height": null,
            "min_width": null,
            "object_fit": null,
            "object_position": null,
            "order": null,
            "overflow": null,
            "overflow_x": null,
            "overflow_y": null,
            "padding": null,
            "right": null,
            "top": null,
            "visibility": null,
            "width": null
          }
        },
        "95f1d7c61fac451d8821749f77d7916e": {
          "model_module": "@jupyter-widgets/controls",
          "model_module_version": "1.5.0",
          "model_name": "HTMLModel",
          "state": {
            "_dom_classes": [],
            "_model_module": "@jupyter-widgets/controls",
            "_model_module_version": "1.5.0",
            "_model_name": "HTMLModel",
            "_view_count": null,
            "_view_module": "@jupyter-widgets/controls",
            "_view_module_version": "1.5.0",
            "_view_name": "HTMLView",
            "description": "",
            "description_tooltip": null,
            "layout": "IPY_MODEL_a093e4031f6a41489c15e0ce04f06547",
            "placeholder": "​",
            "style": "IPY_MODEL_7734662fb7ea4b03a8c76595575dc6bb",
            "value": "tokenizer.json: 100%"
          }
        },
        "9c9a64bc70be4db58d6798d1896cbfe1": {
          "model_module": "@jupyter-widgets/controls",
          "model_module_version": "1.5.0",
          "model_name": "FloatProgressModel",
          "state": {
            "_dom_classes": [],
            "_model_module": "@jupyter-widgets/controls",
            "_model_module_version": "1.5.0",
            "_model_name": "FloatProgressModel",
            "_view_count": null,
            "_view_module": "@jupyter-widgets/controls",
            "_view_module_version": "1.5.0",
            "_view_name": "ProgressView",
            "bar_style": "success",
            "description": "",
            "description_tooltip": null,
            "layout": "IPY_MODEL_fae4e4b23c904f2db5c02e5507a9d588",
            "max": 466062,
            "min": 0,
            "orientation": "horizontal",
            "style": "IPY_MODEL_0472b82abaf14ce7b7bd3856d1a8fabb",
            "value": 466062
          }
        },
        "9f049615268b4acc94d7d3cba2bb36be": {
          "model_module": "@jupyter-widgets/controls",
          "model_module_version": "1.5.0",
          "model_name": "FloatProgressModel",
          "state": {
            "_dom_classes": [],
            "_model_module": "@jupyter-widgets/controls",
            "_model_module_version": "1.5.0",
            "_model_name": "FloatProgressModel",
            "_view_count": null,
            "_view_module": "@jupyter-widgets/controls",
            "_view_module_version": "1.5.0",
            "_view_name": "ProgressView",
            "bar_style": "success",
            "description": "",
            "description_tooltip": null,
            "layout": "IPY_MODEL_40cb3474e9904907bfa416fe7418385a",
            "max": 48,
            "min": 0,
            "orientation": "horizontal",
            "style": "IPY_MODEL_8b052d1d37b141c690ad589027a7ebbd",
            "value": 48
          }
        },
        "a093e4031f6a41489c15e0ce04f06547": {
          "model_module": "@jupyter-widgets/base",
          "model_module_version": "1.2.0",
          "model_name": "LayoutModel",
          "state": {
            "_model_module": "@jupyter-widgets/base",
            "_model_module_version": "1.2.0",
            "_model_name": "LayoutModel",
            "_view_count": null,
            "_view_module": "@jupyter-widgets/base",
            "_view_module_version": "1.2.0",
            "_view_name": "LayoutView",
            "align_content": null,
            "align_items": null,
            "align_self": null,
            "border": null,
            "bottom": null,
            "display": null,
            "flex": null,
            "flex_flow": null,
            "grid_area": null,
            "grid_auto_columns": null,
            "grid_auto_flow": null,
            "grid_auto_rows": null,
            "grid_column": null,
            "grid_gap": null,
            "grid_row": null,
            "grid_template_areas": null,
            "grid_template_columns": null,
            "grid_template_rows": null,
            "height": null,
            "justify_content": null,
            "justify_items": null,
            "left": null,
            "margin": null,
            "max_height": null,
            "max_width": null,
            "min_height": null,
            "min_width": null,
            "object_fit": null,
            "object_position": null,
            "order": null,
            "overflow": null,
            "overflow_x": null,
            "overflow_y": null,
            "padding": null,
            "right": null,
            "top": null,
            "visibility": null,
            "width": null
          }
        },
        "a968f118ffd847a4ac63d4a3adc31371": {
          "model_module": "@jupyter-widgets/controls",
          "model_module_version": "1.5.0",
          "model_name": "HTMLModel",
          "state": {
            "_dom_classes": [],
            "_model_module": "@jupyter-widgets/controls",
            "_model_module_version": "1.5.0",
            "_model_name": "HTMLModel",
            "_view_count": null,
            "_view_module": "@jupyter-widgets/controls",
            "_view_module_version": "1.5.0",
            "_view_name": "HTMLView",
            "description": "",
            "description_tooltip": null,
            "layout": "IPY_MODEL_737cc74b58624ffab3c2bb61c43bd198",
            "placeholder": "​",
            "style": "IPY_MODEL_3ac3aa1781134380b0f3c51aabd7de11",
            "value": "vocab.txt: 100%"
          }
        },
        "af0260194ef748ca9f896805b90e6008": {
          "model_module": "@jupyter-widgets/base",
          "model_module_version": "1.2.0",
          "model_name": "LayoutModel",
          "state": {
            "_model_module": "@jupyter-widgets/base",
            "_model_module_version": "1.2.0",
            "_model_name": "LayoutModel",
            "_view_count": null,
            "_view_module": "@jupyter-widgets/base",
            "_view_module_version": "1.2.0",
            "_view_name": "LayoutView",
            "align_content": null,
            "align_items": null,
            "align_self": null,
            "border": null,
            "bottom": null,
            "display": null,
            "flex": null,
            "flex_flow": null,
            "grid_area": null,
            "grid_auto_columns": null,
            "grid_auto_flow": null,
            "grid_auto_rows": null,
            "grid_column": null,
            "grid_gap": null,
            "grid_row": null,
            "grid_template_areas": null,
            "grid_template_columns": null,
            "grid_template_rows": null,
            "height": null,
            "justify_content": null,
            "justify_items": null,
            "left": null,
            "margin": null,
            "max_height": null,
            "max_width": null,
            "min_height": null,
            "min_width": null,
            "object_fit": null,
            "object_position": null,
            "order": null,
            "overflow": null,
            "overflow_x": null,
            "overflow_y": null,
            "padding": null,
            "right": null,
            "top": null,
            "visibility": null,
            "width": null
          }
        },
        "b3da9775180d45eeafe5ccf24564984f": {
          "model_module": "@jupyter-widgets/base",
          "model_module_version": "1.2.0",
          "model_name": "LayoutModel",
          "state": {
            "_model_module": "@jupyter-widgets/base",
            "_model_module_version": "1.2.0",
            "_model_name": "LayoutModel",
            "_view_count": null,
            "_view_module": "@jupyter-widgets/base",
            "_view_module_version": "1.2.0",
            "_view_name": "LayoutView",
            "align_content": null,
            "align_items": null,
            "align_self": null,
            "border": null,
            "bottom": null,
            "display": null,
            "flex": null,
            "flex_flow": null,
            "grid_area": null,
            "grid_auto_columns": null,
            "grid_auto_flow": null,
            "grid_auto_rows": null,
            "grid_column": null,
            "grid_gap": null,
            "grid_row": null,
            "grid_template_areas": null,
            "grid_template_columns": null,
            "grid_template_rows": null,
            "height": null,
            "justify_content": null,
            "justify_items": null,
            "left": null,
            "margin": null,
            "max_height": null,
            "max_width": null,
            "min_height": null,
            "min_width": null,
            "object_fit": null,
            "object_position": null,
            "order": null,
            "overflow": null,
            "overflow_x": null,
            "overflow_y": null,
            "padding": null,
            "right": null,
            "top": null,
            "visibility": null,
            "width": null
          }
        },
        "b75cfd8e81fe41b1bbb098878a5e86d6": {
          "model_module": "@jupyter-widgets/base",
          "model_module_version": "1.2.0",
          "model_name": "LayoutModel",
          "state": {
            "_model_module": "@jupyter-widgets/base",
            "_model_module_version": "1.2.0",
            "_model_name": "LayoutModel",
            "_view_count": null,
            "_view_module": "@jupyter-widgets/base",
            "_view_module_version": "1.2.0",
            "_view_name": "LayoutView",
            "align_content": null,
            "align_items": null,
            "align_self": null,
            "border": null,
            "bottom": null,
            "display": null,
            "flex": null,
            "flex_flow": null,
            "grid_area": null,
            "grid_auto_columns": null,
            "grid_auto_flow": null,
            "grid_auto_rows": null,
            "grid_column": null,
            "grid_gap": null,
            "grid_row": null,
            "grid_template_areas": null,
            "grid_template_columns": null,
            "grid_template_rows": null,
            "height": null,
            "justify_content": null,
            "justify_items": null,
            "left": null,
            "margin": null,
            "max_height": null,
            "max_width": null,
            "min_height": null,
            "min_width": null,
            "object_fit": null,
            "object_position": null,
            "order": null,
            "overflow": null,
            "overflow_x": null,
            "overflow_y": null,
            "padding": null,
            "right": null,
            "top": null,
            "visibility": null,
            "width": null
          }
        },
        "bdbd165d59d443d58f5250c1b60df3bd": {
          "model_module": "@jupyter-widgets/controls",
          "model_module_version": "1.5.0",
          "model_name": "DescriptionStyleModel",
          "state": {
            "_model_module": "@jupyter-widgets/controls",
            "_model_module_version": "1.5.0",
            "_model_name": "DescriptionStyleModel",
            "_view_count": null,
            "_view_module": "@jupyter-widgets/base",
            "_view_module_version": "1.2.0",
            "_view_name": "StyleView",
            "description_width": ""
          }
        },
        "c1f8018170f3451a95d7c147da3c007a": {
          "model_module": "@jupyter-widgets/base",
          "model_module_version": "1.2.0",
          "model_name": "LayoutModel",
          "state": {
            "_model_module": "@jupyter-widgets/base",
            "_model_module_version": "1.2.0",
            "_model_name": "LayoutModel",
            "_view_count": null,
            "_view_module": "@jupyter-widgets/base",
            "_view_module_version": "1.2.0",
            "_view_name": "LayoutView",
            "align_content": null,
            "align_items": null,
            "align_self": null,
            "border": null,
            "bottom": null,
            "display": null,
            "flex": null,
            "flex_flow": null,
            "grid_area": null,
            "grid_auto_columns": null,
            "grid_auto_flow": null,
            "grid_auto_rows": null,
            "grid_column": null,
            "grid_gap": null,
            "grid_row": null,
            "grid_template_areas": null,
            "grid_template_columns": null,
            "grid_template_rows": null,
            "height": null,
            "justify_content": null,
            "justify_items": null,
            "left": null,
            "margin": null,
            "max_height": null,
            "max_width": null,
            "min_height": null,
            "min_width": null,
            "object_fit": null,
            "object_position": null,
            "order": null,
            "overflow": null,
            "overflow_x": null,
            "overflow_y": null,
            "padding": null,
            "right": null,
            "top": null,
            "visibility": null,
            "width": null
          }
        },
        "c46fbaeaaf2d4268bfa735789bd0dba4": {
          "model_module": "@jupyter-widgets/controls",
          "model_module_version": "1.5.0",
          "model_name": "HTMLModel",
          "state": {
            "_dom_classes": [],
            "_model_module": "@jupyter-widgets/controls",
            "_model_module_version": "1.5.0",
            "_model_name": "HTMLModel",
            "_view_count": null,
            "_view_module": "@jupyter-widgets/controls",
            "_view_module_version": "1.5.0",
            "_view_name": "HTMLView",
            "description": "",
            "description_tooltip": null,
            "layout": "IPY_MODEL_cd6bb0c4474b47679704b479b563f0b5",
            "placeholder": "​",
            "style": "IPY_MODEL_da1180560dab457a8c2fe99287c379e4",
            "value": " 232k/232k [00:00&lt;00:00, 1.84MB/s]"
          }
        },
        "c86f75344f1a475f94f4721996eee709": {
          "model_module": "@jupyter-widgets/controls",
          "model_module_version": "1.5.0",
          "model_name": "HBoxModel",
          "state": {
            "_dom_classes": [],
            "_model_module": "@jupyter-widgets/controls",
            "_model_module_version": "1.5.0",
            "_model_name": "HBoxModel",
            "_view_count": null,
            "_view_module": "@jupyter-widgets/controls",
            "_view_module_version": "1.5.0",
            "_view_name": "HBoxView",
            "box_style": "",
            "children": [
              "IPY_MODEL_a968f118ffd847a4ac63d4a3adc31371",
              "IPY_MODEL_e7940d80138a4d6aa5101fb8f1eda295",
              "IPY_MODEL_c46fbaeaaf2d4268bfa735789bd0dba4"
            ],
            "layout": "IPY_MODEL_d2f5da8887e34ff58cdf48b81c03d231"
          }
        },
        "cc4f6be957084ccdbd8609fdb9513e61": {
          "model_module": "@jupyter-widgets/base",
          "model_module_version": "1.2.0",
          "model_name": "LayoutModel",
          "state": {
            "_model_module": "@jupyter-widgets/base",
            "_model_module_version": "1.2.0",
            "_model_name": "LayoutModel",
            "_view_count": null,
            "_view_module": "@jupyter-widgets/base",
            "_view_module_version": "1.2.0",
            "_view_name": "LayoutView",
            "align_content": null,
            "align_items": null,
            "align_self": null,
            "border": null,
            "bottom": null,
            "display": null,
            "flex": null,
            "flex_flow": null,
            "grid_area": null,
            "grid_auto_columns": null,
            "grid_auto_flow": null,
            "grid_auto_rows": null,
            "grid_column": null,
            "grid_gap": null,
            "grid_row": null,
            "grid_template_areas": null,
            "grid_template_columns": null,
            "grid_template_rows": null,
            "height": null,
            "justify_content": null,
            "justify_items": null,
            "left": null,
            "margin": null,
            "max_height": null,
            "max_width": null,
            "min_height": null,
            "min_width": null,
            "object_fit": null,
            "object_position": null,
            "order": null,
            "overflow": null,
            "overflow_x": null,
            "overflow_y": null,
            "padding": null,
            "right": null,
            "top": null,
            "visibility": null,
            "width": null
          }
        },
        "cd6bb0c4474b47679704b479b563f0b5": {
          "model_module": "@jupyter-widgets/base",
          "model_module_version": "1.2.0",
          "model_name": "LayoutModel",
          "state": {
            "_model_module": "@jupyter-widgets/base",
            "_model_module_version": "1.2.0",
            "_model_name": "LayoutModel",
            "_view_count": null,
            "_view_module": "@jupyter-widgets/base",
            "_view_module_version": "1.2.0",
            "_view_name": "LayoutView",
            "align_content": null,
            "align_items": null,
            "align_self": null,
            "border": null,
            "bottom": null,
            "display": null,
            "flex": null,
            "flex_flow": null,
            "grid_area": null,
            "grid_auto_columns": null,
            "grid_auto_flow": null,
            "grid_auto_rows": null,
            "grid_column": null,
            "grid_gap": null,
            "grid_row": null,
            "grid_template_areas": null,
            "grid_template_columns": null,
            "grid_template_rows": null,
            "height": null,
            "justify_content": null,
            "justify_items": null,
            "left": null,
            "margin": null,
            "max_height": null,
            "max_width": null,
            "min_height": null,
            "min_width": null,
            "object_fit": null,
            "object_position": null,
            "order": null,
            "overflow": null,
            "overflow_x": null,
            "overflow_y": null,
            "padding": null,
            "right": null,
            "top": null,
            "visibility": null,
            "width": null
          }
        },
        "d17dbaa400e54d3585ae559f314042e8": {
          "model_module": "@jupyter-widgets/base",
          "model_module_version": "1.2.0",
          "model_name": "LayoutModel",
          "state": {
            "_model_module": "@jupyter-widgets/base",
            "_model_module_version": "1.2.0",
            "_model_name": "LayoutModel",
            "_view_count": null,
            "_view_module": "@jupyter-widgets/base",
            "_view_module_version": "1.2.0",
            "_view_name": "LayoutView",
            "align_content": null,
            "align_items": null,
            "align_self": null,
            "border": null,
            "bottom": null,
            "display": null,
            "flex": null,
            "flex_flow": null,
            "grid_area": null,
            "grid_auto_columns": null,
            "grid_auto_flow": null,
            "grid_auto_rows": null,
            "grid_column": null,
            "grid_gap": null,
            "grid_row": null,
            "grid_template_areas": null,
            "grid_template_columns": null,
            "grid_template_rows": null,
            "height": null,
            "justify_content": null,
            "justify_items": null,
            "left": null,
            "margin": null,
            "max_height": null,
            "max_width": null,
            "min_height": null,
            "min_width": null,
            "object_fit": null,
            "object_position": null,
            "order": null,
            "overflow": null,
            "overflow_x": null,
            "overflow_y": null,
            "padding": null,
            "right": null,
            "top": null,
            "visibility": null,
            "width": null
          }
        },
        "d2f5da8887e34ff58cdf48b81c03d231": {
          "model_module": "@jupyter-widgets/base",
          "model_module_version": "1.2.0",
          "model_name": "LayoutModel",
          "state": {
            "_model_module": "@jupyter-widgets/base",
            "_model_module_version": "1.2.0",
            "_model_name": "LayoutModel",
            "_view_count": null,
            "_view_module": "@jupyter-widgets/base",
            "_view_module_version": "1.2.0",
            "_view_name": "LayoutView",
            "align_content": null,
            "align_items": null,
            "align_self": null,
            "border": null,
            "bottom": null,
            "display": null,
            "flex": null,
            "flex_flow": null,
            "grid_area": null,
            "grid_auto_columns": null,
            "grid_auto_flow": null,
            "grid_auto_rows": null,
            "grid_column": null,
            "grid_gap": null,
            "grid_row": null,
            "grid_template_areas": null,
            "grid_template_columns": null,
            "grid_template_rows": null,
            "height": null,
            "justify_content": null,
            "justify_items": null,
            "left": null,
            "margin": null,
            "max_height": null,
            "max_width": null,
            "min_height": null,
            "min_width": null,
            "object_fit": null,
            "object_position": null,
            "order": null,
            "overflow": null,
            "overflow_x": null,
            "overflow_y": null,
            "padding": null,
            "right": null,
            "top": null,
            "visibility": null,
            "width": null
          }
        },
        "d8bb2a5c2ed84f279c8c58e944f9d72b": {
          "model_module": "@jupyter-widgets/base",
          "model_module_version": "1.2.0",
          "model_name": "LayoutModel",
          "state": {
            "_model_module": "@jupyter-widgets/base",
            "_model_module_version": "1.2.0",
            "_model_name": "LayoutModel",
            "_view_count": null,
            "_view_module": "@jupyter-widgets/base",
            "_view_module_version": "1.2.0",
            "_view_name": "LayoutView",
            "align_content": null,
            "align_items": null,
            "align_self": null,
            "border": null,
            "bottom": null,
            "display": null,
            "flex": null,
            "flex_flow": null,
            "grid_area": null,
            "grid_auto_columns": null,
            "grid_auto_flow": null,
            "grid_auto_rows": null,
            "grid_column": null,
            "grid_gap": null,
            "grid_row": null,
            "grid_template_areas": null,
            "grid_template_columns": null,
            "grid_template_rows": null,
            "height": null,
            "justify_content": null,
            "justify_items": null,
            "left": null,
            "margin": null,
            "max_height": null,
            "max_width": null,
            "min_height": null,
            "min_width": null,
            "object_fit": null,
            "object_position": null,
            "order": null,
            "overflow": null,
            "overflow_x": null,
            "overflow_y": null,
            "padding": null,
            "right": null,
            "top": null,
            "visibility": null,
            "width": null
          }
        },
        "da1180560dab457a8c2fe99287c379e4": {
          "model_module": "@jupyter-widgets/controls",
          "model_module_version": "1.5.0",
          "model_name": "DescriptionStyleModel",
          "state": {
            "_model_module": "@jupyter-widgets/controls",
            "_model_module_version": "1.5.0",
            "_model_name": "DescriptionStyleModel",
            "_view_count": null,
            "_view_module": "@jupyter-widgets/base",
            "_view_module_version": "1.2.0",
            "_view_name": "StyleView",
            "description_width": ""
          }
        },
        "e1dc03090af84e728d8a123d87c44252": {
          "model_module": "@jupyter-widgets/controls",
          "model_module_version": "1.5.0",
          "model_name": "ProgressStyleModel",
          "state": {
            "_model_module": "@jupyter-widgets/controls",
            "_model_module_version": "1.5.0",
            "_model_name": "ProgressStyleModel",
            "_view_count": null,
            "_view_module": "@jupyter-widgets/base",
            "_view_module_version": "1.2.0",
            "_view_name": "StyleView",
            "bar_color": null,
            "description_width": ""
          }
        },
        "e7940d80138a4d6aa5101fb8f1eda295": {
          "model_module": "@jupyter-widgets/controls",
          "model_module_version": "1.5.0",
          "model_name": "FloatProgressModel",
          "state": {
            "_dom_classes": [],
            "_model_module": "@jupyter-widgets/controls",
            "_model_module_version": "1.5.0",
            "_model_name": "FloatProgressModel",
            "_view_count": null,
            "_view_module": "@jupyter-widgets/controls",
            "_view_module_version": "1.5.0",
            "_view_name": "ProgressView",
            "bar_style": "success",
            "description": "",
            "description_tooltip": null,
            "layout": "IPY_MODEL_b75cfd8e81fe41b1bbb098878a5e86d6",
            "max": 231508,
            "min": 0,
            "orientation": "horizontal",
            "style": "IPY_MODEL_fe3bf568d17245b2aa1640d0fa1e2bc9",
            "value": 231508
          }
        },
        "ed335ac9485d4023a0d29701686139da": {
          "model_module": "@jupyter-widgets/base",
          "model_module_version": "1.2.0",
          "model_name": "LayoutModel",
          "state": {
            "_model_module": "@jupyter-widgets/base",
            "_model_module_version": "1.2.0",
            "_model_name": "LayoutModel",
            "_view_count": null,
            "_view_module": "@jupyter-widgets/base",
            "_view_module_version": "1.2.0",
            "_view_name": "LayoutView",
            "align_content": null,
            "align_items": null,
            "align_self": null,
            "border": null,
            "bottom": null,
            "display": null,
            "flex": null,
            "flex_flow": null,
            "grid_area": null,
            "grid_auto_columns": null,
            "grid_auto_flow": null,
            "grid_auto_rows": null,
            "grid_column": null,
            "grid_gap": null,
            "grid_row": null,
            "grid_template_areas": null,
            "grid_template_columns": null,
            "grid_template_rows": null,
            "height": null,
            "justify_content": null,
            "justify_items": null,
            "left": null,
            "margin": null,
            "max_height": null,
            "max_width": null,
            "min_height": null,
            "min_width": null,
            "object_fit": null,
            "object_position": null,
            "order": null,
            "overflow": null,
            "overflow_x": null,
            "overflow_y": null,
            "padding": null,
            "right": null,
            "top": null,
            "visibility": null,
            "width": null
          }
        },
        "f35f097148c6427ea74218e4530a3fe7": {
          "model_module": "@jupyter-widgets/controls",
          "model_module_version": "1.5.0",
          "model_name": "DescriptionStyleModel",
          "state": {
            "_model_module": "@jupyter-widgets/controls",
            "_model_module_version": "1.5.0",
            "_model_name": "DescriptionStyleModel",
            "_view_count": null,
            "_view_module": "@jupyter-widgets/base",
            "_view_module_version": "1.2.0",
            "_view_name": "StyleView",
            "description_width": ""
          }
        },
        "fae4e4b23c904f2db5c02e5507a9d588": {
          "model_module": "@jupyter-widgets/base",
          "model_module_version": "1.2.0",
          "model_name": "LayoutModel",
          "state": {
            "_model_module": "@jupyter-widgets/base",
            "_model_module_version": "1.2.0",
            "_model_name": "LayoutModel",
            "_view_count": null,
            "_view_module": "@jupyter-widgets/base",
            "_view_module_version": "1.2.0",
            "_view_name": "LayoutView",
            "align_content": null,
            "align_items": null,
            "align_self": null,
            "border": null,
            "bottom": null,
            "display": null,
            "flex": null,
            "flex_flow": null,
            "grid_area": null,
            "grid_auto_columns": null,
            "grid_auto_flow": null,
            "grid_auto_rows": null,
            "grid_column": null,
            "grid_gap": null,
            "grid_row": null,
            "grid_template_areas": null,
            "grid_template_columns": null,
            "grid_template_rows": null,
            "height": null,
            "justify_content": null,
            "justify_items": null,
            "left": null,
            "margin": null,
            "max_height": null,
            "max_width": null,
            "min_height": null,
            "min_width": null,
            "object_fit": null,
            "object_position": null,
            "order": null,
            "overflow": null,
            "overflow_x": null,
            "overflow_y": null,
            "padding": null,
            "right": null,
            "top": null,
            "visibility": null,
            "width": null
          }
        },
        "fc5895883dd8411eba71e4dd57f6fe32": {
          "model_module": "@jupyter-widgets/controls",
          "model_module_version": "1.5.0",
          "model_name": "HTMLModel",
          "state": {
            "_dom_classes": [],
            "_model_module": "@jupyter-widgets/controls",
            "_model_module_version": "1.5.0",
            "_model_name": "HTMLModel",
            "_view_count": null,
            "_view_module": "@jupyter-widgets/controls",
            "_view_module_version": "1.5.0",
            "_view_name": "HTMLView",
            "description": "",
            "description_tooltip": null,
            "layout": "IPY_MODEL_af0260194ef748ca9f896805b90e6008",
            "placeholder": "​",
            "style": "IPY_MODEL_7bc23815bb2842f7b7314663c622869b",
            "value": "tokenizer_config.json: 100%"
          }
        },
        "fdee31d06ae64bee94b3b76f7bd00ab6": {
          "model_module": "@jupyter-widgets/controls",
          "model_module_version": "1.5.0",
          "model_name": "HTMLModel",
          "state": {
            "_dom_classes": [],
            "_model_module": "@jupyter-widgets/controls",
            "_model_module_version": "1.5.0",
            "_model_name": "HTMLModel",
            "_view_count": null,
            "_view_module": "@jupyter-widgets/controls",
            "_view_module_version": "1.5.0",
            "_view_name": "HTMLView",
            "description": "",
            "description_tooltip": null,
            "layout": "IPY_MODEL_40cd433bb142496ab2c741e5d1f28cde",
            "placeholder": "​",
            "style": "IPY_MODEL_08120efcfbeb4c279693f26deb7d5372",
            "value": " 48.0/48.0 [00:00&lt;00:00, 1.48kB/s]"
          }
        },
        "fe3bf568d17245b2aa1640d0fa1e2bc9": {
          "model_module": "@jupyter-widgets/controls",
          "model_module_version": "1.5.0",
          "model_name": "ProgressStyleModel",
          "state": {
            "_model_module": "@jupyter-widgets/controls",
            "_model_module_version": "1.5.0",
            "_model_name": "ProgressStyleModel",
            "_view_count": null,
            "_view_module": "@jupyter-widgets/base",
            "_view_module_version": "1.2.0",
            "_view_name": "StyleView",
            "bar_color": null,
            "description_width": ""
          }
        }
      }
    }
  },
  "nbformat": 4,
  "nbformat_minor": 0
}
